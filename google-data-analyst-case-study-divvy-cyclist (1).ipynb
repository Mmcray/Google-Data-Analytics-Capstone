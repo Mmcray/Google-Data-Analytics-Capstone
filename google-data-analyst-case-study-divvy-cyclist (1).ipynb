{
 "cells": [
  {
   "cell_type": "markdown",
   "id": "greenhouse-characterization",
   "metadata": {
    "papermill": {
     "duration": 0.130003,
     "end_time": "2021-06-03T19:21:35.469047",
     "exception": false,
     "start_time": "2021-06-03T19:21:35.339044",
     "status": "completed"
    },
    "tags": []
   },
   "source": [
    "# Google Data Analyst Professional: \n",
    "\n",
    "### Case Study: Cyclist Bike Share\n"
   ]
  },
  {
   "cell_type": "markdown",
   "id": "polish-france",
   "metadata": {
    "papermill": {
     "duration": 0.133687,
     "end_time": "2021-06-03T19:21:35.743560",
     "exception": false,
     "start_time": "2021-06-03T19:21:35.609873",
     "status": "completed"
    },
    "tags": []
   },
   "source": [
    "### The following is a case study done as part of Google's Data Analyst Professional certification. \n",
    "\n",
    "**Note:**  While the course does not include Python, I've decided to use it for this case study.  Some of the steps were done more for fun then for time efficiency.  The case study includes some guided steps that I diverge from slightly.  I acknowledge that there would have been faster or more efficient methods if this were a real assignment. \n",
    "\n",
    "Additionally, this document is reflective of the process as outlined in the course, not as a final stakeholder deliverable."
   ]
  },
  {
   "cell_type": "markdown",
   "id": "lesbian-amino",
   "metadata": {
    "papermill": {
     "duration": 0.129011,
     "end_time": "2021-06-03T19:21:36.001864",
     "exception": false,
     "start_time": "2021-06-03T19:21:35.872853",
     "status": "completed"
    },
    "tags": []
   },
   "source": [
    "### Intro Summary: \n",
    "\n",
    "We work for the marketing department for a bike share company out of Chicago.  The company has three payment methods: single ride, full day passes, and annual memberships.  Annual membership holders are considered members, while all others are considered casual riders.  The companies marketing strategy has to now been based around building awareness and appealing to a large audience.  The marketing director, Moreno, believes that the future of the company resides in turning more casual riders into members and wants to focus the marketing strategy, but requires approval from the executive team.\n",
    "\n"
   ]
  },
  {
   "cell_type": "markdown",
   "id": "irish-paradise",
   "metadata": {
    "papermill": {
     "duration": 0.132715,
     "end_time": "2021-06-03T19:21:36.265256",
     "exception": false,
     "start_time": "2021-06-03T19:21:36.132541",
     "status": "completed"
    },
    "tags": []
   },
   "source": [
    "#### We are assigned the question:\n",
    "\n",
    "How do annual members and casual riders use Cyclistic bikes differently?\n",
    "    \n",
    "Following the **ask, prepare, process, analyze, share and act** data analysis process you are to deliver a report including:\n",
    "- A clear statement of the business task\n",
    "- A description of all data sources used\n",
    "- Documentation of any cleaning or manipulation of data\n",
    "- A summary of your analysis\n",
    "- Supporting visualizations and key findings\n",
    "- Your top three recomendations based on your analysis"
   ]
  },
  {
   "cell_type": "markdown",
   "id": "adolescent-necessity",
   "metadata": {
    "papermill": {
     "duration": 0.127519,
     "end_time": "2021-06-03T19:21:36.522791",
     "exception": false,
     "start_time": "2021-06-03T19:21:36.395272",
     "status": "completed"
    },
    "tags": []
   },
   "source": [
    "# ASK\n",
    "\n",
    "What problem are we trying to solve and how will it drive business decisions?"
   ]
  },
  {
   "cell_type": "markdown",
   "id": "becoming-interval",
   "metadata": {
    "papermill": {
     "duration": 0.13156,
     "end_time": "2021-06-03T19:21:36.786488",
     "exception": false,
     "start_time": "2021-06-03T19:21:36.654928",
     "status": "completed"
    },
    "tags": []
   },
   "source": [
    "#### Key Stakeholders:\n",
    "- Moreno, Director of Marketing and your boss, is certain the key to the company's future is turning casual riders into members.\n",
    "\n",
    "- The executive team who will be deciding whether to move forward with the marketing program.  All we know is that they are described as 'detail-oriented'"
   ]
  },
  {
   "cell_type": "markdown",
   "id": "minimal-italian",
   "metadata": {
    "papermill": {
     "duration": 0.128125,
     "end_time": "2021-06-03T19:21:37.042164",
     "exception": false,
     "start_time": "2021-06-03T19:21:36.914039",
     "status": "completed"
    },
    "tags": []
   },
   "source": [
    "#### Facts worth note in the case study:\n",
    "- Cyclist has 5824 bicycles and 692 docking stations all in Chicago\n",
    "- Cyclist offers reclinging bikes, hand tricycles and cargo bikes to aid with riders who may have dissabilities.  \n",
    " - These only make up for ~8 of riders\n",
    "- 30% of cyclists ride to commute to work each day "
   ]
  },
  {
   "cell_type": "markdown",
   "id": "successful-daughter",
   "metadata": {
    "papermill": {
     "duration": 0.130708,
     "end_time": "2021-06-03T19:21:37.301857",
     "exception": false,
     "start_time": "2021-06-03T19:21:37.171149",
     "status": "completed"
    },
    "tags": []
   },
   "source": [
    "#### Potential Bias' to keep in mind:\n",
    "- Your told that membership holders are more profitable.  It makes logical sense, but we have not seen any data to back that up.\n",
    "- Moreno appears to have already decided the course of action, market towards casual riders to get more members.  They may be looking to steer the data to prove this point.\n",
    "- Moreno believes that casual riders are already aware of membership offerings."
   ]
  },
  {
   "cell_type": "markdown",
   "id": "underlying-youth",
   "metadata": {
    "papermill": {
     "duration": 0.129572,
     "end_time": "2021-06-03T19:21:37.558537",
     "exception": false,
     "start_time": "2021-06-03T19:21:37.428965",
     "status": "completed"
    },
    "tags": []
   },
   "source": [
    "## Business task:\n",
    "\n",
    "With the provided data what can we determine about the ways casual riders and members use Cyclistic bikes, what tendancies they share, and how do they differ."
   ]
  },
  {
   "cell_type": "markdown",
   "id": "appreciated-proof",
   "metadata": {
    "papermill": {
     "duration": 0.127485,
     "end_time": "2021-06-03T19:21:37.820658",
     "exception": false,
     "start_time": "2021-06-03T19:21:37.693173",
     "status": "completed"
    },
    "tags": []
   },
   "source": [
    "# Prepare\n",
    "\n",
    "Locate, Organize and Verify the Data"
   ]
  },
  {
   "cell_type": "markdown",
   "id": "confident-mobility",
   "metadata": {
    "papermill": {
     "duration": 0.13237,
     "end_time": "2021-06-03T19:21:38.082328",
     "exception": false,
     "start_time": "2021-06-03T19:21:37.949958",
     "status": "completed"
    },
    "tags": []
   },
   "source": [
    "### Data Summary:\n",
    "\n",
    "We are provided zip files from an Amazon S3 Cloud storage including monthly and quarterly data since the company started.\n",
    "\n",
    "We download the last 12 months (April 2020 - April 2021) which include csv files with data on:\n",
    "- ride_id\n",
    "- rideable_type\n",
    "- start & end times, stations and longitute/latitude\n",
    "- rider status: member or casual\n",
    "\n",
    "### Data Acquisition method:\n",
    "\n",
    "Currently unknown\n",
    "\n",
    "### Data Licensing:\n",
    "\n",
    "Can be found [here](https://www.divvybikes.com/data-license-agreement)\n",
    "\n",
    "### Data organization and verification:\n",
    "\n",
    "These files contain 10s of thousands of rows each.  \n",
    "\n",
    "Due to the amount of data, we will use Python via Jupyter Notebook and clean/view/merge our data with the Pandas library.  "
   ]
  },
  {
   "cell_type": "markdown",
   "id": "sufficient-dating",
   "metadata": {
    "papermill": {
     "duration": 0.1306,
     "end_time": "2021-06-03T19:21:38.344985",
     "exception": false,
     "start_time": "2021-06-03T19:21:38.214385",
     "status": "completed"
    },
    "tags": []
   },
   "source": [
    "### For this notebook, I loaded and merged all files with pandas, as described below, and then uploaded to kaggle\n",
    "\n",
    "The merged, pre-cleaned dataset can be found here: [Divvy Cyclist Dataset](https://www.kaggle.com/michaelmcray/divvy-cyclist-04-20-to-04-21)\n",
    "\n",
    "```\n",
    "import pandas as pd\n",
    "import numpy as np\n",
    "\n",
    "#List to hold dataframes\n",
    "df_list = []\n",
    "\n",
    "for file in /file_location/csv_files:\n",
    "    df_csv = pd.read_csv(file)\n",
    "    df_list.append(df_csv)\n",
    "    \n",
    "#Ensure all 13 files were added to the list\n",
    "print(len(df_list))\n",
    "```\n",
    "\n",
    "#### Use Concat to combine all files into single dataframe\n",
    "\n",
    "`df = pd.concat(df_list, axis=0)`"
   ]
  },
  {
   "cell_type": "markdown",
   "id": "afraid-aberdeen",
   "metadata": {
    "papermill": {
     "duration": 0.134959,
     "end_time": "2021-06-03T19:21:38.606866",
     "exception": false,
     "start_time": "2021-06-03T19:21:38.471907",
     "status": "completed"
    },
    "tags": []
   },
   "source": [
    "## Let's get started  with our data:  \n",
    "\n",
    "#### We'll import our libraries for analysis and load our merged csv."
   ]
  },
  {
   "cell_type": "code",
   "execution_count": 1,
   "id": "bright-nashville",
   "metadata": {
    "execution": {
     "iopub.execute_input": "2021-06-03T19:21:38.871300Z",
     "iopub.status.busy": "2021-06-03T19:21:38.870657Z",
     "iopub.status.idle": "2021-06-03T19:21:38.873995Z",
     "shell.execute_reply": "2021-06-03T19:21:38.873408Z",
     "shell.execute_reply.started": "2021-05-28T08:32:54.921675Z"
    },
    "papermill": {
     "duration": 0.138598,
     "end_time": "2021-06-03T19:21:38.874182",
     "exception": false,
     "start_time": "2021-06-03T19:21:38.735584",
     "status": "completed"
    },
    "tags": []
   },
   "outputs": [],
   "source": [
    "import pandas as pd\n",
    "import numpy as np"
   ]
  },
  {
   "cell_type": "code",
   "execution_count": 2,
   "id": "peripheral-inspiration",
   "metadata": {
    "execution": {
     "iopub.execute_input": "2021-06-03T19:21:39.128656Z",
     "iopub.status.busy": "2021-06-03T19:21:39.128038Z",
     "iopub.status.idle": "2021-06-03T19:22:06.472737Z",
     "shell.execute_reply": "2021-06-03T19:22:06.472148Z",
     "shell.execute_reply.started": "2021-05-28T08:33:22.832116Z"
    },
    "papermill": {
     "duration": 27.474061,
     "end_time": "2021-06-03T19:22:06.472888",
     "exception": false,
     "start_time": "2021-06-03T19:21:38.998827",
     "status": "completed"
    },
    "tags": []
   },
   "outputs": [],
   "source": [
    "df = pd.read_csv('../input/divvy-cyclist-04-20-to-04-21/Divvy_Cyclist.csv', low_memory=False)"
   ]
  },
  {
   "cell_type": "markdown",
   "id": "grateful-plymouth",
   "metadata": {
    "papermill": {
     "duration": 0.144434,
     "end_time": "2021-06-03T19:22:06.744523",
     "exception": false,
     "start_time": "2021-06-03T19:22:06.600089",
     "status": "completed"
    },
    "tags": []
   },
   "source": [
    "## Begin Inspecting:\n",
    "\n",
    "We'll look through our data for nulls, duplicates, poor formatting and outliers.\n",
    "\n",
    "### Check number of rows and columns:"
   ]
  },
  {
   "cell_type": "code",
   "execution_count": 3,
   "id": "conceptual-reggae",
   "metadata": {
    "execution": {
     "iopub.execute_input": "2021-06-03T19:22:07.006251Z",
     "iopub.status.busy": "2021-06-03T19:22:07.005509Z",
     "iopub.status.idle": "2021-06-03T19:22:07.009405Z",
     "shell.execute_reply": "2021-06-03T19:22:07.008860Z",
     "shell.execute_reply.started": "2021-05-28T08:35:50.999238Z"
    },
    "papermill": {
     "duration": 0.133072,
     "end_time": "2021-06-03T19:22:07.009542",
     "exception": false,
     "start_time": "2021-06-03T19:22:06.876470",
     "status": "completed"
    },
    "tags": []
   },
   "outputs": [
    {
     "name": "stdout",
     "output_type": "stream",
     "text": [
      "(3826978, 13)\n"
     ]
    }
   ],
   "source": [
    "print(df.shape)"
   ]
  },
  {
   "cell_type": "markdown",
   "id": "peaceful-quarter",
   "metadata": {
    "papermill": {
     "duration": 0.126206,
     "end_time": "2021-06-03T19:22:07.262802",
     "exception": false,
     "start_time": "2021-06-03T19:22:07.136596",
     "status": "completed"
    },
    "tags": []
   },
   "source": [
    "### Check our available column names and data types"
   ]
  },
  {
   "cell_type": "code",
   "execution_count": 4,
   "id": "graduate-fault",
   "metadata": {
    "execution": {
     "iopub.execute_input": "2021-06-03T19:22:07.524796Z",
     "iopub.status.busy": "2021-06-03T19:22:07.524055Z",
     "iopub.status.idle": "2021-06-03T19:22:07.527462Z",
     "shell.execute_reply": "2021-06-03T19:22:07.527896Z",
     "shell.execute_reply.started": "2021-05-28T05:19:19.004975Z"
    },
    "papermill": {
     "duration": 0.13907,
     "end_time": "2021-06-03T19:22:07.528090",
     "exception": false,
     "start_time": "2021-06-03T19:22:07.389020",
     "status": "completed"
    },
    "tags": []
   },
   "outputs": [
    {
     "name": "stdout",
     "output_type": "stream",
     "text": [
      "ride_id                object\n",
      "rideable_type          object\n",
      "started_at             object\n",
      "ended_at               object\n",
      "start_station_name     object\n",
      "start_station_id       object\n",
      "end_station_name       object\n",
      "end_station_id         object\n",
      "start_lat             float64\n",
      "start_lng             float64\n",
      "end_lat               float64\n",
      "end_lng               float64\n",
      "member_casual          object\n",
      "dtype: object\n"
     ]
    }
   ],
   "source": [
    "print(df.dtypes)\n"
   ]
  },
  {
   "cell_type": "markdown",
   "id": "polyphonic-couple",
   "metadata": {
    "papermill": {
     "duration": 0.180776,
     "end_time": "2021-06-03T19:22:07.838332",
     "exception": false,
     "start_time": "2021-06-03T19:22:07.657556",
     "status": "completed"
    },
    "tags": []
   },
   "source": [
    "**Note**:\n",
    "- started_at & ended_at should be datetime columns, but are showing as object.\n",
    " - Object means the columns may have string or mixed data.  \n",
    " - We'll need to investigate further."
   ]
  },
  {
   "cell_type": "markdown",
   "id": "effective-cattle",
   "metadata": {
    "papermill": {
     "duration": 0.127397,
     "end_time": "2021-06-03T19:22:08.091543",
     "exception": false,
     "start_time": "2021-06-03T19:22:07.964146",
     "status": "completed"
    },
    "tags": []
   },
   "source": [
    "### Check for Null values"
   ]
  },
  {
   "cell_type": "code",
   "execution_count": 5,
   "id": "active-animal",
   "metadata": {
    "execution": {
     "iopub.execute_input": "2021-06-03T19:22:08.349661Z",
     "iopub.status.busy": "2021-06-03T19:22:08.348525Z",
     "iopub.status.idle": "2021-06-03T19:22:11.449371Z",
     "shell.execute_reply": "2021-06-03T19:22:11.448308Z",
     "shell.execute_reply.started": "2021-05-28T05:19:19.022819Z"
    },
    "papermill": {
     "duration": 3.231138,
     "end_time": "2021-06-03T19:22:11.449530",
     "exception": false,
     "start_time": "2021-06-03T19:22:08.218392",
     "status": "completed"
    },
    "tags": []
   },
   "outputs": [
    {
     "data": {
      "text/plain": [
       "ride_id                    0\n",
       "rideable_type              0\n",
       "started_at                 0\n",
       "ended_at                   0\n",
       "start_station_name    148231\n",
       "start_station_id      148857\n",
       "end_station_name      171416\n",
       "end_station_id        171877\n",
       "start_lat                  0\n",
       "start_lng                  0\n",
       "end_lat                 5005\n",
       "end_lng                 5005\n",
       "member_casual              0\n",
       "dtype: int64"
      ]
     },
     "execution_count": 5,
     "metadata": {},
     "output_type": "execute_result"
    }
   ],
   "source": [
    "df.isna().sum()"
   ]
  },
  {
   "cell_type": "markdown",
   "id": "dramatic-playback",
   "metadata": {
    "papermill": {
     "duration": 0.132226,
     "end_time": "2021-06-03T19:22:11.708612",
     "exception": false,
     "start_time": "2021-06-03T19:22:11.576386",
     "status": "completed"
    },
    "tags": []
   },
   "source": [
    "**Note**:\n",
    "- Sizable amount of nulls in the station columns (~20%).  \n",
    "- Ended up deleting after further evaluation."
   ]
  },
  {
   "cell_type": "markdown",
   "id": "centered-abuse",
   "metadata": {
    "papermill": {
     "duration": 0.126436,
     "end_time": "2021-06-03T19:22:11.961911",
     "exception": false,
     "start_time": "2021-06-03T19:22:11.835475",
     "status": "completed"
    },
    "tags": []
   },
   "source": [
    "### Quickview of our first 5 rows"
   ]
  },
  {
   "cell_type": "code",
   "execution_count": 6,
   "id": "circular-palace",
   "metadata": {
    "execution": {
     "iopub.execute_input": "2021-06-03T19:22:12.221918Z",
     "iopub.status.busy": "2021-06-03T19:22:12.221319Z",
     "iopub.status.idle": "2021-06-03T19:22:12.236473Z",
     "shell.execute_reply": "2021-06-03T19:22:12.235867Z",
     "shell.execute_reply.started": "2021-05-28T05:19:21.884922Z"
    },
    "papermill": {
     "duration": 0.147169,
     "end_time": "2021-06-03T19:22:12.236633",
     "exception": false,
     "start_time": "2021-06-03T19:22:12.089464",
     "status": "completed"
    },
    "tags": []
   },
   "outputs": [
    {
     "name": "stdout",
     "output_type": "stream",
     "text": [
      "            ride_id rideable_type           started_at             ended_at  \\\n",
      "0  A847FADBBC638E45   docked_bike  2020-04-26 17:45:14  2020-04-26 18:12:03   \n",
      "1  5405B80E996FF60D   docked_bike  2020-04-17 17:08:54  2020-04-17 17:17:03   \n",
      "2  5DD24A79A4E006F4   docked_bike  2020-04-01 17:54:13  2020-04-01 18:08:36   \n",
      "3  2A59BBDF5CDBA725   docked_bike  2020-04-07 12:50:19  2020-04-07 13:02:31   \n",
      "4  27AD306C119C6158   docked_bike  2020-04-18 10:22:59  2020-04-18 11:15:54   \n",
      "\n",
      "             start_station_name start_station_id             end_station_name  \\\n",
      "0                  Eckhart Park               86  Lincoln Ave & Diversey Pkwy   \n",
      "1     Drake Ave & Fullerton Ave              503              Kosciuszko Park   \n",
      "2          McClurg Ct & Erie St              142   Indiana Ave & Roosevelt Rd   \n",
      "3  California Ave & Division St              216       Wood St & Augusta Blvd   \n",
      "4          Rush St & Hubbard St              125   Sheridan Rd & Lawrence Ave   \n",
      "\n",
      "  end_station_id  start_lat  start_lng  end_lat  end_lng member_casual  \n",
      "0          152.0    41.8964   -87.6610  41.9322 -87.6586        member  \n",
      "1          499.0    41.9244   -87.7154  41.9306 -87.7238        member  \n",
      "2          255.0    41.8945   -87.6179  41.8679 -87.6230        member  \n",
      "3          657.0    41.9030   -87.6975  41.8992 -87.6722        member  \n",
      "4          323.0    41.8902   -87.6262  41.9695 -87.6547        casual  \n"
     ]
    }
   ],
   "source": [
    "print(df.head())"
   ]
  },
  {
   "cell_type": "markdown",
   "id": "polish-former",
   "metadata": {
    "papermill": {
     "duration": 0.129307,
     "end_time": "2021-06-03T19:22:12.493422",
     "exception": false,
     "start_time": "2021-06-03T19:22:12.364115",
     "status": "completed"
    },
    "tags": []
   },
   "source": [
    "### Check for duplicate rows"
   ]
  },
  {
   "cell_type": "code",
   "execution_count": 7,
   "id": "abroad-particular",
   "metadata": {
    "execution": {
     "iopub.execute_input": "2021-06-03T19:22:12.757609Z",
     "iopub.status.busy": "2021-06-03T19:22:12.756886Z",
     "iopub.status.idle": "2021-06-03T19:22:12.762125Z",
     "shell.execute_reply": "2021-06-03T19:22:12.762578Z",
     "shell.execute_reply.started": "2021-05-28T05:19:21.90029Z"
    },
    "papermill": {
     "duration": 0.136105,
     "end_time": "2021-06-03T19:22:12.762752",
     "exception": false,
     "start_time": "2021-06-03T19:22:12.626647",
     "status": "completed"
    },
    "tags": []
   },
   "outputs": [
    {
     "data": {
      "text/plain": [
       "(3826978, 13)"
      ]
     },
     "execution_count": 7,
     "metadata": {},
     "output_type": "execute_result"
    }
   ],
   "source": [
    "df.shape"
   ]
  },
  {
   "cell_type": "code",
   "execution_count": 8,
   "id": "finished-columbia",
   "metadata": {
    "execution": {
     "iopub.execute_input": "2021-06-03T19:22:13.252530Z",
     "iopub.status.busy": "2021-06-03T19:22:13.094123Z",
     "iopub.status.idle": "2021-06-03T19:22:27.672061Z",
     "shell.execute_reply": "2021-06-03T19:22:27.671330Z",
     "shell.execute_reply.started": "2021-05-28T05:19:21.918187Z"
    },
    "papermill": {
     "duration": 14.780418,
     "end_time": "2021-06-03T19:22:27.672269",
     "exception": false,
     "start_time": "2021-06-03T19:22:12.891851",
     "status": "completed"
    },
    "tags": []
   },
   "outputs": [
    {
     "name": "stdout",
     "output_type": "stream",
     "text": [
      "(0, 13)\n"
     ]
    }
   ],
   "source": [
    "duplicate_df = df[df.duplicated()]\n",
    "print(duplicate_df.shape)"
   ]
  },
  {
   "cell_type": "markdown",
   "id": "about-alexander",
   "metadata": {
    "papermill": {
     "duration": 0.128132,
     "end_time": "2021-06-03T19:22:27.930043",
     "exception": false,
     "start_time": "2021-06-03T19:22:27.801911",
     "status": "completed"
    },
    "tags": []
   },
   "source": [
    "**0 duplicated rows, great!**"
   ]
  },
  {
   "cell_type": "markdown",
   "id": "administrative-seafood",
   "metadata": {
    "papermill": {
     "duration": 0.126818,
     "end_time": "2021-06-03T19:22:28.185498",
     "exception": false,
     "start_time": "2021-06-03T19:22:28.058680",
     "status": "completed"
    },
    "tags": []
   },
   "source": [
    "### Check if ids unique or specific to rider/location"
   ]
  },
  {
   "cell_type": "code",
   "execution_count": 9,
   "id": "celtic-moore",
   "metadata": {
    "execution": {
     "iopub.execute_input": "2021-06-03T19:22:28.669494Z",
     "iopub.status.busy": "2021-06-03T19:22:28.668781Z",
     "iopub.status.idle": "2021-06-03T19:22:31.374246Z",
     "shell.execute_reply": "2021-06-03T19:22:31.374888Z",
     "shell.execute_reply.started": "2021-05-28T05:19:38.207536Z"
    },
    "papermill": {
     "duration": 3.06252,
     "end_time": "2021-06-03T19:22:31.375153",
     "exception": false,
     "start_time": "2021-06-03T19:22:28.312633",
     "status": "completed"
    },
    "tags": []
   },
   "outputs": [
    {
     "name": "stdout",
     "output_type": "stream",
     "text": [
      "3826769 1876 1353\n"
     ]
    }
   ],
   "source": [
    "id_ride = df.ride_id.unique()\n",
    "id_start = df.start_station_id.unique()\n",
    "id_end = df.end_station_id.unique()\n",
    "print(len(id_ride), len(id_start), len(id_end))"
   ]
  },
  {
   "cell_type": "markdown",
   "id": "hairy-ranch",
   "metadata": {
    "papermill": {
     "duration": 0.132326,
     "end_time": "2021-06-03T19:22:31.638259",
     "exception": false,
     "start_time": "2021-06-03T19:22:31.505933",
     "status": "completed"
    },
    "tags": []
   },
   "source": [
    "- id_ride = approximately 3826800;\n",
    "- id_start, id_end were ~1800"
   ]
  },
  {
   "cell_type": "markdown",
   "id": "reduced-medicaid",
   "metadata": {
    "papermill": {
     "duration": 0.129898,
     "end_time": "2021-06-03T19:22:31.905333",
     "exception": false,
     "start_time": "2021-06-03T19:22:31.775435",
     "status": "completed"
    },
    "tags": []
   },
   "source": [
    "#### id_ride is apparently unique while station id is tied to station name\n",
    "- We'll delete the id_ride column since we're not planning to use SQL and currently don't need a unique column\n",
    "- Well delete the station id's because the station names will be easier for our stakeholder's to understand"
   ]
  },
  {
   "cell_type": "markdown",
   "id": "happy-cycle",
   "metadata": {
    "papermill": {
     "duration": 0.129169,
     "end_time": "2021-06-03T19:22:32.165095",
     "exception": false,
     "start_time": "2021-06-03T19:22:32.035926",
     "status": "completed"
    },
    "tags": []
   },
   "source": [
    "### Delete Columns"
   ]
  },
  {
   "cell_type": "code",
   "execution_count": 10,
   "id": "located-person",
   "metadata": {
    "execution": {
     "iopub.execute_input": "2021-06-03T19:22:32.897592Z",
     "iopub.status.busy": "2021-06-03T19:22:32.896865Z",
     "iopub.status.idle": "2021-06-03T19:22:32.900165Z",
     "shell.execute_reply": "2021-06-03T19:22:32.899473Z",
     "shell.execute_reply.started": "2021-05-28T05:19:42.114842Z"
    },
    "papermill": {
     "duration": 0.605017,
     "end_time": "2021-06-03T19:22:32.900311",
     "exception": false,
     "start_time": "2021-06-03T19:22:32.295294",
     "status": "completed"
    },
    "tags": []
   },
   "outputs": [],
   "source": [
    "df = df.drop(['ride_id', 'start_station_id', 'end_station_id'], axis = 1)"
   ]
  },
  {
   "cell_type": "markdown",
   "id": "eligible-killing",
   "metadata": {
    "papermill": {
     "duration": 0.130974,
     "end_time": "2021-06-03T19:22:33.161061",
     "exception": false,
     "start_time": "2021-06-03T19:22:33.030087",
     "status": "completed"
    },
    "tags": []
   },
   "source": [
    "### Rename Columns"
   ]
  },
  {
   "cell_type": "code",
   "execution_count": 11,
   "id": "affiliated-mainstream",
   "metadata": {
    "execution": {
     "iopub.execute_input": "2021-06-03T19:22:33.758569Z",
     "iopub.status.busy": "2021-06-03T19:22:33.757159Z",
     "iopub.status.idle": "2021-06-03T19:22:33.930836Z",
     "shell.execute_reply": "2021-06-03T19:22:33.930342Z",
     "shell.execute_reply.started": "2021-05-28T05:19:42.773789Z"
    },
    "papermill": {
     "duration": 0.639091,
     "end_time": "2021-06-03T19:22:33.930990",
     "exception": false,
     "start_time": "2021-06-03T19:22:33.291899",
     "status": "completed"
    },
    "tags": []
   },
   "outputs": [
    {
     "data": {
      "text/html": [
       "<div>\n",
       "<style scoped>\n",
       "    .dataframe tbody tr th:only-of-type {\n",
       "        vertical-align: middle;\n",
       "    }\n",
       "\n",
       "    .dataframe tbody tr th {\n",
       "        vertical-align: top;\n",
       "    }\n",
       "\n",
       "    .dataframe thead th {\n",
       "        text-align: right;\n",
       "    }\n",
       "</style>\n",
       "<table border=\"1\" class=\"dataframe\">\n",
       "  <thead>\n",
       "    <tr style=\"text-align: right;\">\n",
       "      <th></th>\n",
       "      <th>Bike_Type</th>\n",
       "      <th>Start_Time</th>\n",
       "      <th>End_Time</th>\n",
       "      <th>Starting_Station</th>\n",
       "      <th>Ending_Station</th>\n",
       "      <th>Starting_Latitude</th>\n",
       "      <th>Starting_Longitude</th>\n",
       "      <th>Ending_Latitude</th>\n",
       "      <th>Ending_Longitude</th>\n",
       "      <th>Rider_Status</th>\n",
       "    </tr>\n",
       "  </thead>\n",
       "  <tbody>\n",
       "    <tr>\n",
       "      <th>0</th>\n",
       "      <td>docked_bike</td>\n",
       "      <td>2020-04-26 17:45:14</td>\n",
       "      <td>2020-04-26 18:12:03</td>\n",
       "      <td>Eckhart Park</td>\n",
       "      <td>Lincoln Ave &amp; Diversey Pkwy</td>\n",
       "      <td>41.8964</td>\n",
       "      <td>-87.6610</td>\n",
       "      <td>41.9322</td>\n",
       "      <td>-87.6586</td>\n",
       "      <td>member</td>\n",
       "    </tr>\n",
       "    <tr>\n",
       "      <th>1</th>\n",
       "      <td>docked_bike</td>\n",
       "      <td>2020-04-17 17:08:54</td>\n",
       "      <td>2020-04-17 17:17:03</td>\n",
       "      <td>Drake Ave &amp; Fullerton Ave</td>\n",
       "      <td>Kosciuszko Park</td>\n",
       "      <td>41.9244</td>\n",
       "      <td>-87.7154</td>\n",
       "      <td>41.9306</td>\n",
       "      <td>-87.7238</td>\n",
       "      <td>member</td>\n",
       "    </tr>\n",
       "    <tr>\n",
       "      <th>2</th>\n",
       "      <td>docked_bike</td>\n",
       "      <td>2020-04-01 17:54:13</td>\n",
       "      <td>2020-04-01 18:08:36</td>\n",
       "      <td>McClurg Ct &amp; Erie St</td>\n",
       "      <td>Indiana Ave &amp; Roosevelt Rd</td>\n",
       "      <td>41.8945</td>\n",
       "      <td>-87.6179</td>\n",
       "      <td>41.8679</td>\n",
       "      <td>-87.6230</td>\n",
       "      <td>member</td>\n",
       "    </tr>\n",
       "    <tr>\n",
       "      <th>3</th>\n",
       "      <td>docked_bike</td>\n",
       "      <td>2020-04-07 12:50:19</td>\n",
       "      <td>2020-04-07 13:02:31</td>\n",
       "      <td>California Ave &amp; Division St</td>\n",
       "      <td>Wood St &amp; Augusta Blvd</td>\n",
       "      <td>41.9030</td>\n",
       "      <td>-87.6975</td>\n",
       "      <td>41.8992</td>\n",
       "      <td>-87.6722</td>\n",
       "      <td>member</td>\n",
       "    </tr>\n",
       "    <tr>\n",
       "      <th>4</th>\n",
       "      <td>docked_bike</td>\n",
       "      <td>2020-04-18 10:22:59</td>\n",
       "      <td>2020-04-18 11:15:54</td>\n",
       "      <td>Rush St &amp; Hubbard St</td>\n",
       "      <td>Sheridan Rd &amp; Lawrence Ave</td>\n",
       "      <td>41.8902</td>\n",
       "      <td>-87.6262</td>\n",
       "      <td>41.9695</td>\n",
       "      <td>-87.6547</td>\n",
       "      <td>casual</td>\n",
       "    </tr>\n",
       "  </tbody>\n",
       "</table>\n",
       "</div>"
      ],
      "text/plain": [
       "     Bike_Type           Start_Time             End_Time  \\\n",
       "0  docked_bike  2020-04-26 17:45:14  2020-04-26 18:12:03   \n",
       "1  docked_bike  2020-04-17 17:08:54  2020-04-17 17:17:03   \n",
       "2  docked_bike  2020-04-01 17:54:13  2020-04-01 18:08:36   \n",
       "3  docked_bike  2020-04-07 12:50:19  2020-04-07 13:02:31   \n",
       "4  docked_bike  2020-04-18 10:22:59  2020-04-18 11:15:54   \n",
       "\n",
       "               Starting_Station               Ending_Station  \\\n",
       "0                  Eckhart Park  Lincoln Ave & Diversey Pkwy   \n",
       "1     Drake Ave & Fullerton Ave              Kosciuszko Park   \n",
       "2          McClurg Ct & Erie St   Indiana Ave & Roosevelt Rd   \n",
       "3  California Ave & Division St       Wood St & Augusta Blvd   \n",
       "4          Rush St & Hubbard St   Sheridan Rd & Lawrence Ave   \n",
       "\n",
       "   Starting_Latitude  Starting_Longitude  Ending_Latitude  Ending_Longitude  \\\n",
       "0            41.8964            -87.6610          41.9322          -87.6586   \n",
       "1            41.9244            -87.7154          41.9306          -87.7238   \n",
       "2            41.8945            -87.6179          41.8679          -87.6230   \n",
       "3            41.9030            -87.6975          41.8992          -87.6722   \n",
       "4            41.8902            -87.6262          41.9695          -87.6547   \n",
       "\n",
       "  Rider_Status  \n",
       "0       member  \n",
       "1       member  \n",
       "2       member  \n",
       "3       member  \n",
       "4       casual  "
      ]
     },
     "execution_count": 11,
     "metadata": {},
     "output_type": "execute_result"
    }
   ],
   "source": [
    "df = df.rename(columns = {'rideable_type' : 'Bike_Type', 'started_at' : 'Start_Time', 'ended_at' : 'End_Time', 'start_station_name' : 'Starting_Station', 'end_station_name' : 'Ending_Station', 'member_casual' : 'Rider_Status', 'start_lat' : 'Starting_Latitude', 'start_lng' : 'Starting_Longitude','end_lat' : 'Ending_Latitude', 'end_lng' : 'Ending_Longitude'})\n",
    "df.head()"
   ]
  },
  {
   "cell_type": "markdown",
   "id": "compressed-blame",
   "metadata": {
    "papermill": {
     "duration": 0.132537,
     "end_time": "2021-06-03T19:22:34.194899",
     "exception": false,
     "start_time": "2021-06-03T19:22:34.062362",
     "status": "completed"
    },
    "tags": []
   },
   "source": [
    "# Process Data\n",
    "\n",
    "Determine any errors, reformat as necessary, prepare to create visualizations"
   ]
  },
  {
   "cell_type": "markdown",
   "id": "decimal-mitchell",
   "metadata": {
    "papermill": {
     "duration": 0.131318,
     "end_time": "2021-06-03T19:22:34.457710",
     "exception": false,
     "start_time": "2021-06-03T19:22:34.326392",
     "status": "completed"
    },
    "tags": []
   },
   "source": [
    "### Reviewing data types"
   ]
  },
  {
   "cell_type": "code",
   "execution_count": 12,
   "id": "involved-start",
   "metadata": {
    "execution": {
     "iopub.execute_input": "2021-06-03T19:22:34.720840Z",
     "iopub.status.busy": "2021-06-03T19:22:34.720218Z",
     "iopub.status.idle": "2021-06-03T19:22:34.723059Z",
     "shell.execute_reply": "2021-06-03T19:22:34.723542Z",
     "shell.execute_reply.started": "2021-05-28T05:19:43.234866Z"
    },
    "papermill": {
     "duration": 0.137831,
     "end_time": "2021-06-03T19:22:34.723753",
     "exception": false,
     "start_time": "2021-06-03T19:22:34.585922",
     "status": "completed"
    },
    "tags": []
   },
   "outputs": [
    {
     "data": {
      "text/plain": [
       "Bike_Type              object\n",
       "Start_Time             object\n",
       "End_Time               object\n",
       "Starting_Station       object\n",
       "Ending_Station         object\n",
       "Starting_Latitude     float64\n",
       "Starting_Longitude    float64\n",
       "Ending_Latitude       float64\n",
       "Ending_Longitude      float64\n",
       "Rider_Status           object\n",
       "dtype: object"
      ]
     },
     "execution_count": 12,
     "metadata": {},
     "output_type": "execute_result"
    }
   ],
   "source": [
    "df.dtypes"
   ]
  },
  {
   "cell_type": "markdown",
   "id": "removed-knife",
   "metadata": {
    "papermill": {
     "duration": 0.130473,
     "end_time": "2021-06-03T19:22:34.986248",
     "exception": false,
     "start_time": "2021-06-03T19:22:34.855775",
     "status": "completed"
    },
    "tags": []
   },
   "source": [
    "#### Start Time, End Time should are objects but should be datetime dtypes"
   ]
  },
  {
   "cell_type": "code",
   "execution_count": 13,
   "id": "polar-pension",
   "metadata": {
    "execution": {
     "iopub.execute_input": "2021-06-03T19:22:35.252524Z",
     "iopub.status.busy": "2021-06-03T19:22:35.251827Z",
     "iopub.status.idle": "2021-06-03T19:22:35.255189Z",
     "shell.execute_reply": "2021-06-03T19:22:35.255799Z",
     "shell.execute_reply.started": "2021-05-28T05:19:43.243907Z"
    },
    "papermill": {
     "duration": 0.138315,
     "end_time": "2021-06-03T19:22:35.256004",
     "exception": false,
     "start_time": "2021-06-03T19:22:35.117689",
     "status": "completed"
    },
    "tags": []
   },
   "outputs": [],
   "source": [
    "from datetime import datetime"
   ]
  },
  {
   "cell_type": "code",
   "execution_count": 14,
   "id": "special-forum",
   "metadata": {
    "execution": {
     "iopub.execute_input": "2021-06-03T19:22:35.516245Z",
     "iopub.status.busy": "2021-06-03T19:22:35.515424Z",
     "iopub.status.idle": "2021-06-03T19:22:38.559366Z",
     "shell.execute_reply": "2021-06-03T19:22:38.558794Z",
     "shell.execute_reply.started": "2021-05-28T05:19:43.259571Z"
    },
    "papermill": {
     "duration": 3.1748,
     "end_time": "2021-06-03T19:22:38.559514",
     "exception": false,
     "start_time": "2021-06-03T19:22:35.384714",
     "status": "completed"
    },
    "tags": []
   },
   "outputs": [],
   "source": [
    "#Convert to time format\n",
    "df['Start_Time'] = pd.to_datetime(df['Start_Time'])\n",
    "df['End_Time'] = pd.to_datetime(df['End_Time'])\n"
   ]
  },
  {
   "cell_type": "code",
   "execution_count": 15,
   "id": "dedicated-dodge",
   "metadata": {
    "execution": {
     "iopub.execute_input": "2021-06-03T19:22:38.830172Z",
     "iopub.status.busy": "2021-06-03T19:22:38.829301Z",
     "iopub.status.idle": "2021-06-03T19:22:38.833151Z",
     "shell.execute_reply": "2021-06-03T19:22:38.832639Z",
     "shell.execute_reply.started": "2021-05-28T05:19:46.319627Z"
    },
    "papermill": {
     "duration": 0.141394,
     "end_time": "2021-06-03T19:22:38.833293",
     "exception": false,
     "start_time": "2021-06-03T19:22:38.691899",
     "status": "completed"
    },
    "tags": []
   },
   "outputs": [
    {
     "data": {
      "text/plain": [
       "Bike_Type                     object\n",
       "Start_Time            datetime64[ns]\n",
       "End_Time              datetime64[ns]\n",
       "Starting_Station              object\n",
       "Ending_Station                object\n",
       "Starting_Latitude            float64\n",
       "Starting_Longitude           float64\n",
       "Ending_Latitude              float64\n",
       "Ending_Longitude             float64\n",
       "Rider_Status                  object\n",
       "dtype: object"
      ]
     },
     "execution_count": 15,
     "metadata": {},
     "output_type": "execute_result"
    }
   ],
   "source": [
    "df.dtypes"
   ]
  },
  {
   "cell_type": "markdown",
   "id": "paperback-shuttle",
   "metadata": {
    "papermill": {
     "duration": 0.129972,
     "end_time": "2021-06-03T19:22:39.092301",
     "exception": false,
     "start_time": "2021-06-03T19:22:38.962329",
     "status": "completed"
    },
    "tags": []
   },
   "source": [
    "### Add some informative Columns:\n",
    "- We'll start by creating a 'Ride Length' Column expressing a difference in Start and End times.  I found this a bit clunky in Pandas, but ended up with a result in decimal of hours.\n",
    "- Second, we'll find the day of the week coresponding to each Start Time.\n"
   ]
  },
  {
   "cell_type": "code",
   "execution_count": 16,
   "id": "bronze-pastor",
   "metadata": {
    "execution": {
     "iopub.execute_input": "2021-06-03T19:22:39.357926Z",
     "iopub.status.busy": "2021-06-03T19:22:39.357286Z",
     "iopub.status.idle": "2021-06-03T19:22:39.616656Z",
     "shell.execute_reply": "2021-06-03T19:22:39.616048Z",
     "shell.execute_reply.started": "2021-05-28T05:19:46.329879Z"
    },
    "papermill": {
     "duration": 0.39473,
     "end_time": "2021-06-03T19:22:39.616800",
     "exception": false,
     "start_time": "2021-06-03T19:22:39.222070",
     "status": "completed"
    },
    "tags": []
   },
   "outputs": [],
   "source": [
    "df['Ride_Length'] = ((df['End_Time'] - df['Start_Time']).dt.days) * 24 + ((df['End_Time'] - df['Start_Time']).dt.seconds)/ 3600"
   ]
  },
  {
   "cell_type": "code",
   "execution_count": 17,
   "id": "sensitive-participant",
   "metadata": {
    "execution": {
     "iopub.execute_input": "2021-06-03T19:22:39.917071Z",
     "iopub.status.busy": "2021-06-03T19:22:39.915267Z",
     "iopub.status.idle": "2021-06-03T19:22:41.399852Z",
     "shell.execute_reply": "2021-06-03T19:22:41.399263Z",
     "shell.execute_reply.started": "2021-05-28T05:19:46.575369Z"
    },
    "papermill": {
     "duration": 1.625132,
     "end_time": "2021-06-03T19:22:41.400034",
     "exception": false,
     "start_time": "2021-06-03T19:22:39.774902",
     "status": "completed"
    },
    "tags": []
   },
   "outputs": [
    {
     "name": "stdout",
     "output_type": "stream",
     "text": [
      "     Bike_Type          Start_Time            End_Time  \\\n",
      "0  docked_bike 2020-04-26 17:45:14 2020-04-26 18:12:03   \n",
      "1  docked_bike 2020-04-17 17:08:54 2020-04-17 17:17:03   \n",
      "2  docked_bike 2020-04-01 17:54:13 2020-04-01 18:08:36   \n",
      "3  docked_bike 2020-04-07 12:50:19 2020-04-07 13:02:31   \n",
      "4  docked_bike 2020-04-18 10:22:59 2020-04-18 11:15:54   \n",
      "\n",
      "               Starting_Station               Ending_Station  \\\n",
      "0                  Eckhart Park  Lincoln Ave & Diversey Pkwy   \n",
      "1     Drake Ave & Fullerton Ave              Kosciuszko Park   \n",
      "2          McClurg Ct & Erie St   Indiana Ave & Roosevelt Rd   \n",
      "3  California Ave & Division St       Wood St & Augusta Blvd   \n",
      "4          Rush St & Hubbard St   Sheridan Rd & Lawrence Ave   \n",
      "\n",
      "   Starting_Latitude  Starting_Longitude  Ending_Latitude  Ending_Longitude  \\\n",
      "0            41.8964            -87.6610          41.9322          -87.6586   \n",
      "1            41.9244            -87.7154          41.9306          -87.7238   \n",
      "2            41.8945            -87.6179          41.8679          -87.6230   \n",
      "3            41.9030            -87.6975          41.8992          -87.6722   \n",
      "4            41.8902            -87.6262          41.9695          -87.6547   \n",
      "\n",
      "  Rider_Status  Ride_Length Day_of_Week  \n",
      "0       member     0.446944      Sunday  \n",
      "1       member     0.135833      Friday  \n",
      "2       member     0.239722   Wednesday  \n",
      "3       member     0.203333     Tuesday  \n",
      "4       casual     0.881944    Saturday  \n"
     ]
    }
   ],
   "source": [
    "df['Day_of_Week'] = df['Start_Time'].dt.day_name()\n",
    "print(df.head())"
   ]
  },
  {
   "cell_type": "markdown",
   "id": "passing-daisy",
   "metadata": {
    "papermill": {
     "duration": 0.12859,
     "end_time": "2021-06-03T19:22:41.659584",
     "exception": false,
     "start_time": "2021-06-03T19:22:41.530994",
     "status": "completed"
    },
    "tags": []
   },
   "source": [
    "### Investigate data to determine any additional cleaning needed"
   ]
  },
  {
   "cell_type": "markdown",
   "id": "seventh-karma",
   "metadata": {
    "papermill": {
     "duration": 0.129028,
     "end_time": "2021-06-03T19:22:41.924343",
     "exception": false,
     "start_time": "2021-06-03T19:22:41.795315",
     "status": "completed"
    },
    "tags": []
   },
   "source": [
    "Start by creating a new dataframe with reduced columns to check our ride length calculation. Ride length times are in hours."
   ]
  },
  {
   "cell_type": "code",
   "execution_count": 18,
   "id": "military-elder",
   "metadata": {
    "execution": {
     "iopub.execute_input": "2021-06-03T19:22:42.188254Z",
     "iopub.status.busy": "2021-06-03T19:22:42.187558Z",
     "iopub.status.idle": "2021-06-03T19:22:43.038118Z",
     "shell.execute_reply": "2021-06-03T19:22:43.037590Z",
     "shell.execute_reply.started": "2021-05-28T05:19:48.024478Z"
    },
    "papermill": {
     "duration": 0.985013,
     "end_time": "2021-06-03T19:22:43.038275",
     "exception": false,
     "start_time": "2021-06-03T19:22:42.053262",
     "status": "completed"
    },
    "tags": []
   },
   "outputs": [],
   "source": [
    "df_short = df.drop(['Start_Time', 'End_Time', 'Starting_Station', 'Ending_Station', 'Starting_Latitude', 'Ending_Latitude', 'Starting_Longitude', 'Ending_Longitude'], axis=1 )"
   ]
  },
  {
   "cell_type": "code",
   "execution_count": 19,
   "id": "federal-intersection",
   "metadata": {
    "execution": {
     "iopub.execute_input": "2021-06-03T19:22:43.303339Z",
     "iopub.status.busy": "2021-06-03T19:22:43.302675Z",
     "iopub.status.idle": "2021-06-03T19:22:44.129124Z",
     "shell.execute_reply": "2021-06-03T19:22:44.129623Z",
     "shell.execute_reply.started": "2021-05-28T05:19:48.941636Z"
    },
    "papermill": {
     "duration": 0.961213,
     "end_time": "2021-06-03T19:22:44.129793",
     "exception": false,
     "start_time": "2021-06-03T19:22:43.168580",
     "status": "completed"
    },
    "tags": []
   },
   "outputs": [
    {
     "data": {
      "text/html": [
       "<div>\n",
       "<style scoped>\n",
       "    .dataframe tbody tr th:only-of-type {\n",
       "        vertical-align: middle;\n",
       "    }\n",
       "\n",
       "    .dataframe tbody tr th {\n",
       "        vertical-align: top;\n",
       "    }\n",
       "\n",
       "    .dataframe thead th {\n",
       "        text-align: right;\n",
       "    }\n",
       "</style>\n",
       "<table border=\"1\" class=\"dataframe\">\n",
       "  <thead>\n",
       "    <tr style=\"text-align: right;\">\n",
       "      <th></th>\n",
       "      <th></th>\n",
       "      <th>Ride_Length</th>\n",
       "    </tr>\n",
       "    <tr>\n",
       "      <th>Day_of_Week</th>\n",
       "      <th>Rider_Status</th>\n",
       "      <th></th>\n",
       "    </tr>\n",
       "  </thead>\n",
       "  <tbody>\n",
       "    <tr>\n",
       "      <th rowspan=\"2\" valign=\"top\">Friday</th>\n",
       "      <th>casual</th>\n",
       "      <td>0.708302</td>\n",
       "    </tr>\n",
       "    <tr>\n",
       "      <th>member</th>\n",
       "      <td>0.259658</td>\n",
       "    </tr>\n",
       "    <tr>\n",
       "      <th rowspan=\"2\" valign=\"top\">Monday</th>\n",
       "      <th>casual</th>\n",
       "      <td>0.735894</td>\n",
       "    </tr>\n",
       "    <tr>\n",
       "      <th>member</th>\n",
       "      <td>0.253323</td>\n",
       "    </tr>\n",
       "    <tr>\n",
       "      <th rowspan=\"2\" valign=\"top\">Saturday</th>\n",
       "      <th>casual</th>\n",
       "      <td>0.767708</td>\n",
       "    </tr>\n",
       "    <tr>\n",
       "      <th>member</th>\n",
       "      <td>0.293934</td>\n",
       "    </tr>\n",
       "    <tr>\n",
       "      <th rowspan=\"2\" valign=\"top\">Sunday</th>\n",
       "      <th>casual</th>\n",
       "      <td>0.831583</td>\n",
       "    </tr>\n",
       "    <tr>\n",
       "      <th>member</th>\n",
       "      <td>0.300476</td>\n",
       "    </tr>\n",
       "    <tr>\n",
       "      <th rowspan=\"2\" valign=\"top\">Thursday</th>\n",
       "      <th>casual</th>\n",
       "      <td>0.694388</td>\n",
       "    </tr>\n",
       "    <tr>\n",
       "      <th>member</th>\n",
       "      <td>0.250032</td>\n",
       "    </tr>\n",
       "    <tr>\n",
       "      <th rowspan=\"2\" valign=\"top\">Tuesday</th>\n",
       "      <th>casual</th>\n",
       "      <td>0.444750</td>\n",
       "    </tr>\n",
       "    <tr>\n",
       "      <th>member</th>\n",
       "      <td>-0.198797</td>\n",
       "    </tr>\n",
       "    <tr>\n",
       "      <th rowspan=\"2\" valign=\"top\">Wednesday</th>\n",
       "      <th>casual</th>\n",
       "      <td>0.668228</td>\n",
       "    </tr>\n",
       "    <tr>\n",
       "      <th>member</th>\n",
       "      <td>0.252053</td>\n",
       "    </tr>\n",
       "  </tbody>\n",
       "</table>\n",
       "</div>"
      ],
      "text/plain": [
       "                          Ride_Length\n",
       "Day_of_Week Rider_Status             \n",
       "Friday      casual           0.708302\n",
       "            member           0.259658\n",
       "Monday      casual           0.735894\n",
       "            member           0.253323\n",
       "Saturday    casual           0.767708\n",
       "            member           0.293934\n",
       "Sunday      casual           0.831583\n",
       "            member           0.300476\n",
       "Thursday    casual           0.694388\n",
       "            member           0.250032\n",
       "Tuesday     casual           0.444750\n",
       "            member          -0.198797\n",
       "Wednesday   casual           0.668228\n",
       "            member           0.252053"
      ]
     },
     "execution_count": 19,
     "metadata": {},
     "output_type": "execute_result"
    }
   ],
   "source": [
    "df_short.groupby(['Day_of_Week', 'Rider_Status']).mean()"
   ]
  },
  {
   "cell_type": "code",
   "execution_count": 20,
   "id": "future-contrary",
   "metadata": {
    "execution": {
     "iopub.execute_input": "2021-06-03T19:22:44.448619Z",
     "iopub.status.busy": "2021-06-03T19:22:44.446967Z",
     "iopub.status.idle": "2021-06-03T19:22:45.023274Z",
     "shell.execute_reply": "2021-06-03T19:22:45.023814Z",
     "shell.execute_reply.started": "2021-05-28T05:19:49.676988Z"
    },
    "papermill": {
     "duration": 0.764158,
     "end_time": "2021-06-03T19:22:45.024004",
     "exception": false,
     "start_time": "2021-06-03T19:22:44.259846",
     "status": "completed"
    },
    "tags": []
   },
   "outputs": [
    {
     "data": {
      "text/plain": [
       "Rider_Status\n",
       "casual    1566977\n",
       "member    2260001\n",
       "Name: Rider_Status, dtype: int64"
      ]
     },
     "execution_count": 20,
     "metadata": {},
     "output_type": "execute_result"
    }
   ],
   "source": [
    "df_short.groupby('Rider_Status')['Rider_Status'].count()"
   ]
  },
  {
   "cell_type": "markdown",
   "id": "starting-hands",
   "metadata": {
    "papermill": {
     "duration": 0.129782,
     "end_time": "2021-06-03T19:22:45.284028",
     "exception": false,
     "start_time": "2021-06-03T19:22:45.154246",
     "status": "completed"
    },
    "tags": []
   },
   "source": [
    "It looks like we might have some questionable data for ride length with some times showing negative.  Lets make a quick box plot to check outliers.\n"
   ]
  },
  {
   "cell_type": "code",
   "execution_count": 21,
   "id": "furnished-press",
   "metadata": {
    "execution": {
     "iopub.execute_input": "2021-06-03T19:22:45.551800Z",
     "iopub.status.busy": "2021-06-03T19:22:45.551153Z",
     "iopub.status.idle": "2021-06-03T19:22:47.274965Z",
     "shell.execute_reply": "2021-06-03T19:22:47.275456Z",
     "shell.execute_reply.started": "2021-05-28T05:19:50.305215Z"
    },
    "papermill": {
     "duration": 1.860317,
     "end_time": "2021-06-03T19:22:47.275650",
     "exception": false,
     "start_time": "2021-06-03T19:22:45.415333",
     "status": "completed"
    },
    "tags": []
   },
   "outputs": [
    {
     "data": {
      "text/plain": [
       "<AxesSubplot:xlabel='Ride_Length'>"
      ]
     },
     "execution_count": 21,
     "metadata": {},
     "output_type": "execute_result"
    },
    {
     "data": {
      "image/png": "[encoded data removed]",
      "text/plain": [
       "<Figure size 432x288 with 1 Axes>"
      ]
     },
     "metadata": {},
     "output_type": "display_data"
    }
   ],
   "source": [
    "import seaborn as sns                       #visualisation\n",
    "import matplotlib.pyplot as plt             #visualisation\n",
    "%matplotlib inline     \n",
    "sns.set(color_codes=True)\n",
    "\n",
    "sns.boxplot(x=df['Ride_Length'])"
   ]
  },
  {
   "cell_type": "code",
   "execution_count": 22,
   "id": "dried-thanksgiving",
   "metadata": {
    "execution": {
     "iopub.execute_input": "2021-06-03T19:22:47.542338Z",
     "iopub.status.busy": "2021-06-03T19:22:47.541704Z",
     "iopub.status.idle": "2021-06-03T19:22:47.709506Z",
     "shell.execute_reply": "2021-06-03T19:22:47.708981Z",
     "shell.execute_reply.started": "2021-05-28T05:19:51.183941Z"
    },
    "papermill": {
     "duration": 0.301359,
     "end_time": "2021-06-03T19:22:47.709654",
     "exception": false,
     "start_time": "2021-06-03T19:22:47.408295",
     "status": "completed"
    },
    "tags": []
   },
   "outputs": [
    {
     "data": {
      "text/plain": [
       "count    3.826978e+06\n",
       "mean     4.118581e-01\n",
       "std      6.299624e+00\n",
       "min     -4.841661e+02\n",
       "25%      1.300000e-01\n",
       "50%      2.391667e-01\n",
       "75%      4.397222e-01\n",
       "max      9.786672e+02\n",
       "Name: Ride_Length, dtype: float64"
      ]
     },
     "execution_count": 22,
     "metadata": {},
     "output_type": "execute_result"
    }
   ],
   "source": [
    "df['Ride_Length'].describe()"
   ]
  },
  {
   "cell_type": "markdown",
   "id": "fifth-representation",
   "metadata": {
    "papermill": {
     "duration": 0.132331,
     "end_time": "2021-06-03T19:22:47.973878",
     "exception": false,
     "start_time": "2021-06-03T19:22:47.841547",
     "status": "completed"
    },
    "tags": []
   },
   "source": [
    "We indeed have some negative values and an unexpectedly large standard deviation.  Well create a new dataframe and sort and remove these values."
   ]
  },
  {
   "cell_type": "code",
   "execution_count": 23,
   "id": "every-toronto",
   "metadata": {
    "execution": {
     "iopub.execute_input": "2021-06-03T19:22:48.241222Z",
     "iopub.status.busy": "2021-06-03T19:22:48.240561Z",
     "iopub.status.idle": "2021-06-03T19:22:51.885736Z",
     "shell.execute_reply": "2021-06-03T19:22:51.885224Z",
     "shell.execute_reply.started": "2021-05-28T05:19:51.353688Z"
    },
    "papermill": {
     "duration": 3.780877,
     "end_time": "2021-06-03T19:22:51.885878",
     "exception": false,
     "start_time": "2021-06-03T19:22:48.105001",
     "status": "completed"
    },
    "tags": []
   },
   "outputs": [
    {
     "data": {
      "text/html": [
       "<div>\n",
       "<style scoped>\n",
       "    .dataframe tbody tr th:only-of-type {\n",
       "        vertical-align: middle;\n",
       "    }\n",
       "\n",
       "    .dataframe tbody tr th {\n",
       "        vertical-align: top;\n",
       "    }\n",
       "\n",
       "    .dataframe thead th {\n",
       "        text-align: right;\n",
       "    }\n",
       "</style>\n",
       "<table border=\"1\" class=\"dataframe\">\n",
       "  <thead>\n",
       "    <tr style=\"text-align: right;\">\n",
       "      <th></th>\n",
       "      <th>Bike_Type</th>\n",
       "      <th>Start_Time</th>\n",
       "      <th>End_Time</th>\n",
       "      <th>Starting_Station</th>\n",
       "      <th>Ending_Station</th>\n",
       "      <th>Starting_Latitude</th>\n",
       "      <th>Starting_Longitude</th>\n",
       "      <th>Ending_Latitude</th>\n",
       "      <th>Ending_Longitude</th>\n",
       "      <th>Rider_Status</th>\n",
       "      <th>Ride_Length</th>\n",
       "      <th>Day_of_Week</th>\n",
       "    </tr>\n",
       "  </thead>\n",
       "  <tbody>\n",
       "    <tr>\n",
       "      <th>3044386</th>\n",
       "      <td>electric_bike</td>\n",
       "      <td>2020-12-15 12:10:14</td>\n",
       "      <td>2020-11-25 08:00:16</td>\n",
       "      <td>Wells St &amp; Concord Ln</td>\n",
       "      <td>Clark St &amp; Schiller St</td>\n",
       "      <td>41.911960</td>\n",
       "      <td>-87.634798</td>\n",
       "      <td>41.907917</td>\n",
       "      <td>-87.631583</td>\n",
       "      <td>member</td>\n",
       "      <td>-484.166111</td>\n",
       "      <td>Tuesday</td>\n",
       "    </tr>\n",
       "    <tr>\n",
       "      <th>3010031</th>\n",
       "      <td>electric_bike</td>\n",
       "      <td>2020-12-15 11:35:39</td>\n",
       "      <td>2020-11-25 07:40:56</td>\n",
       "      <td>Sheffield Ave &amp; Willow St</td>\n",
       "      <td>Sheffield Ave &amp; Willow St</td>\n",
       "      <td>41.913769</td>\n",
       "      <td>-87.652842</td>\n",
       "      <td>41.913745</td>\n",
       "      <td>-87.652846</td>\n",
       "      <td>member</td>\n",
       "      <td>-483.911944</td>\n",
       "      <td>Tuesday</td>\n",
       "    </tr>\n",
       "    <tr>\n",
       "      <th>3009188</th>\n",
       "      <td>docked_bike</td>\n",
       "      <td>2020-12-15 11:34:23</td>\n",
       "      <td>2020-11-25 08:00:15</td>\n",
       "      <td>Kingsbury St &amp; Kinzie St</td>\n",
       "      <td>Canal St &amp; Monroe St</td>\n",
       "      <td>41.889176</td>\n",
       "      <td>-87.638505</td>\n",
       "      <td>41.881690</td>\n",
       "      <td>-87.639530</td>\n",
       "      <td>member</td>\n",
       "      <td>-483.568889</td>\n",
       "      <td>Tuesday</td>\n",
       "    </tr>\n",
       "    <tr>\n",
       "      <th>3071081</th>\n",
       "      <td>docked_bike</td>\n",
       "      <td>2020-12-15 12:12:43</td>\n",
       "      <td>2020-11-25 08:42:16</td>\n",
       "      <td>Dayton St &amp; North Ave</td>\n",
       "      <td>Sheffield Ave &amp; Kingsbury St</td>\n",
       "      <td>41.910578</td>\n",
       "      <td>-87.649421</td>\n",
       "      <td>41.910522</td>\n",
       "      <td>-87.653106</td>\n",
       "      <td>member</td>\n",
       "      <td>-483.507500</td>\n",
       "      <td>Tuesday</td>\n",
       "    </tr>\n",
       "    <tr>\n",
       "      <th>3074111</th>\n",
       "      <td>docked_bike</td>\n",
       "      <td>2020-12-15 11:34:38</td>\n",
       "      <td>2020-11-25 08:09:43</td>\n",
       "      <td>Clark St &amp; 9th St (AMLI)</td>\n",
       "      <td>Dearborn St &amp; Adams St</td>\n",
       "      <td>41.870816</td>\n",
       "      <td>-87.631246</td>\n",
       "      <td>41.879356</td>\n",
       "      <td>-87.629791</td>\n",
       "      <td>member</td>\n",
       "      <td>-483.415278</td>\n",
       "      <td>Tuesday</td>\n",
       "    </tr>\n",
       "  </tbody>\n",
       "</table>\n",
       "</div>"
      ],
      "text/plain": [
       "             Bike_Type          Start_Time            End_Time  \\\n",
       "3044386  electric_bike 2020-12-15 12:10:14 2020-11-25 08:00:16   \n",
       "3010031  electric_bike 2020-12-15 11:35:39 2020-11-25 07:40:56   \n",
       "3009188    docked_bike 2020-12-15 11:34:23 2020-11-25 08:00:15   \n",
       "3071081    docked_bike 2020-12-15 12:12:43 2020-11-25 08:42:16   \n",
       "3074111    docked_bike 2020-12-15 11:34:38 2020-11-25 08:09:43   \n",
       "\n",
       "                  Starting_Station                Ending_Station  \\\n",
       "3044386      Wells St & Concord Ln        Clark St & Schiller St   \n",
       "3010031  Sheffield Ave & Willow St     Sheffield Ave & Willow St   \n",
       "3009188   Kingsbury St & Kinzie St          Canal St & Monroe St   \n",
       "3071081      Dayton St & North Ave  Sheffield Ave & Kingsbury St   \n",
       "3074111   Clark St & 9th St (AMLI)        Dearborn St & Adams St   \n",
       "\n",
       "         Starting_Latitude  Starting_Longitude  Ending_Latitude  \\\n",
       "3044386          41.911960          -87.634798        41.907917   \n",
       "3010031          41.913769          -87.652842        41.913745   \n",
       "3009188          41.889176          -87.638505        41.881690   \n",
       "3071081          41.910578          -87.649421        41.910522   \n",
       "3074111          41.870816          -87.631246        41.879356   \n",
       "\n",
       "         Ending_Longitude Rider_Status  Ride_Length Day_of_Week  \n",
       "3044386        -87.631583       member  -484.166111     Tuesday  \n",
       "3010031        -87.652846       member  -483.911944     Tuesday  \n",
       "3009188        -87.639530       member  -483.568889     Tuesday  \n",
       "3071081        -87.653106       member  -483.507500     Tuesday  \n",
       "3074111        -87.629791       member  -483.415278     Tuesday  "
      ]
     },
     "execution_count": 23,
     "metadata": {},
     "output_type": "execute_result"
    }
   ],
   "source": [
    "df_sort = df.sort_values('Ride_Length')\n",
    "df_sort.head()"
   ]
  },
  {
   "cell_type": "code",
   "execution_count": 24,
   "id": "composed-wholesale",
   "metadata": {
    "execution": {
     "iopub.execute_input": "2021-06-03T19:22:52.162708Z",
     "iopub.status.busy": "2021-06-03T19:22:52.161721Z",
     "iopub.status.idle": "2021-06-03T19:22:52.186730Z",
     "shell.execute_reply": "2021-06-03T19:22:52.187203Z",
     "shell.execute_reply.started": "2021-05-28T05:19:55.389121Z"
    },
    "papermill": {
     "duration": 0.166194,
     "end_time": "2021-06-03T19:22:52.187382",
     "exception": false,
     "start_time": "2021-06-03T19:22:52.021188",
     "status": "completed"
    },
    "tags": []
   },
   "outputs": [
    {
     "data": {
      "text/plain": [
       "Bike_Type             10557\n",
       "Start_Time            10557\n",
       "End_Time              10557\n",
       "Starting_Station      10509\n",
       "Ending_Station        10472\n",
       "Starting_Latitude     10557\n",
       "Starting_Longitude    10557\n",
       "Ending_Latitude       10531\n",
       "Ending_Longitude      10531\n",
       "Rider_Status          10557\n",
       "Ride_Length           10557\n",
       "Day_of_Week           10557\n",
       "dtype: int64"
      ]
     },
     "execution_count": 24,
     "metadata": {},
     "output_type": "execute_result"
    }
   ],
   "source": [
    "df_time_error = df[df['Ride_Length']<0]\n",
    "df_time_error.count()"
   ]
  },
  {
   "cell_type": "markdown",
   "id": "regulated-albany",
   "metadata": {
    "papermill": {
     "duration": 0.131552,
     "end_time": "2021-06-03T19:22:52.450578",
     "exception": false,
     "start_time": "2021-06-03T19:22:52.319026",
     "status": "completed"
    },
    "tags": []
   },
   "source": [
    "**Results**: 10557 rows where End time is before start time.  Out of 3826978 rides this is less then 1/4 of a percent.  Still We'll take a quick look to see if we can find any other correlations."
   ]
  },
  {
   "cell_type": "code",
   "execution_count": 25,
   "id": "refined-municipality",
   "metadata": {
    "execution": {
     "iopub.execute_input": "2021-06-03T19:22:52.717545Z",
     "iopub.status.busy": "2021-06-03T19:22:52.716849Z",
     "iopub.status.idle": "2021-06-03T19:22:52.722368Z",
     "shell.execute_reply": "2021-06-03T19:22:52.722898Z",
     "shell.execute_reply.started": "2021-05-28T05:19:55.427085Z"
    },
    "papermill": {
     "duration": 0.140793,
     "end_time": "2021-06-03T19:22:52.723093",
     "exception": false,
     "start_time": "2021-06-03T19:22:52.582300",
     "status": "completed"
    },
    "tags": []
   },
   "outputs": [
    {
     "data": {
      "text/plain": [
       "Timestamp('2021-04-30 10:56:32')"
      ]
     },
     "execution_count": 25,
     "metadata": {},
     "output_type": "execute_result"
    }
   ],
   "source": [
    "df_time_error['Start_Time'].max()"
   ]
  },
  {
   "cell_type": "code",
   "execution_count": 26,
   "id": "unable-acquisition",
   "metadata": {
    "execution": {
     "iopub.execute_input": "2021-06-03T19:22:52.991695Z",
     "iopub.status.busy": "2021-06-03T19:22:52.991063Z",
     "iopub.status.idle": "2021-06-03T19:22:52.996275Z",
     "shell.execute_reply": "2021-06-03T19:22:52.996820Z",
     "shell.execute_reply.started": "2021-05-28T05:19:55.436866Z"
    },
    "papermill": {
     "duration": 0.141144,
     "end_time": "2021-06-03T19:22:52.997022",
     "exception": false,
     "start_time": "2021-06-03T19:22:52.855878",
     "status": "completed"
    },
    "tags": []
   },
   "outputs": [
    {
     "data": {
      "text/plain": [
       "Timestamp('2020-04-01 14:18:09')"
      ]
     },
     "execution_count": 26,
     "metadata": {},
     "output_type": "execute_result"
    }
   ],
   "source": [
    "df_time_error['Start_Time'].min()"
   ]
  },
  {
   "cell_type": "code",
   "execution_count": 27,
   "id": "communist-happening",
   "metadata": {
    "execution": {
     "iopub.execute_input": "2021-06-03T19:22:53.266315Z",
     "iopub.status.busy": "2021-06-03T19:22:53.265673Z",
     "iopub.status.idle": "2021-06-03T19:22:53.278061Z",
     "shell.execute_reply": "2021-06-03T19:22:53.277537Z",
     "shell.execute_reply.started": "2021-05-28T05:19:55.449431Z"
    },
    "papermill": {
     "duration": 0.148098,
     "end_time": "2021-06-03T19:22:53.278245",
     "exception": false,
     "start_time": "2021-06-03T19:22:53.130147",
     "status": "completed"
    },
    "tags": []
   },
   "outputs": [
    {
     "data": {
      "text/plain": [
       "Day_of_Week\n",
       "Friday       1855\n",
       "Monday       1051\n",
       "Saturday     2006\n",
       "Sunday       1547\n",
       "Thursday     1138\n",
       "Tuesday      1654\n",
       "Wednesday    1306\n",
       "Name: Rider_Status, dtype: int64"
      ]
     },
     "execution_count": 27,
     "metadata": {},
     "output_type": "execute_result"
    }
   ],
   "source": [
    "df_time_error.groupby('Day_of_Week')['Rider_Status'].count()"
   ]
  },
  {
   "cell_type": "code",
   "execution_count": 28,
   "id": "victorian-stability",
   "metadata": {
    "execution": {
     "iopub.execute_input": "2021-06-03T19:22:53.548570Z",
     "iopub.status.busy": "2021-06-03T19:22:53.547888Z",
     "iopub.status.idle": "2021-06-03T19:22:53.553816Z",
     "shell.execute_reply": "2021-06-03T19:22:53.554433Z",
     "shell.execute_reply.started": "2021-05-28T05:19:55.473469Z"
    },
    "papermill": {
     "duration": 0.143343,
     "end_time": "2021-06-03T19:22:53.554598",
     "exception": false,
     "start_time": "2021-06-03T19:22:53.411255",
     "status": "completed"
    },
    "tags": []
   },
   "outputs": [
    {
     "data": {
      "text/plain": [
       "Rider_Status\n",
       "casual    3255\n",
       "member    7302\n",
       "Name: Start_Time, dtype: int64"
      ]
     },
     "execution_count": 28,
     "metadata": {},
     "output_type": "execute_result"
    }
   ],
   "source": [
    "df_time_error.groupby('Rider_Status')['Start_Time'].count()"
   ]
  },
  {
   "cell_type": "markdown",
   "id": "apart-figure",
   "metadata": {
    "papermill": {
     "duration": 0.133758,
     "end_time": "2021-06-03T19:22:53.822134",
     "exception": false,
     "start_time": "2021-06-03T19:22:53.688376",
     "status": "completed"
    },
    "tags": []
   },
   "source": [
    "Appear to have been happening for the entire year, reasonably spread out through the days of the week.  For now, I'm going to remove this data, but definitely something I'd investigate a little further if possible. "
   ]
  },
  {
   "cell_type": "code",
   "execution_count": 29,
   "id": "mobile-genre",
   "metadata": {
    "execution": {
     "iopub.execute_input": "2021-06-03T19:22:54.119399Z",
     "iopub.status.busy": "2021-06-03T19:22:54.118735Z",
     "iopub.status.idle": "2021-06-03T19:22:54.148572Z",
     "shell.execute_reply": "2021-06-03T19:22:54.149292Z",
     "shell.execute_reply.started": "2021-05-28T05:19:55.48452Z"
    },
    "papermill": {
     "duration": 0.181995,
     "end_time": "2021-06-03T19:22:54.149533",
     "exception": false,
     "start_time": "2021-06-03T19:22:53.967538",
     "status": "completed"
    },
    "tags": []
   },
   "outputs": [
    {
     "data": {
      "text/plain": [
       "Bike_Type             3137\n",
       "Start_Time            3137\n",
       "End_Time              3137\n",
       "Starting_Station      3137\n",
       "Ending_Station        2293\n",
       "Starting_Latitude     3137\n",
       "Starting_Longitude    3137\n",
       "Ending_Latitude       2312\n",
       "Ending_Longitude      2312\n",
       "Rider_Status          3137\n",
       "Ride_Length           3137\n",
       "Day_of_Week           3137\n",
       "dtype: int64"
      ]
     },
     "execution_count": 29,
     "metadata": {},
     "output_type": "execute_result"
    }
   ],
   "source": [
    "df_time_high = df[df['Ride_Length']>24]\n",
    "df_time_high.count()"
   ]
  },
  {
   "cell_type": "markdown",
   "id": "adopted-literature",
   "metadata": {
    "papermill": {
     "duration": 0.13501,
     "end_time": "2021-06-03T19:22:54.443199",
     "exception": false,
     "start_time": "2021-06-03T19:22:54.308189",
     "status": "completed"
    },
    "tags": []
   },
   "source": [
    "Less then 0.1 % of rides last over 24 hours.  For now, we'll remove these values as well. I'll create a new dataframe with the removed rows in case I want to compare the two."
   ]
  },
  {
   "cell_type": "code",
   "execution_count": 30,
   "id": "parliamentary-tonight",
   "metadata": {
    "execution": {
     "iopub.execute_input": "2021-06-03T19:22:54.724151Z",
     "iopub.status.busy": "2021-06-03T19:22:54.723205Z",
     "iopub.status.idle": "2021-06-03T19:22:55.102170Z",
     "shell.execute_reply": "2021-06-03T19:22:55.100850Z",
     "shell.execute_reply.started": "2021-05-28T05:19:55.513789Z"
    },
    "papermill": {
     "duration": 0.523149,
     "end_time": "2021-06-03T19:22:55.102325",
     "exception": false,
     "start_time": "2021-06-03T19:22:54.579176",
     "status": "completed"
    },
    "tags": []
   },
   "outputs": [
    {
     "data": {
      "text/plain": [
       "(3826978, 12)"
      ]
     },
     "execution_count": 30,
     "metadata": {},
     "output_type": "execute_result"
    }
   ],
   "source": [
    "df_clean = df[(df['Ride_Length'] < 24) & (df['Ride_Length'] > 0)]\n",
    "df.shape"
   ]
  },
  {
   "cell_type": "code",
   "execution_count": 31,
   "id": "affected-rotation",
   "metadata": {
    "execution": {
     "iopub.execute_input": "2021-06-03T19:22:55.378162Z",
     "iopub.status.busy": "2021-06-03T19:22:55.377317Z",
     "iopub.status.idle": "2021-06-03T19:22:55.381569Z",
     "shell.execute_reply": "2021-06-03T19:22:55.381010Z",
     "shell.execute_reply.started": "2021-05-28T05:19:55.915281Z"
    },
    "papermill": {
     "duration": 0.143855,
     "end_time": "2021-06-03T19:22:55.381722",
     "exception": false,
     "start_time": "2021-06-03T19:22:55.237867",
     "status": "completed"
    },
    "tags": []
   },
   "outputs": [
    {
     "data": {
      "text/plain": [
       "(3812865, 12)"
      ]
     },
     "execution_count": 31,
     "metadata": {},
     "output_type": "execute_result"
    }
   ],
   "source": [
    "df_clean.shape"
   ]
  },
  {
   "cell_type": "code",
   "execution_count": 32,
   "id": "opposite-english",
   "metadata": {
    "execution": {
     "iopub.execute_input": "2021-06-03T19:22:55.656534Z",
     "iopub.status.busy": "2021-06-03T19:22:55.655353Z",
     "iopub.status.idle": "2021-06-03T19:22:56.520241Z",
     "shell.execute_reply": "2021-06-03T19:22:56.519325Z",
     "shell.execute_reply.started": "2021-05-28T05:19:55.923383Z"
    },
    "papermill": {
     "duration": 1.004142,
     "end_time": "2021-06-03T19:22:56.520392",
     "exception": false,
     "start_time": "2021-06-03T19:22:55.516250",
     "status": "completed"
    },
    "tags": []
   },
   "outputs": [
    {
     "data": {
      "text/plain": [
       "<AxesSubplot:xlabel='Ride_Length'>"
      ]
     },
     "execution_count": 32,
     "metadata": {},
     "output_type": "execute_result"
    },
    {
     "data": {
      "image/png": "[encoded data removed]",
      "text/plain": [
       "<Figure size 432x288 with 1 Axes>"
      ]
     },
     "metadata": {},
     "output_type": "display_data"
    }
   ],
   "source": [
    "sns.boxplot(x=df_clean['Ride_Length'])"
   ]
  },
  {
   "cell_type": "code",
   "execution_count": 33,
   "id": "sexual-placement",
   "metadata": {
    "execution": {
     "iopub.execute_input": "2021-06-03T19:22:56.856655Z",
     "iopub.status.busy": "2021-06-03T19:22:56.856015Z",
     "iopub.status.idle": "2021-06-03T19:22:57.555697Z",
     "shell.execute_reply": "2021-06-03T19:22:57.555144Z",
     "shell.execute_reply.started": "2021-05-28T05:19:56.785945Z"
    },
    "papermill": {
     "duration": 0.899594,
     "end_time": "2021-06-03T19:22:57.555840",
     "exception": false,
     "start_time": "2021-06-03T19:22:56.656246",
     "status": "completed"
    },
    "tags": []
   },
   "outputs": [
    {
     "data": {
      "text/plain": [
       "Day_of_Week  Rider_Status\n",
       "Friday       casual          0.566820\n",
       "             member          0.254205\n",
       "Monday       casual          0.591542\n",
       "             member          0.246335\n",
       "Saturday     casual          0.644123\n",
       "             member          0.286438\n",
       "Sunday       casual          0.669364\n",
       "             member          0.288700\n",
       "Thursday     casual          0.538427\n",
       "             member          0.244476\n",
       "Tuesday      casual          0.558558\n",
       "             member          0.244824\n",
       "Wednesday    casual          0.534666\n",
       "             member          0.244752\n",
       "Name: Ride_Length, dtype: float64"
      ]
     },
     "execution_count": 33,
     "metadata": {},
     "output_type": "execute_result"
    }
   ],
   "source": [
    "df_clean.groupby(['Day_of_Week', 'Rider_Status'])['Ride_Length'].mean()"
   ]
  },
  {
   "cell_type": "markdown",
   "id": "mediterranean-statistics",
   "metadata": {
    "papermill": {
     "duration": 0.137546,
     "end_time": "2021-06-03T19:22:57.829473",
     "exception": false,
     "start_time": "2021-06-03T19:22:57.691927",
     "status": "completed"
    },
    "tags": []
   },
   "source": [
    "Now we'll check for any more nulls and remove those as well."
   ]
  },
  {
   "cell_type": "code",
   "execution_count": 34,
   "id": "bridal-celebration",
   "metadata": {
    "execution": {
     "iopub.execute_input": "2021-06-03T19:22:58.152543Z",
     "iopub.status.busy": "2021-06-03T19:22:58.151811Z",
     "iopub.status.idle": "2021-06-03T19:22:59.920533Z",
     "shell.execute_reply": "2021-06-03T19:22:59.919989Z",
     "shell.execute_reply.started": "2021-05-28T05:19:57.532504Z"
    },
    "papermill": {
     "duration": 1.953442,
     "end_time": "2021-06-03T19:22:59.920672",
     "exception": false,
     "start_time": "2021-06-03T19:22:57.967230",
     "status": "completed"
    },
    "tags": []
   },
   "outputs": [
    {
     "name": "stdout",
     "output_type": "stream",
     "text": [
      "Bike_Type                  0\n",
      "Start_Time                 0\n",
      "End_Time                   0\n",
      "Starting_Station      148179\n",
      "Ending_Station        170362\n",
      "Starting_Latitude          0\n",
      "Starting_Longitude         0\n",
      "Ending_Latitude         4119\n",
      "Ending_Longitude        4119\n",
      "Rider_Status               0\n",
      "Ride_Length                0\n",
      "Day_of_Week                0\n",
      "dtype: int64\n"
     ]
    }
   ],
   "source": [
    "print(df_clean.isnull().sum())"
   ]
  },
  {
   "cell_type": "code",
   "execution_count": 35,
   "id": "owned-locator",
   "metadata": {
    "execution": {
     "iopub.execute_input": "2021-06-03T19:23:00.200059Z",
     "iopub.status.busy": "2021-06-03T19:23:00.199373Z",
     "iopub.status.idle": "2021-06-03T19:23:02.372006Z",
     "shell.execute_reply": "2021-06-03T19:23:02.371458Z",
     "shell.execute_reply.started": "2021-05-28T05:19:59.256206Z"
    },
    "papermill": {
     "duration": 2.313616,
     "end_time": "2021-06-03T19:23:02.372180",
     "exception": false,
     "start_time": "2021-06-03T19:23:00.058564",
     "status": "completed"
    },
    "tags": []
   },
   "outputs": [],
   "source": [
    "df_clean = df_clean.dropna()"
   ]
  },
  {
   "cell_type": "code",
   "execution_count": 36,
   "id": "geological-stand",
   "metadata": {
    "execution": {
     "iopub.execute_input": "2021-06-03T19:23:02.651913Z",
     "iopub.status.busy": "2021-06-03T19:23:02.651285Z",
     "iopub.status.idle": "2021-06-03T19:23:04.317926Z",
     "shell.execute_reply": "2021-06-03T19:23:04.317418Z",
     "shell.execute_reply.started": "2021-05-28T05:20:01.426415Z"
    },
    "papermill": {
     "duration": 1.807565,
     "end_time": "2021-06-03T19:23:04.318095",
     "exception": false,
     "start_time": "2021-06-03T19:23:02.510530",
     "status": "completed"
    },
    "tags": []
   },
   "outputs": [
    {
     "name": "stdout",
     "output_type": "stream",
     "text": [
      "Bike_Type             0\n",
      "Start_Time            0\n",
      "End_Time              0\n",
      "Starting_Station      0\n",
      "Ending_Station        0\n",
      "Starting_Latitude     0\n",
      "Starting_Longitude    0\n",
      "Ending_Latitude       0\n",
      "Ending_Longitude      0\n",
      "Rider_Status          0\n",
      "Ride_Length           0\n",
      "Day_of_Week           0\n",
      "dtype: int64\n"
     ]
    }
   ],
   "source": [
    "print(df_clean.isnull().sum())"
   ]
  },
  {
   "cell_type": "markdown",
   "id": "under-cursor",
   "metadata": {
    "papermill": {
     "duration": 0.136275,
     "end_time": "2021-06-03T19:23:04.590635",
     "exception": false,
     "start_time": "2021-06-03T19:23:04.454360",
     "status": "completed"
    },
    "tags": []
   },
   "source": [
    "### Now we'll export the data to a csv and load into Tableau Public to visualize."
   ]
  },
  {
   "cell_type": "markdown",
   "id": "organic-reunion",
   "metadata": {
    "papermill": {
     "duration": 0.138651,
     "end_time": "2021-06-03T19:23:04.865444",
     "exception": false,
     "start_time": "2021-06-03T19:23:04.726793",
     "status": "completed"
    },
    "tags": []
   },
   "source": [
    "df_clean = df_clean.to_csv('//Divvy_Cyclist.csv', index=False)\n"
   ]
  },
  {
   "cell_type": "markdown",
   "id": "proud-crossing",
   "metadata": {
    "papermill": {
     "duration": 0.137645,
     "end_time": "2021-06-03T19:23:05.140770",
     "exception": false,
     "start_time": "2021-06-03T19:23:05.003125",
     "status": "completed"
    },
    "tags": []
   },
   "source": [
    "# Analyze & Share"
   ]
  },
  {
   "cell_type": "markdown",
   "id": "weighted-hygiene",
   "metadata": {
    "papermill": {
     "duration": 0.135926,
     "end_time": "2021-06-03T19:23:05.412922",
     "exception": false,
     "start_time": "2021-06-03T19:23:05.276996",
     "status": "completed"
    },
    "tags": []
   },
   "source": [
    "Our **Assignment** was 'How do annual members and casual riders use Cyclistic bikes differently?'\n",
    "\n",
    "First lets list some questions that we can ask to determine thes differences:\n",
    "- Who are taking these rides, members or casuals?\n",
    "- Where are they riding?\n",
    "- For how long are they riding?\n",
    "- What times of the day and year are they riding?\n",
    "- What type of bikes are they riding?\n",
    "\n",
    "After loading the data into Tableau Public the following charts were developed to address these questions."
   ]
  },
  {
   "attachments": {
    "TotalTime.PNG": {
     "image/png": "[encoded data removed]"
    }
   },
   "cell_type": "markdown",
   "id": "grand-format",
   "metadata": {
    "papermill": {
     "duration": 0.136244,
     "end_time": "2021-06-03T19:23:05.686567",
     "exception": false,
     "start_time": "2021-06-03T19:23:05.550323",
     "status": "completed"
    },
    "tags": []
   },
   "source": [
    "## Who is taking the rides?\n",
    "![TotalTime.PNG](attachment:TotalTime.PNG)\n",
    "\n",
    "#### What we found:\n",
    "- There was over 3.5 million rides between April 2020 and April 2021.\n",
    "- For these rides, nearly 59% were members and 41% were casuals.\n",
    "\n",
    "#### What we don't know:\n",
    "- How many of these rides were from the same individuals.  Our information is specific to the ride and not the user.\n",
    "\n",
    "#### Considerations:\n",
    "- Suprised by the high percentage of members.  I expected them to be a minority."
   ]
  },
  {
   "attachments": {
    "5aer3n.gif": {
     "image/gif": "[encoded data removed]"
    }
   },
   "cell_type": "markdown",
   "id": "important-terminology",
   "metadata": {
    "papermill": {
     "duration": 0.136548,
     "end_time": "2021-06-03T19:23:05.961656",
     "exception": false,
     "start_time": "2021-06-03T19:23:05.825108",
     "status": "completed"
    },
    "tags": []
   },
   "source": [
    "## Where are they riding?\n",
    "\n",
    "The following gif shows start locations for members, casuals and combined:\n",
    "\n",
    "![5aer3n.gif](attachment:5aer3n.gif)\n",
    "\n",
    "#### What we found:\n",
    "- From this graphic there doesn't appear to be a large difference between members and casuals.\n",
    "- A seperate graph of ending locations showed comprable results.\n",
    "- Most rides appear to be clustered in the metro area.\n",
    "\n",
    "#### What we don't know:\n",
    "- The relation of ending location or duration of these trips. \n",
    "- The time of the day/year these trips were taken\n",
    "\n",
    "#### Considerations:\n",
    "- Further examinations of this based on time or specific areas may add beneficial information."
   ]
  },
  {
   "attachments": {
    "Duration.PNG": {
     "image/png": "[encoded data removed]"
    }
   },
   "cell_type": "markdown",
   "id": "considerable-federal",
   "metadata": {
    "papermill": {
     "duration": 0.137325,
     "end_time": "2021-06-03T19:23:06.235721",
     "exception": false,
     "start_time": "2021-06-03T19:23:06.098396",
     "status": "completed"
    },
    "tags": []
   },
   "source": [
    "## For how long are they riding?\n",
    "![Duration.PNG](attachment:Duration.PNG)\n",
    "#### What we found:\n",
    "- Casual rides tend to last almost twice as long as member rides.\n",
    "- Shorter rides are unsurprisingly in the winter and longest in the winter.\n",
    "- Members are more consistant with their ride durations with average ride duration ranging between 12-19 minutes compared to 22 and 44 for the casuals.\n",
    "\n",
    "#### What we don't know:\n",
    "- What ending and starting locations relate to these shorter and longer rides.\n",
    "- How the number of unique users may relate to this data. \n",
    "\n",
    "#### Considerations:\n",
    "- It was stated in the case study that members tended to be more likely to use the vehicles for transportation to work.  This could explain the steadier trend and lower average"
   ]
  },
  {
   "attachments": {
    "Monthly.PNG": {
     "image/png": "[encoded data removed]"
    }
   },
   "cell_type": "markdown",
   "id": "female-track",
   "metadata": {
    "papermill": {
     "duration": 0.135155,
     "end_time": "2021-06-03T19:23:06.506932",
     "exception": false,
     "start_time": "2021-06-03T19:23:06.371777",
     "status": "completed"
    },
    "tags": []
   },
   "source": [
    "## What time of day and year are they riding?\n",
    "\n",
    "### Monthly breakdown:\n",
    "\n",
    "![Monthly.PNG](attachment:Monthly.PNG)\n",
    "\n",
    "#### What we found:\n",
    "- In summer months, member and casual rides are nearly equal.\n",
    "- This drastically falls off between November and March with members going for over twice as many rides as casuals for those months.\n",
    "\n",
    "#### What we don't know:\n",
    "- The weather is likely a large factor here, but so may location of bikes. \n",
    "\n",
    "#### Considerations:\n",
    "- Could something be done to spark casual interest in rides even in the colder months?\n"
   ]
  },
  {
   "attachments": {
    "dpw.png": {
     "image/png": "[encoded data removed]"
    }
   },
   "cell_type": "markdown",
   "id": "small-prescription",
   "metadata": {
    "papermill": {
     "duration": 0.136218,
     "end_time": "2021-06-03T19:23:06.779136",
     "exception": false,
     "start_time": "2021-06-03T19:23:06.642918",
     "status": "completed"
    },
    "tags": []
   },
   "source": [
    "### Weekly Breakdown\n",
    "![dpw.png](attachment:dpw.png)\n",
    "#### What we found:\n",
    "- Member rides are highest on Saturday but fairly consistent.\n",
    "- Casual rides are much higher in the weekend.\n",
    "\n",
    "#### What we don't know:\n",
    "- If any monthly outliers are efficting this.\n",
    "\n",
    "#### Considerations:\n",
    "- How can we leverage more Casual rides during the week or market to member riders on the weekend."
   ]
  },
  {
   "attachments": {
    "Hourly.PNG": {
     "image/png": "[encoded data removed]"
    }
   },
   "cell_type": "markdown",
   "id": "tender-excerpt",
   "metadata": {
    "papermill": {
     "duration": 0.13573,
     "end_time": "2021-06-03T19:23:07.050840",
     "exception": false,
     "start_time": "2021-06-03T19:23:06.915110",
     "status": "completed"
    },
    "tags": []
   },
   "source": [
    "### Hourly Breakdown\n",
    "\n",
    "![Hourly.PNG](attachment:Hourly.PNG)\n",
    "\n",
    "#### What we found:\n",
    "- Member rides spike heavily between 6-8 AM and again between 4 and 6 PM. They also have a peak around noon (lunch)\n",
    "- Casual rides begin more slowly at the start of the day but ramp up more consistently.\n",
    "\n",
    "#### What we don't know:\n",
    "- How this varies by month to month\n",
    "\n",
    "#### Considerations:\n",
    "- This is likely again do the people using the bikes for transportation to work.\n",
    "- It's interesting that casual rides don't decrease as quickly in the evenings, although they do begin declining at the same time as member rides."
   ]
  },
  {
   "attachments": {
    "Bike%20Rides.PNG": {
     "image/png": "[encoded data removed]"
    }
   },
   "cell_type": "markdown",
   "id": "herbal-project",
   "metadata": {
    "papermill": {
     "duration": 0.13615,
     "end_time": "2021-06-03T19:23:07.323294",
     "exception": false,
     "start_time": "2021-06-03T19:23:07.187144",
     "status": "completed"
    },
    "tags": []
   },
   "source": [
    "### What type of bikes are they riding?\n",
    "![Bike%20Rides.PNG](attachment:Bike%20Rides.PNG)\n",
    "#### What we found:\n",
    "- Classic bikes appear to be implemented around December 2020.\n",
    "- Members appear to have taken to the classic bikes more quickly then the casual riders.\n",
    "- Around the end of February casual riders became interested in the docked bikes again while the member riders stuck with the classic.\n",
    "\n",
    "#### What we don't know:\n",
    "- Really much of anything about what entails these different bike types.\n",
    "- What incitive there is to ride any of these variations.\n",
    "\n",
    "#### Considerations:\n",
    "- We'd need more information on the types of bikes to make a solid recommendation but it's worth pointing out the difference in user levels especially as the difference is increasing at the time of the investigation."
   ]
  },
  {
   "cell_type": "markdown",
   "id": "vital-router",
   "metadata": {
    "papermill": {
     "duration": 0.135446,
     "end_time": "2021-06-03T19:23:07.594664",
     "exception": false,
     "start_time": "2021-06-03T19:23:07.459218",
     "status": "completed"
    },
    "tags": []
   },
   "source": [
    "# Act"
   ]
  },
  {
   "cell_type": "markdown",
   "id": "concrete-operation",
   "metadata": {
    "papermill": {
     "duration": 0.138081,
     "end_time": "2021-06-03T19:23:07.870902",
     "exception": false,
     "start_time": "2021-06-03T19:23:07.732821",
     "status": "completed"
    },
    "tags": []
   },
   "source": [
    "## Conclusion:\n",
    "**So how do annual members and casual riders use Cyclistic bikes differently**\n",
    "1. Length (Duration)\n",
    "- Members are more consistent riders from day to day, while casual rides last on average twice as long.  This could be doe to price structure making short trips less economic for casual rides, marketing towards leisure instead of convenience etc.\n",
    "2. When (Day, Week, Month)\n",
    "- Member rides spike during the normal start and of the business day, where casual rides start slower and increase/decrease at a steadier rate\n",
    "- Casual riders prefer weekends, where members are more frequent on the weekdays especially around the start and end of work.  This is likely due to members being more likely to use the bikes for commutes, and casuals for leisure.\n",
    "- All rides are down in the colder months, but casual riders all but dissapear then are nearly as frequent as members in the summer.\n",
    "3. What (Type of Bike)\n",
    "- Members adopted the classic bike faster then casual riders and now strongly prefer them where casual riders are showing a returned interest in docked bikes.\n",
    "- **(Assumption)** Members are more likely to adapt to a new type of bike, but casual riders will more likely ride what is available.  \n",
    " - This is an assumption due to not knowing what accentives, bike availability, or price structures each group includees.\n"
   ]
  },
  {
   "cell_type": "markdown",
   "id": "responsible-halloween",
   "metadata": {
    "papermill": {
     "duration": 0.13945,
     "end_time": "2021-06-03T19:23:08.146806",
     "exception": false,
     "start_time": "2021-06-03T19:23:08.007356",
     "status": "completed"
    },
    "tags": []
   },
   "source": [
    "# Wrapping Up:  Google's Data Analysis Case Study\n",
    "\n",
    "This concludes the case study portion of my analysis.  I enjoyed my time pouring through the data and trying to gleam some insight into what makes these ride types different.  If I was an employee of this company, I'd love to know more about the locations, the number of users of each type involved with these rides, and spend more time looking into the paths and distances of each trip.\n",
    "\n",
    "In the next section, I'm going to experiment a little bit with running the data through some beginner Machine Learning algorithms. This is unrelated to the assigned case study, but may provide some fun insight."
   ]
  },
  {
   "cell_type": "markdown",
   "id": "after-gossip",
   "metadata": {
    "papermill": {
     "duration": 0.137448,
     "end_time": "2021-06-03T19:23:08.420101",
     "exception": false,
     "start_time": "2021-06-03T19:23:08.282653",
     "status": "completed"
    },
    "tags": []
   },
   "source": [
    "# Experimenting with Machine Learning\n",
    "\n",
    "It seems irresponsible to run this on Kaggle and not at least put the data through a machine learning algorithm. \n",
    "\n",
    "### Goals:\n",
    "- Gain insight into how similar/different our two ride types are based on ability for ML to accurately predict. \n",
    "- Determine which variables are most important in predictions\n",
    "\n",
    "### Note:  This is a very basic approach to ML using Random Forest Classification to see what insight can be gained on the goals listed.  Any feedback, or suggestions for other algorithms/methods are appreciated."
   ]
  },
  {
   "cell_type": "markdown",
   "id": "unlike-medicaid",
   "metadata": {
    "papermill": {
     "duration": 0.13683,
     "end_time": "2021-06-03T19:23:08.694539",
     "exception": false,
     "start_time": "2021-06-03T19:23:08.557709",
     "status": "completed"
    },
    "tags": []
   },
   "source": [
    "## First we will need to further process our data before we can begin:"
   ]
  },
  {
   "cell_type": "markdown",
   "id": "optimum-resort",
   "metadata": {
    "papermill": {
     "duration": 0.13768,
     "end_time": "2021-06-03T19:23:08.970204",
     "exception": false,
     "start_time": "2021-06-03T19:23:08.832524",
     "status": "completed"
    },
    "tags": []
   },
   "source": [
    "Quick review of our header:"
   ]
  },
  {
   "cell_type": "code",
   "execution_count": 37,
   "id": "oriental-christianity",
   "metadata": {
    "execution": {
     "iopub.execute_input": "2021-06-03T19:23:09.263717Z",
     "iopub.status.busy": "2021-06-03T19:23:09.262752Z",
     "iopub.status.idle": "2021-06-03T19:23:09.266423Z",
     "shell.execute_reply": "2021-06-03T19:23:09.266863Z",
     "shell.execute_reply.started": "2021-05-28T05:20:03.050872Z"
    },
    "papermill": {
     "duration": 0.158938,
     "end_time": "2021-06-03T19:23:09.267055",
     "exception": false,
     "start_time": "2021-06-03T19:23:09.108117",
     "status": "completed"
    },
    "tags": []
   },
   "outputs": [
    {
     "data": {
      "text/html": [
       "<div>\n",
       "<style scoped>\n",
       "    .dataframe tbody tr th:only-of-type {\n",
       "        vertical-align: middle;\n",
       "    }\n",
       "\n",
       "    .dataframe tbody tr th {\n",
       "        vertical-align: top;\n",
       "    }\n",
       "\n",
       "    .dataframe thead th {\n",
       "        text-align: right;\n",
       "    }\n",
       "</style>\n",
       "<table border=\"1\" class=\"dataframe\">\n",
       "  <thead>\n",
       "    <tr style=\"text-align: right;\">\n",
       "      <th></th>\n",
       "      <th>Bike_Type</th>\n",
       "      <th>Start_Time</th>\n",
       "      <th>End_Time</th>\n",
       "      <th>Starting_Station</th>\n",
       "      <th>Ending_Station</th>\n",
       "      <th>Starting_Latitude</th>\n",
       "      <th>Starting_Longitude</th>\n",
       "      <th>Ending_Latitude</th>\n",
       "      <th>Ending_Longitude</th>\n",
       "      <th>Rider_Status</th>\n",
       "      <th>Ride_Length</th>\n",
       "      <th>Day_of_Week</th>\n",
       "    </tr>\n",
       "  </thead>\n",
       "  <tbody>\n",
       "    <tr>\n",
       "      <th>0</th>\n",
       "      <td>docked_bike</td>\n",
       "      <td>2020-04-26 17:45:14</td>\n",
       "      <td>2020-04-26 18:12:03</td>\n",
       "      <td>Eckhart Park</td>\n",
       "      <td>Lincoln Ave &amp; Diversey Pkwy</td>\n",
       "      <td>41.8964</td>\n",
       "      <td>-87.6610</td>\n",
       "      <td>41.9322</td>\n",
       "      <td>-87.6586</td>\n",
       "      <td>member</td>\n",
       "      <td>0.446944</td>\n",
       "      <td>Sunday</td>\n",
       "    </tr>\n",
       "    <tr>\n",
       "      <th>1</th>\n",
       "      <td>docked_bike</td>\n",
       "      <td>2020-04-17 17:08:54</td>\n",
       "      <td>2020-04-17 17:17:03</td>\n",
       "      <td>Drake Ave &amp; Fullerton Ave</td>\n",
       "      <td>Kosciuszko Park</td>\n",
       "      <td>41.9244</td>\n",
       "      <td>-87.7154</td>\n",
       "      <td>41.9306</td>\n",
       "      <td>-87.7238</td>\n",
       "      <td>member</td>\n",
       "      <td>0.135833</td>\n",
       "      <td>Friday</td>\n",
       "    </tr>\n",
       "    <tr>\n",
       "      <th>2</th>\n",
       "      <td>docked_bike</td>\n",
       "      <td>2020-04-01 17:54:13</td>\n",
       "      <td>2020-04-01 18:08:36</td>\n",
       "      <td>McClurg Ct &amp; Erie St</td>\n",
       "      <td>Indiana Ave &amp; Roosevelt Rd</td>\n",
       "      <td>41.8945</td>\n",
       "      <td>-87.6179</td>\n",
       "      <td>41.8679</td>\n",
       "      <td>-87.6230</td>\n",
       "      <td>member</td>\n",
       "      <td>0.239722</td>\n",
       "      <td>Wednesday</td>\n",
       "    </tr>\n",
       "    <tr>\n",
       "      <th>3</th>\n",
       "      <td>docked_bike</td>\n",
       "      <td>2020-04-07 12:50:19</td>\n",
       "      <td>2020-04-07 13:02:31</td>\n",
       "      <td>California Ave &amp; Division St</td>\n",
       "      <td>Wood St &amp; Augusta Blvd</td>\n",
       "      <td>41.9030</td>\n",
       "      <td>-87.6975</td>\n",
       "      <td>41.8992</td>\n",
       "      <td>-87.6722</td>\n",
       "      <td>member</td>\n",
       "      <td>0.203333</td>\n",
       "      <td>Tuesday</td>\n",
       "    </tr>\n",
       "    <tr>\n",
       "      <th>4</th>\n",
       "      <td>docked_bike</td>\n",
       "      <td>2020-04-18 10:22:59</td>\n",
       "      <td>2020-04-18 11:15:54</td>\n",
       "      <td>Rush St &amp; Hubbard St</td>\n",
       "      <td>Sheridan Rd &amp; Lawrence Ave</td>\n",
       "      <td>41.8902</td>\n",
       "      <td>-87.6262</td>\n",
       "      <td>41.9695</td>\n",
       "      <td>-87.6547</td>\n",
       "      <td>casual</td>\n",
       "      <td>0.881944</td>\n",
       "      <td>Saturday</td>\n",
       "    </tr>\n",
       "  </tbody>\n",
       "</table>\n",
       "</div>"
      ],
      "text/plain": [
       "     Bike_Type          Start_Time            End_Time  \\\n",
       "0  docked_bike 2020-04-26 17:45:14 2020-04-26 18:12:03   \n",
       "1  docked_bike 2020-04-17 17:08:54 2020-04-17 17:17:03   \n",
       "2  docked_bike 2020-04-01 17:54:13 2020-04-01 18:08:36   \n",
       "3  docked_bike 2020-04-07 12:50:19 2020-04-07 13:02:31   \n",
       "4  docked_bike 2020-04-18 10:22:59 2020-04-18 11:15:54   \n",
       "\n",
       "               Starting_Station               Ending_Station  \\\n",
       "0                  Eckhart Park  Lincoln Ave & Diversey Pkwy   \n",
       "1     Drake Ave & Fullerton Ave              Kosciuszko Park   \n",
       "2          McClurg Ct & Erie St   Indiana Ave & Roosevelt Rd   \n",
       "3  California Ave & Division St       Wood St & Augusta Blvd   \n",
       "4          Rush St & Hubbard St   Sheridan Rd & Lawrence Ave   \n",
       "\n",
       "   Starting_Latitude  Starting_Longitude  Ending_Latitude  Ending_Longitude  \\\n",
       "0            41.8964            -87.6610          41.9322          -87.6586   \n",
       "1            41.9244            -87.7154          41.9306          -87.7238   \n",
       "2            41.8945            -87.6179          41.8679          -87.6230   \n",
       "3            41.9030            -87.6975          41.8992          -87.6722   \n",
       "4            41.8902            -87.6262          41.9695          -87.6547   \n",
       "\n",
       "  Rider_Status  Ride_Length Day_of_Week  \n",
       "0       member     0.446944      Sunday  \n",
       "1       member     0.135833      Friday  \n",
       "2       member     0.239722   Wednesday  \n",
       "3       member     0.203333     Tuesday  \n",
       "4       casual     0.881944    Saturday  "
      ]
     },
     "execution_count": 37,
     "metadata": {},
     "output_type": "execute_result"
    }
   ],
   "source": [
    "df.head()"
   ]
  },
  {
   "cell_type": "markdown",
   "id": "amateur-chase",
   "metadata": {
    "papermill": {
     "duration": 0.137428,
     "end_time": "2021-06-03T19:23:09.541439",
     "exception": false,
     "start_time": "2021-06-03T19:23:09.404011",
     "status": "completed"
    },
    "tags": []
   },
   "source": [
    "**Let's break down a few of these columns and see how many unique values we have:**"
   ]
  },
  {
   "cell_type": "code",
   "execution_count": 38,
   "id": "legal-blowing",
   "metadata": {
    "execution": {
     "iopub.execute_input": "2021-06-03T19:23:10.574221Z",
     "iopub.status.busy": "2021-06-03T19:23:10.573540Z",
     "iopub.status.idle": "2021-06-03T19:23:10.584007Z",
     "shell.execute_reply": "2021-06-03T19:23:10.583482Z",
     "shell.execute_reply.started": "2021-05-28T05:20:03.073999Z"
    },
    "papermill": {
     "duration": 0.90315,
     "end_time": "2021-06-03T19:23:10.584151",
     "exception": false,
     "start_time": "2021-06-03T19:23:09.681001",
     "status": "completed"
    },
    "tags": []
   },
   "outputs": [
    {
     "data": {
      "text/plain": [
       "docked_bike      2583183\n",
       "electric_bike     709303\n",
       "classic_bike      534492\n",
       "Name: Bike_Type, dtype: int64"
      ]
     },
     "execution_count": 38,
     "metadata": {},
     "output_type": "execute_result"
    }
   ],
   "source": [
    "df['Bike_Type'].value_counts()\n"
   ]
  },
  {
   "cell_type": "code",
   "execution_count": 39,
   "id": "medium-equality",
   "metadata": {
    "execution": {
     "iopub.execute_input": "2021-06-03T19:23:11.592675Z",
     "iopub.status.busy": "2021-06-03T19:23:11.591698Z",
     "iopub.status.idle": "2021-06-03T19:23:11.599730Z",
     "shell.execute_reply": "2021-06-03T19:23:11.599217Z",
     "shell.execute_reply.started": "2021-05-28T05:20:03.931929Z"
    },
    "papermill": {
     "duration": 0.879281,
     "end_time": "2021-06-03T19:23:11.599864",
     "exception": false,
     "start_time": "2021-06-03T19:23:10.720583",
     "status": "completed"
    },
    "tags": []
   },
   "outputs": [
    {
     "data": {
      "text/plain": [
       "(Streeter Dr & Grand Ave          38726\n",
       " Clark St & Elm St                35077\n",
       " Lake Shore Dr & Monroe St        33623\n",
       " Theater on the Lake              32281\n",
       " Lake Shore Dr & North Blvd       29403\n",
       "                                  ...  \n",
       " Hampden Ct & Diversey Ave            1\n",
       " S Michigan Ave & E 118th St          1\n",
       " N Clark St & W Elm St                1\n",
       " N Damen Ave & W Wabansia St          1\n",
       " N Hampden Ct & W Diversey Ave        1\n",
       " Name: Starting_Station, Length: 713, dtype: int64,)"
      ]
     },
     "execution_count": 39,
     "metadata": {},
     "output_type": "execute_result"
    }
   ],
   "source": [
    "df['Starting_Station'].value_counts(),"
   ]
  },
  {
   "cell_type": "markdown",
   "id": "broke-execution",
   "metadata": {
    "papermill": {
     "duration": 0.139875,
     "end_time": "2021-06-03T19:23:11.885712",
     "exception": false,
     "start_time": "2021-06-03T19:23:11.745837",
     "status": "completed"
    },
    "tags": []
   },
   "source": [
    "### Let's take another look at longitude and latitude"
   ]
  },
  {
   "cell_type": "code",
   "execution_count": 40,
   "id": "early-thomson",
   "metadata": {
    "execution": {
     "iopub.execute_input": "2021-06-03T19:23:12.167877Z",
     "iopub.status.busy": "2021-06-03T19:23:12.166677Z",
     "iopub.status.idle": "2021-06-03T19:23:12.338428Z",
     "shell.execute_reply": "2021-06-03T19:23:12.337839Z",
     "shell.execute_reply.started": "2021-05-28T05:20:04.761332Z"
    },
    "papermill": {
     "duration": 0.3135,
     "end_time": "2021-06-03T19:23:12.338569",
     "exception": false,
     "start_time": "2021-06-03T19:23:12.025069",
     "status": "completed"
    },
    "tags": []
   },
   "outputs": [
    {
     "data": {
      "text/plain": [
       "count    3.826978e+06\n",
       "mean    -8.764493e+01\n",
       "std      2.585165e-02\n",
       "min     -8.787000e+01\n",
       "25%     -8.765891e+01\n",
       "50%     -8.764170e+01\n",
       "75%     -8.762773e+01\n",
       "max     -8.752000e+01\n",
       "Name: Starting_Longitude, dtype: float64"
      ]
     },
     "execution_count": 40,
     "metadata": {},
     "output_type": "execute_result"
    }
   ],
   "source": [
    "df['Starting_Longitude'].describe()"
   ]
  },
  {
   "cell_type": "code",
   "execution_count": 41,
   "id": "hired-arbor",
   "metadata": {
    "execution": {
     "iopub.execute_input": "2021-06-03T19:23:12.619202Z",
     "iopub.status.busy": "2021-06-03T19:23:12.617985Z",
     "iopub.status.idle": "2021-06-03T19:23:12.806340Z",
     "shell.execute_reply": "2021-06-03T19:23:12.805670Z",
     "shell.execute_reply.started": "2021-05-28T05:20:04.938206Z"
    },
    "papermill": {
     "duration": 0.330353,
     "end_time": "2021-06-03T19:23:12.806479",
     "exception": false,
     "start_time": "2021-06-03T19:23:12.476126",
     "status": "completed"
    },
    "tags": []
   },
   "outputs": [
    {
     "data": {
      "text/plain": [
       "count    3.826978e+06\n",
       "mean     4.190394e+01\n",
       "std      4.385214e-02\n",
       "min      4.164000e+01\n",
       "25%      4.188224e+01\n",
       "50%      4.190000e+01\n",
       "75%      4.193000e+01\n",
       "max      4.208000e+01\n",
       "Name: Starting_Latitude, dtype: float64"
      ]
     },
     "execution_count": 41,
     "metadata": {},
     "output_type": "execute_result"
    }
   ],
   "source": [
    "df['Starting_Latitude'].describe()"
   ]
  },
  {
   "cell_type": "markdown",
   "id": "amino-injection",
   "metadata": {
    "papermill": {
     "duration": 0.138255,
     "end_time": "2021-06-03T19:23:13.084366",
     "exception": false,
     "start_time": "2021-06-03T19:23:12.946111",
     "status": "completed"
    },
    "tags": []
   },
   "source": [
    "**There might be enough variance in latitude to take a closer look.  We might be able to scale it to something useful, but for now we'll remove it for simplicity**"
   ]
  },
  {
   "cell_type": "markdown",
   "id": "accredited-extension",
   "metadata": {
    "papermill": {
     "duration": 0.138506,
     "end_time": "2021-06-03T19:23:13.362208",
     "exception": false,
     "start_time": "2021-06-03T19:23:13.223702",
     "status": "completed"
    },
    "tags": []
   },
   "source": [
    "### Reducing our variables:\n",
    "- Both the start station name and ID have too many distinct values to categorize for this.  If I knew more about the area, maybe we could break them into sections of the town, but for now we'll remove.\n",
    "- We'll continue to use Start Time and remove End Time\n",
    "- ride_id is a unique column\n",
    "- Latitude and Longitude data"
   ]
  },
  {
   "cell_type": "code",
   "execution_count": 42,
   "id": "contemporary-quality",
   "metadata": {
    "execution": {
     "iopub.execute_input": "2021-06-03T19:23:13.780069Z",
     "iopub.status.busy": "2021-06-03T19:23:13.779083Z",
     "iopub.status.idle": "2021-06-03T19:23:13.785215Z",
     "shell.execute_reply": "2021-06-03T19:23:13.784593Z",
     "shell.execute_reply.started": "2021-05-28T05:20:05.118195Z"
    },
    "papermill": {
     "duration": 0.284969,
     "end_time": "2021-06-03T19:23:13.785375",
     "exception": false,
     "start_time": "2021-06-03T19:23:13.500406",
     "status": "completed"
    },
    "tags": []
   },
   "outputs": [
    {
     "data": {
      "text/html": [
       "<div>\n",
       "<style scoped>\n",
       "    .dataframe tbody tr th:only-of-type {\n",
       "        vertical-align: middle;\n",
       "    }\n",
       "\n",
       "    .dataframe tbody tr th {\n",
       "        vertical-align: top;\n",
       "    }\n",
       "\n",
       "    .dataframe thead th {\n",
       "        text-align: right;\n",
       "    }\n",
       "</style>\n",
       "<table border=\"1\" class=\"dataframe\">\n",
       "  <thead>\n",
       "    <tr style=\"text-align: right;\">\n",
       "      <th></th>\n",
       "      <th>Bike_Type</th>\n",
       "      <th>Start_Time</th>\n",
       "      <th>Rider_Status</th>\n",
       "      <th>Ride_Length</th>\n",
       "      <th>Day_of_Week</th>\n",
       "    </tr>\n",
       "  </thead>\n",
       "  <tbody>\n",
       "    <tr>\n",
       "      <th>0</th>\n",
       "      <td>docked_bike</td>\n",
       "      <td>2020-04-26 17:45:14</td>\n",
       "      <td>member</td>\n",
       "      <td>0.446944</td>\n",
       "      <td>Sunday</td>\n",
       "    </tr>\n",
       "    <tr>\n",
       "      <th>1</th>\n",
       "      <td>docked_bike</td>\n",
       "      <td>2020-04-17 17:08:54</td>\n",
       "      <td>member</td>\n",
       "      <td>0.135833</td>\n",
       "      <td>Friday</td>\n",
       "    </tr>\n",
       "    <tr>\n",
       "      <th>2</th>\n",
       "      <td>docked_bike</td>\n",
       "      <td>2020-04-01 17:54:13</td>\n",
       "      <td>member</td>\n",
       "      <td>0.239722</td>\n",
       "      <td>Wednesday</td>\n",
       "    </tr>\n",
       "    <tr>\n",
       "      <th>3</th>\n",
       "      <td>docked_bike</td>\n",
       "      <td>2020-04-07 12:50:19</td>\n",
       "      <td>member</td>\n",
       "      <td>0.203333</td>\n",
       "      <td>Tuesday</td>\n",
       "    </tr>\n",
       "    <tr>\n",
       "      <th>4</th>\n",
       "      <td>docked_bike</td>\n",
       "      <td>2020-04-18 10:22:59</td>\n",
       "      <td>casual</td>\n",
       "      <td>0.881944</td>\n",
       "      <td>Saturday</td>\n",
       "    </tr>\n",
       "  </tbody>\n",
       "</table>\n",
       "</div>"
      ],
      "text/plain": [
       "     Bike_Type          Start_Time Rider_Status  Ride_Length Day_of_Week\n",
       "0  docked_bike 2020-04-26 17:45:14       member     0.446944      Sunday\n",
       "1  docked_bike 2020-04-17 17:08:54       member     0.135833      Friday\n",
       "2  docked_bike 2020-04-01 17:54:13       member     0.239722   Wednesday\n",
       "3  docked_bike 2020-04-07 12:50:19       member     0.203333     Tuesday\n",
       "4  docked_bike 2020-04-18 10:22:59       casual     0.881944    Saturday"
      ]
     },
     "execution_count": 42,
     "metadata": {},
     "output_type": "execute_result"
    }
   ],
   "source": [
    "#Cleaning up our columns:\n",
    "\n",
    "dfML = df.drop(['Starting_Station', 'Ending_Station', 'End_Time', 'Starting_Latitude', 'Ending_Latitude', 'Starting_Longitude', 'Ending_Longitude'], axis='columns')\n",
    "dfML.head()\n"
   ]
  },
  {
   "cell_type": "markdown",
   "id": "conscious-means",
   "metadata": {
    "papermill": {
     "duration": 0.1395,
     "end_time": "2021-06-03T19:23:14.064846",
     "exception": false,
     "start_time": "2021-06-03T19:23:13.925346",
     "status": "completed"
    },
    "tags": []
   },
   "source": [
    "**Lets move ahead and clean up our ride length data by getting minutes (multiple x 60) and setting to integer.**"
   ]
  },
  {
   "cell_type": "code",
   "execution_count": 43,
   "id": "utility-intake",
   "metadata": {
    "execution": {
     "iopub.execute_input": "2021-06-03T19:23:14.351554Z",
     "iopub.status.busy": "2021-06-03T19:23:14.350284Z",
     "iopub.status.idle": "2021-06-03T19:23:14.375555Z",
     "shell.execute_reply": "2021-06-03T19:23:14.375022Z",
     "shell.execute_reply.started": "2021-05-28T05:20:05.265548Z"
    },
    "papermill": {
     "duration": 0.172904,
     "end_time": "2021-06-03T19:23:14.375705",
     "exception": false,
     "start_time": "2021-06-03T19:23:14.202801",
     "status": "completed"
    },
    "tags": []
   },
   "outputs": [],
   "source": [
    "dfML['Ride_Length'] = dfML['Ride_Length'] * 60"
   ]
  },
  {
   "cell_type": "code",
   "execution_count": 44,
   "id": "informative-bermuda",
   "metadata": {
    "execution": {
     "iopub.execute_input": "2021-06-03T19:23:14.658893Z",
     "iopub.status.busy": "2021-06-03T19:23:14.658191Z",
     "iopub.status.idle": "2021-06-03T19:23:14.687382Z",
     "shell.execute_reply": "2021-06-03T19:23:14.686849Z",
     "shell.execute_reply.started": "2021-05-28T05:20:05.296249Z"
    },
    "papermill": {
     "duration": 0.172892,
     "end_time": "2021-06-03T19:23:14.687529",
     "exception": false,
     "start_time": "2021-06-03T19:23:14.514637",
     "status": "completed"
    },
    "tags": []
   },
   "outputs": [],
   "source": [
    "dfML['Ride_Length'] = dfML['Ride_Length'].astype(int)"
   ]
  },
  {
   "cell_type": "code",
   "execution_count": 45,
   "id": "fatal-flour",
   "metadata": {
    "execution": {
     "iopub.execute_input": "2021-06-03T19:23:14.978033Z",
     "iopub.status.busy": "2021-06-03T19:23:14.977358Z",
     "iopub.status.idle": "2021-06-03T19:23:14.980197Z",
     "shell.execute_reply": "2021-06-03T19:23:14.980703Z",
     "shell.execute_reply.started": "2021-05-28T05:20:05.319257Z"
    },
    "papermill": {
     "duration": 0.153119,
     "end_time": "2021-06-03T19:23:14.980863",
     "exception": false,
     "start_time": "2021-06-03T19:23:14.827744",
     "status": "completed"
    },
    "tags": []
   },
   "outputs": [
    {
     "data": {
      "text/html": [
       "<div>\n",
       "<style scoped>\n",
       "    .dataframe tbody tr th:only-of-type {\n",
       "        vertical-align: middle;\n",
       "    }\n",
       "\n",
       "    .dataframe tbody tr th {\n",
       "        vertical-align: top;\n",
       "    }\n",
       "\n",
       "    .dataframe thead th {\n",
       "        text-align: right;\n",
       "    }\n",
       "</style>\n",
       "<table border=\"1\" class=\"dataframe\">\n",
       "  <thead>\n",
       "    <tr style=\"text-align: right;\">\n",
       "      <th></th>\n",
       "      <th>Bike_Type</th>\n",
       "      <th>Start_Time</th>\n",
       "      <th>Rider_Status</th>\n",
       "      <th>Ride_Length</th>\n",
       "      <th>Day_of_Week</th>\n",
       "    </tr>\n",
       "  </thead>\n",
       "  <tbody>\n",
       "    <tr>\n",
       "      <th>0</th>\n",
       "      <td>docked_bike</td>\n",
       "      <td>2020-04-26 17:45:14</td>\n",
       "      <td>member</td>\n",
       "      <td>26</td>\n",
       "      <td>Sunday</td>\n",
       "    </tr>\n",
       "    <tr>\n",
       "      <th>1</th>\n",
       "      <td>docked_bike</td>\n",
       "      <td>2020-04-17 17:08:54</td>\n",
       "      <td>member</td>\n",
       "      <td>8</td>\n",
       "      <td>Friday</td>\n",
       "    </tr>\n",
       "    <tr>\n",
       "      <th>2</th>\n",
       "      <td>docked_bike</td>\n",
       "      <td>2020-04-01 17:54:13</td>\n",
       "      <td>member</td>\n",
       "      <td>14</td>\n",
       "      <td>Wednesday</td>\n",
       "    </tr>\n",
       "    <tr>\n",
       "      <th>3</th>\n",
       "      <td>docked_bike</td>\n",
       "      <td>2020-04-07 12:50:19</td>\n",
       "      <td>member</td>\n",
       "      <td>12</td>\n",
       "      <td>Tuesday</td>\n",
       "    </tr>\n",
       "    <tr>\n",
       "      <th>4</th>\n",
       "      <td>docked_bike</td>\n",
       "      <td>2020-04-18 10:22:59</td>\n",
       "      <td>casual</td>\n",
       "      <td>52</td>\n",
       "      <td>Saturday</td>\n",
       "    </tr>\n",
       "  </tbody>\n",
       "</table>\n",
       "</div>"
      ],
      "text/plain": [
       "     Bike_Type          Start_Time Rider_Status  Ride_Length Day_of_Week\n",
       "0  docked_bike 2020-04-26 17:45:14       member           26      Sunday\n",
       "1  docked_bike 2020-04-17 17:08:54       member            8      Friday\n",
       "2  docked_bike 2020-04-01 17:54:13       member           14   Wednesday\n",
       "3  docked_bike 2020-04-07 12:50:19       member           12     Tuesday\n",
       "4  docked_bike 2020-04-18 10:22:59       casual           52    Saturday"
      ]
     },
     "execution_count": 45,
     "metadata": {},
     "output_type": "execute_result"
    }
   ],
   "source": [
    "dfML.head()"
   ]
  },
  {
   "cell_type": "markdown",
   "id": "fitted-falls",
   "metadata": {
    "papermill": {
     "duration": 0.138075,
     "end_time": "2021-06-03T19:23:15.257638",
     "exception": false,
     "start_time": "2021-06-03T19:23:15.119563",
     "status": "completed"
    },
    "tags": []
   },
   "source": [
    "### From our earlier analysis we accessed the key difference in ride types were ride length(duration) , ride time(hour of day, day of week, month of year), and to a lesser extend bike type   \n",
    "\n",
    "**Let's break these down a bit so they can be categories**\n",
    "\n",
    "#### From our Rider per Month chart their seems to be two distinct areas: Colder months (October-March) and Warmer months (April-September)"
   ]
  },
  {
   "cell_type": "code",
   "execution_count": 46,
   "id": "hearing-christopher",
   "metadata": {
    "execution": {
     "iopub.execute_input": "2021-06-03T19:23:15.537875Z",
     "iopub.status.busy": "2021-06-03T19:23:15.537265Z",
     "iopub.status.idle": "2021-06-03T19:23:15.894663Z",
     "shell.execute_reply": "2021-06-03T19:23:15.894096Z",
     "shell.execute_reply.started": "2021-05-28T05:20:05.334238Z"
    },
    "papermill": {
     "duration": 0.498566,
     "end_time": "2021-06-03T19:23:15.894804",
     "exception": false,
     "start_time": "2021-06-03T19:23:15.396238",
     "status": "completed"
    },
    "tags": []
   },
   "outputs": [],
   "source": [
    "#Break datetime into integer value for Month\n",
    "dfML['Month'] = dfML['Start_Time'].dt.month"
   ]
  },
  {
   "cell_type": "code",
   "execution_count": 47,
   "id": "intense-familiar",
   "metadata": {
    "execution": {
     "iopub.execute_input": "2021-06-03T19:23:16.178520Z",
     "iopub.status.busy": "2021-06-03T19:23:16.177652Z",
     "iopub.status.idle": "2021-06-03T19:23:16.213892Z",
     "shell.execute_reply": "2021-06-03T19:23:16.213397Z",
     "shell.execute_reply.started": "2021-05-28T05:20:05.698635Z"
    },
    "papermill": {
     "duration": 0.180409,
     "end_time": "2021-06-03T19:23:16.214063",
     "exception": false,
     "start_time": "2021-06-03T19:23:16.033654",
     "status": "completed"
    },
    "tags": []
   },
   "outputs": [
    {
     "data": {
      "text/plain": [
       "8     622361\n",
       "7     551480\n",
       "9     532958\n",
       "4     422006\n",
       "10    388653\n",
       "6     343005\n",
       "11    259716\n",
       "3     228496\n",
       "5     200274\n",
       "12    131573\n",
       "1      96834\n",
       "2      49622\n",
       "Name: Month, dtype: int64"
      ]
     },
     "execution_count": 47,
     "metadata": {},
     "output_type": "execute_result"
    }
   ],
   "source": [
    "dfML.Month.value_counts()"
   ]
  },
  {
   "cell_type": "markdown",
   "id": "convertible-principal",
   "metadata": {
    "papermill": {
     "duration": 0.138619,
     "end_time": "2021-06-03T19:23:16.492068",
     "exception": false,
     "start_time": "2021-06-03T19:23:16.353449",
     "status": "completed"
    },
    "tags": []
   },
   "source": [
    "**The following will let us split our monthly time into warm/cold**"
   ]
  },
  {
   "cell_type": "code",
   "execution_count": 48,
   "id": "olive-negotiation",
   "metadata": {
    "execution": {
     "iopub.execute_input": "2021-06-03T19:23:16.779617Z",
     "iopub.status.busy": "2021-06-03T19:23:16.778921Z",
     "iopub.status.idle": "2021-06-03T19:23:16.843130Z",
     "shell.execute_reply": "2021-06-03T19:23:16.843619Z",
     "shell.execute_reply.started": "2021-05-28T05:20:05.73963Z"
    },
    "papermill": {
     "duration": 0.211153,
     "end_time": "2021-06-03T19:23:16.843801",
     "exception": false,
     "start_time": "2021-06-03T19:23:16.632648",
     "status": "completed"
    },
    "tags": []
   },
   "outputs": [],
   "source": [
    "dfML['Season'] = pd.cut(dfML['Month'],\n",
    "                            [0,3,9,12],\n",
    "                            labels = ['Cold', 'Warm', 'Cold'],\n",
    "                             include_lowest=True,\n",
    "                            ordered=False)"
   ]
  },
  {
   "cell_type": "markdown",
   "id": "intellectual-conservation",
   "metadata": {
    "papermill": {
     "duration": 0.141787,
     "end_time": "2021-06-03T19:23:17.129019",
     "exception": false,
     "start_time": "2021-06-03T19:23:16.987232",
     "status": "completed"
    },
    "tags": []
   },
   "source": [
    "### Let's seperate our 'Day of Week' column based on weekday or weekend\n",
    "- In our chart we can see the count of casual rides drops much lower then members during weekdays"
   ]
  },
  {
   "cell_type": "code",
   "execution_count": 49,
   "id": "earned-psychiatry",
   "metadata": {
    "execution": {
     "iopub.execute_input": "2021-06-03T19:23:17.906694Z",
     "iopub.status.busy": "2021-06-03T19:23:17.906040Z",
     "iopub.status.idle": "2021-06-03T19:23:18.445523Z",
     "shell.execute_reply": "2021-06-03T19:23:18.444937Z",
     "shell.execute_reply.started": "2021-05-28T05:20:05.808624Z"
    },
    "papermill": {
     "duration": 1.177556,
     "end_time": "2021-06-03T19:23:18.445677",
     "exception": false,
     "start_time": "2021-06-03T19:23:17.268121",
     "status": "completed"
    },
    "tags": []
   },
   "outputs": [],
   "source": [
    "dfML['Part_of_Week'] = np.where((dfML['Day_of_Week'] == 'Saturday') | (dfML['Day_of_Week'] == 'Sunday'), 1,0)"
   ]
  },
  {
   "cell_type": "code",
   "execution_count": 50,
   "id": "korean-michael",
   "metadata": {
    "execution": {
     "iopub.execute_input": "2021-06-03T19:23:18.741417Z",
     "iopub.status.busy": "2021-06-03T19:23:18.740462Z",
     "iopub.status.idle": "2021-06-03T19:23:18.744997Z",
     "shell.execute_reply": "2021-06-03T19:23:18.744493Z",
     "shell.execute_reply.started": "2021-05-28T05:20:06.862791Z"
    },
    "papermill": {
     "duration": 0.159025,
     "end_time": "2021-06-03T19:23:18.745148",
     "exception": false,
     "start_time": "2021-06-03T19:23:18.586123",
     "status": "completed"
    },
    "tags": []
   },
   "outputs": [
    {
     "data": {
      "text/html": [
       "<div>\n",
       "<style scoped>\n",
       "    .dataframe tbody tr th:only-of-type {\n",
       "        vertical-align: middle;\n",
       "    }\n",
       "\n",
       "    .dataframe tbody tr th {\n",
       "        vertical-align: top;\n",
       "    }\n",
       "\n",
       "    .dataframe thead th {\n",
       "        text-align: right;\n",
       "    }\n",
       "</style>\n",
       "<table border=\"1\" class=\"dataframe\">\n",
       "  <thead>\n",
       "    <tr style=\"text-align: right;\">\n",
       "      <th></th>\n",
       "      <th>Bike_Type</th>\n",
       "      <th>Start_Time</th>\n",
       "      <th>Rider_Status</th>\n",
       "      <th>Ride_Length</th>\n",
       "      <th>Day_of_Week</th>\n",
       "      <th>Month</th>\n",
       "      <th>Season</th>\n",
       "      <th>Part_of_Week</th>\n",
       "    </tr>\n",
       "  </thead>\n",
       "  <tbody>\n",
       "    <tr>\n",
       "      <th>0</th>\n",
       "      <td>docked_bike</td>\n",
       "      <td>2020-04-26 17:45:14</td>\n",
       "      <td>member</td>\n",
       "      <td>26</td>\n",
       "      <td>Sunday</td>\n",
       "      <td>4</td>\n",
       "      <td>Warm</td>\n",
       "      <td>1</td>\n",
       "    </tr>\n",
       "    <tr>\n",
       "      <th>1</th>\n",
       "      <td>docked_bike</td>\n",
       "      <td>2020-04-17 17:08:54</td>\n",
       "      <td>member</td>\n",
       "      <td>8</td>\n",
       "      <td>Friday</td>\n",
       "      <td>4</td>\n",
       "      <td>Warm</td>\n",
       "      <td>0</td>\n",
       "    </tr>\n",
       "    <tr>\n",
       "      <th>2</th>\n",
       "      <td>docked_bike</td>\n",
       "      <td>2020-04-01 17:54:13</td>\n",
       "      <td>member</td>\n",
       "      <td>14</td>\n",
       "      <td>Wednesday</td>\n",
       "      <td>4</td>\n",
       "      <td>Warm</td>\n",
       "      <td>0</td>\n",
       "    </tr>\n",
       "    <tr>\n",
       "      <th>3</th>\n",
       "      <td>docked_bike</td>\n",
       "      <td>2020-04-07 12:50:19</td>\n",
       "      <td>member</td>\n",
       "      <td>12</td>\n",
       "      <td>Tuesday</td>\n",
       "      <td>4</td>\n",
       "      <td>Warm</td>\n",
       "      <td>0</td>\n",
       "    </tr>\n",
       "    <tr>\n",
       "      <th>4</th>\n",
       "      <td>docked_bike</td>\n",
       "      <td>2020-04-18 10:22:59</td>\n",
       "      <td>casual</td>\n",
       "      <td>52</td>\n",
       "      <td>Saturday</td>\n",
       "      <td>4</td>\n",
       "      <td>Warm</td>\n",
       "      <td>1</td>\n",
       "    </tr>\n",
       "  </tbody>\n",
       "</table>\n",
       "</div>"
      ],
      "text/plain": [
       "     Bike_Type          Start_Time Rider_Status  Ride_Length Day_of_Week  \\\n",
       "0  docked_bike 2020-04-26 17:45:14       member           26      Sunday   \n",
       "1  docked_bike 2020-04-17 17:08:54       member            8      Friday   \n",
       "2  docked_bike 2020-04-01 17:54:13       member           14   Wednesday   \n",
       "3  docked_bike 2020-04-07 12:50:19       member           12     Tuesday   \n",
       "4  docked_bike 2020-04-18 10:22:59       casual           52    Saturday   \n",
       "\n",
       "   Month Season  Part_of_Week  \n",
       "0      4   Warm             1  \n",
       "1      4   Warm             0  \n",
       "2      4   Warm             0  \n",
       "3      4   Warm             0  \n",
       "4      4   Warm             1  "
      ]
     },
     "execution_count": 50,
     "metadata": {},
     "output_type": "execute_result"
    }
   ],
   "source": [
    "dfML.head()"
   ]
  },
  {
   "cell_type": "markdown",
   "id": "educational-shooting",
   "metadata": {
    "papermill": {
     "duration": 0.140244,
     "end_time": "2021-06-03T19:23:19.027369",
     "exception": false,
     "start_time": "2021-06-03T19:23:18.887125",
     "status": "completed"
    },
    "tags": []
   },
   "source": [
    "### Now we'll seperate our daily time into hours\n",
    "\n",
    "**In our analysis we determined members had large spikes in rides during morning and evening commutes.  These maybe beneficial for our model to predict**\n",
    "- The following will let us split our hourly time into parts of the day"
   ]
  },
  {
   "cell_type": "code",
   "execution_count": 51,
   "id": "convenient-functionality",
   "metadata": {
    "execution": {
     "iopub.execute_input": "2021-06-03T19:23:19.312625Z",
     "iopub.status.busy": "2021-06-03T19:23:19.311937Z",
     "iopub.status.idle": "2021-06-03T19:23:19.666734Z",
     "shell.execute_reply": "2021-06-03T19:23:19.667208Z",
     "shell.execute_reply.started": "2021-05-28T05:20:06.880666Z"
    },
    "papermill": {
     "duration": 0.498973,
     "end_time": "2021-06-03T19:23:19.667387",
     "exception": false,
     "start_time": "2021-06-03T19:23:19.168414",
     "status": "completed"
    },
    "tags": []
   },
   "outputs": [],
   "source": [
    "#Break datetime into integer value for hour\n",
    "dfML['Hours'] = dfML['Start_Time'].dt.hour"
   ]
  },
  {
   "cell_type": "markdown",
   "id": "mysterious-jenny",
   "metadata": {
    "papermill": {
     "duration": 0.146105,
     "end_time": "2021-06-03T19:23:19.952776",
     "exception": false,
     "start_time": "2021-06-03T19:23:19.806671",
     "status": "completed"
    },
    "tags": []
   },
   "source": [
    "**The following will let us split our hourly time into parts of the day**"
   ]
  },
  {
   "cell_type": "code",
   "execution_count": 52,
   "id": "working-youth",
   "metadata": {
    "execution": {
     "iopub.execute_input": "2021-06-03T19:23:20.240353Z",
     "iopub.status.busy": "2021-06-03T19:23:20.239674Z",
     "iopub.status.idle": "2021-06-03T19:23:20.334921Z",
     "shell.execute_reply": "2021-06-03T19:23:20.335481Z",
     "shell.execute_reply.started": "2021-05-28T05:20:07.250566Z"
    },
    "papermill": {
     "duration": 0.243088,
     "end_time": "2021-06-03T19:23:20.335652",
     "exception": false,
     "start_time": "2021-06-03T19:23:20.092564",
     "status": "completed"
    },
    "tags": []
   },
   "outputs": [],
   "source": [
    "dfML['Part_of_Day'] = pd.cut(dfML['Hours'],\n",
    "                            [0,4,8,16,20,23],\n",
    "                            labels = ['Late_Night', 'Morning', 'Afternoon','Evening', 'Night'],\n",
    "                             include_lowest=True,\n",
    "                            ordered=False)\n",
    "                                                         "
   ]
  },
  {
   "cell_type": "code",
   "execution_count": 53,
   "id": "arabic-rhythm",
   "metadata": {
    "execution": {
     "iopub.execute_input": "2021-06-03T19:23:20.619919Z",
     "iopub.status.busy": "2021-06-03T19:23:20.619214Z",
     "iopub.status.idle": "2021-06-03T19:23:20.639482Z",
     "shell.execute_reply": "2021-06-03T19:23:20.640003Z",
     "shell.execute_reply.started": "2021-05-28T05:20:07.35251Z"
    },
    "papermill": {
     "duration": 0.165116,
     "end_time": "2021-06-03T19:23:20.640181",
     "exception": false,
     "start_time": "2021-06-03T19:23:20.475065",
     "status": "completed"
    },
    "tags": []
   },
   "outputs": [
    {
     "data": {
      "text/plain": [
       "Afternoon     1947128\n",
       "Evening       1154841\n",
       "Morning        377115\n",
       "Night          257986\n",
       "Late_Night      89908\n",
       "Name: Part_of_Day, dtype: int64"
      ]
     },
     "execution_count": 53,
     "metadata": {},
     "output_type": "execute_result"
    }
   ],
   "source": [
    "dfML.Part_of_Day.value_counts()"
   ]
  },
  {
   "cell_type": "code",
   "execution_count": 54,
   "id": "sunset-drawing",
   "metadata": {
    "execution": {
     "iopub.execute_input": "2021-06-03T19:23:20.937577Z",
     "iopub.status.busy": "2021-06-03T19:23:20.936689Z",
     "iopub.status.idle": "2021-06-03T19:23:20.940889Z",
     "shell.execute_reply": "2021-06-03T19:23:20.940384Z",
     "shell.execute_reply.started": "2021-05-28T05:20:07.377018Z"
    },
    "papermill": {
     "duration": 0.160154,
     "end_time": "2021-06-03T19:23:20.941041",
     "exception": false,
     "start_time": "2021-06-03T19:23:20.780887",
     "status": "completed"
    },
    "tags": []
   },
   "outputs": [
    {
     "data": {
      "text/html": [
       "<div>\n",
       "<style scoped>\n",
       "    .dataframe tbody tr th:only-of-type {\n",
       "        vertical-align: middle;\n",
       "    }\n",
       "\n",
       "    .dataframe tbody tr th {\n",
       "        vertical-align: top;\n",
       "    }\n",
       "\n",
       "    .dataframe thead th {\n",
       "        text-align: right;\n",
       "    }\n",
       "</style>\n",
       "<table border=\"1\" class=\"dataframe\">\n",
       "  <thead>\n",
       "    <tr style=\"text-align: right;\">\n",
       "      <th></th>\n",
       "      <th>Bike_Type</th>\n",
       "      <th>Start_Time</th>\n",
       "      <th>Rider_Status</th>\n",
       "      <th>Ride_Length</th>\n",
       "      <th>Day_of_Week</th>\n",
       "      <th>Month</th>\n",
       "      <th>Season</th>\n",
       "      <th>Part_of_Week</th>\n",
       "      <th>Hours</th>\n",
       "      <th>Part_of_Day</th>\n",
       "    </tr>\n",
       "  </thead>\n",
       "  <tbody>\n",
       "    <tr>\n",
       "      <th>0</th>\n",
       "      <td>docked_bike</td>\n",
       "      <td>2020-04-26 17:45:14</td>\n",
       "      <td>member</td>\n",
       "      <td>26</td>\n",
       "      <td>Sunday</td>\n",
       "      <td>4</td>\n",
       "      <td>Warm</td>\n",
       "      <td>1</td>\n",
       "      <td>17</td>\n",
       "      <td>Evening</td>\n",
       "    </tr>\n",
       "    <tr>\n",
       "      <th>1</th>\n",
       "      <td>docked_bike</td>\n",
       "      <td>2020-04-17 17:08:54</td>\n",
       "      <td>member</td>\n",
       "      <td>8</td>\n",
       "      <td>Friday</td>\n",
       "      <td>4</td>\n",
       "      <td>Warm</td>\n",
       "      <td>0</td>\n",
       "      <td>17</td>\n",
       "      <td>Evening</td>\n",
       "    </tr>\n",
       "    <tr>\n",
       "      <th>2</th>\n",
       "      <td>docked_bike</td>\n",
       "      <td>2020-04-01 17:54:13</td>\n",
       "      <td>member</td>\n",
       "      <td>14</td>\n",
       "      <td>Wednesday</td>\n",
       "      <td>4</td>\n",
       "      <td>Warm</td>\n",
       "      <td>0</td>\n",
       "      <td>17</td>\n",
       "      <td>Evening</td>\n",
       "    </tr>\n",
       "    <tr>\n",
       "      <th>3</th>\n",
       "      <td>docked_bike</td>\n",
       "      <td>2020-04-07 12:50:19</td>\n",
       "      <td>member</td>\n",
       "      <td>12</td>\n",
       "      <td>Tuesday</td>\n",
       "      <td>4</td>\n",
       "      <td>Warm</td>\n",
       "      <td>0</td>\n",
       "      <td>12</td>\n",
       "      <td>Afternoon</td>\n",
       "    </tr>\n",
       "    <tr>\n",
       "      <th>4</th>\n",
       "      <td>docked_bike</td>\n",
       "      <td>2020-04-18 10:22:59</td>\n",
       "      <td>casual</td>\n",
       "      <td>52</td>\n",
       "      <td>Saturday</td>\n",
       "      <td>4</td>\n",
       "      <td>Warm</td>\n",
       "      <td>1</td>\n",
       "      <td>10</td>\n",
       "      <td>Afternoon</td>\n",
       "    </tr>\n",
       "  </tbody>\n",
       "</table>\n",
       "</div>"
      ],
      "text/plain": [
       "     Bike_Type          Start_Time Rider_Status  Ride_Length Day_of_Week  \\\n",
       "0  docked_bike 2020-04-26 17:45:14       member           26      Sunday   \n",
       "1  docked_bike 2020-04-17 17:08:54       member            8      Friday   \n",
       "2  docked_bike 2020-04-01 17:54:13       member           14   Wednesday   \n",
       "3  docked_bike 2020-04-07 12:50:19       member           12     Tuesday   \n",
       "4  docked_bike 2020-04-18 10:22:59       casual           52    Saturday   \n",
       "\n",
       "   Month Season  Part_of_Week  Hours Part_of_Day  \n",
       "0      4   Warm             1     17     Evening  \n",
       "1      4   Warm             0     17     Evening  \n",
       "2      4   Warm             0     17     Evening  \n",
       "3      4   Warm             0     12   Afternoon  \n",
       "4      4   Warm             1     10   Afternoon  "
      ]
     },
     "execution_count": 54,
     "metadata": {},
     "output_type": "execute_result"
    }
   ],
   "source": [
    "dfML.head()"
   ]
  },
  {
   "cell_type": "markdown",
   "id": "destroyed-butter",
   "metadata": {
    "papermill": {
     "duration": 0.140689,
     "end_time": "2021-06-03T19:23:21.223217",
     "exception": false,
     "start_time": "2021-06-03T19:23:21.082528",
     "status": "completed"
    },
    "tags": []
   },
   "source": [
    "### Seperate our Rider Status into member = 1, casual = 0"
   ]
  },
  {
   "cell_type": "code",
   "execution_count": 55,
   "id": "certified-dietary",
   "metadata": {
    "execution": {
     "iopub.execute_input": "2021-06-03T19:23:21.508893Z",
     "iopub.status.busy": "2021-06-03T19:23:21.508258Z",
     "iopub.status.idle": "2021-06-03T19:23:22.063232Z",
     "shell.execute_reply": "2021-06-03T19:23:22.063721Z",
     "shell.execute_reply.started": "2021-05-28T05:20:07.395637Z"
    },
    "papermill": {
     "duration": 0.699266,
     "end_time": "2021-06-03T19:23:22.063910",
     "exception": false,
     "start_time": "2021-06-03T19:23:21.364644",
     "status": "completed"
    },
    "tags": []
   },
   "outputs": [],
   "source": [
    "dfML['Ride_Type'] = np.where(dfML['Rider_Status'] == 'member',1,0)"
   ]
  },
  {
   "cell_type": "markdown",
   "id": "significant-validation",
   "metadata": {
    "papermill": {
     "duration": 0.140956,
     "end_time": "2021-06-03T19:23:22.348115",
     "exception": false,
     "start_time": "2021-06-03T19:23:22.207159",
     "status": "completed"
    },
    "tags": []
   },
   "source": [
    "## Now we'll break our categorical data into numerical form using One-Hot Encoding via pandas get_dummies.  \n",
    "\n",
    "### We'll do this for our 'Rider Status', 'Bike Type', 'Season' and 'Part_of_Day' columns\n",
    "\n",
    "[Here]('https://towardsdatascience.com/what-is-one-hot-encoding-and-how-to-use-pandas-get-dummies-function-922eb9bd4970') is a simple guide on One hot encoding.\n",
    "\n",
    "I could likely do this by changing the labels of the columns we cut, but I'm going to experiment with this method first"
   ]
  },
  {
   "cell_type": "code",
   "execution_count": 56,
   "id": "prescribed-equivalent",
   "metadata": {
    "execution": {
     "iopub.execute_input": "2021-06-03T19:23:22.690068Z",
     "iopub.status.busy": "2021-06-03T19:23:22.688215Z",
     "iopub.status.idle": "2021-06-03T19:23:22.963697Z",
     "shell.execute_reply": "2021-06-03T19:23:22.963144Z",
     "shell.execute_reply.started": "2021-05-28T05:20:07.957137Z"
    },
    "papermill": {
     "duration": 0.475134,
     "end_time": "2021-06-03T19:23:22.963842",
     "exception": false,
     "start_time": "2021-06-03T19:23:22.488708",
     "status": "completed"
    },
    "tags": []
   },
   "outputs": [],
   "source": [
    "bt_dummies = pd.get_dummies(dfML['Bike_Type'])"
   ]
  },
  {
   "cell_type": "code",
   "execution_count": 57,
   "id": "offshore-uzbekistan",
   "metadata": {
    "execution": {
     "iopub.execute_input": "2021-06-03T19:23:23.257040Z",
     "iopub.status.busy": "2021-06-03T19:23:23.256351Z",
     "iopub.status.idle": "2021-06-03T19:23:23.281930Z",
     "shell.execute_reply": "2021-06-03T19:23:23.281289Z",
     "shell.execute_reply.started": "2021-05-28T05:20:08.299324Z"
    },
    "papermill": {
     "duration": 0.174399,
     "end_time": "2021-06-03T19:23:23.282101",
     "exception": false,
     "start_time": "2021-06-03T19:23:23.107702",
     "status": "completed"
    },
    "tags": []
   },
   "outputs": [],
   "source": [
    "seasons_dummies = pd.get_dummies(dfML['Season'])"
   ]
  },
  {
   "cell_type": "code",
   "execution_count": 58,
   "id": "resistant-empire",
   "metadata": {
    "execution": {
     "iopub.execute_input": "2021-06-03T19:23:23.569632Z",
     "iopub.status.busy": "2021-06-03T19:23:23.568936Z",
     "iopub.status.idle": "2021-06-03T19:23:23.594594Z",
     "shell.execute_reply": "2021-06-03T19:23:23.593896Z",
     "shell.execute_reply.started": "2021-05-28T05:20:08.327148Z"
    },
    "papermill": {
     "duration": 0.171447,
     "end_time": "2021-06-03T19:23:23.594736",
     "exception": false,
     "start_time": "2021-06-03T19:23:23.423289",
     "status": "completed"
    },
    "tags": []
   },
   "outputs": [],
   "source": [
    "pod_dummies = pd.get_dummies(dfML['Part_of_Day'])"
   ]
  },
  {
   "cell_type": "markdown",
   "id": "expired-processor",
   "metadata": {
    "papermill": {
     "duration": 0.145192,
     "end_time": "2021-06-03T19:23:23.904216",
     "exception": false,
     "start_time": "2021-06-03T19:23:23.759024",
     "status": "completed"
    },
    "tags": []
   },
   "source": [
    "## Time to add all our dummy frames into our dataFrame\n",
    "\n",
    "**Note: Also remove redundant columns**"
   ]
  },
  {
   "cell_type": "code",
   "execution_count": 59,
   "id": "approved-record",
   "metadata": {
    "execution": {
     "iopub.execute_input": "2021-06-03T19:23:24.192623Z",
     "iopub.status.busy": "2021-06-03T19:23:24.191882Z",
     "iopub.status.idle": "2021-06-03T19:23:24.608968Z",
     "shell.execute_reply": "2021-06-03T19:23:24.608354Z",
     "shell.execute_reply.started": "2021-05-28T05:20:08.354037Z"
    },
    "papermill": {
     "duration": 0.562637,
     "end_time": "2021-06-03T19:23:24.609167",
     "exception": false,
     "start_time": "2021-06-03T19:23:24.046530",
     "status": "completed"
    },
    "tags": []
   },
   "outputs": [],
   "source": [
    "dfML = pd.concat([dfML, bt_dummies, seasons_dummies, pod_dummies], axis=1)"
   ]
  },
  {
   "cell_type": "code",
   "execution_count": 60,
   "id": "elegant-brake",
   "metadata": {
    "execution": {
     "iopub.execute_input": "2021-06-03T19:23:24.899179Z",
     "iopub.status.busy": "2021-06-03T19:23:24.898485Z",
     "iopub.status.idle": "2021-06-03T19:23:25.702218Z",
     "shell.execute_reply": "2021-06-03T19:23:25.699511Z",
     "shell.execute_reply.started": "2021-05-28T05:20:08.756988Z"
    },
    "papermill": {
     "duration": 0.950027,
     "end_time": "2021-06-03T19:23:25.702638",
     "exception": false,
     "start_time": "2021-06-03T19:23:24.752611",
     "status": "completed"
    },
    "tags": []
   },
   "outputs": [],
   "source": [
    "dfML = dfML.drop(columns = ['Part_of_Day', 'Day_of_Week', 'Season','Start_Time', 'Bike_Type', 'Rider_Status'])"
   ]
  },
  {
   "cell_type": "code",
   "execution_count": 61,
   "id": "divided-burning",
   "metadata": {
    "execution": {
     "iopub.execute_input": "2021-06-03T19:23:26.018973Z",
     "iopub.status.busy": "2021-06-03T19:23:26.018178Z",
     "iopub.status.idle": "2021-06-03T19:23:26.022176Z",
     "shell.execute_reply": "2021-06-03T19:23:26.021426Z",
     "shell.execute_reply.started": "2021-05-28T05:20:09.427531Z"
    },
    "papermill": {
     "duration": 0.164788,
     "end_time": "2021-06-03T19:23:26.022325",
     "exception": false,
     "start_time": "2021-06-03T19:23:25.857537",
     "status": "completed"
    },
    "tags": []
   },
   "outputs": [
    {
     "data": {
      "text/html": [
       "<div>\n",
       "<style scoped>\n",
       "    .dataframe tbody tr th:only-of-type {\n",
       "        vertical-align: middle;\n",
       "    }\n",
       "\n",
       "    .dataframe tbody tr th {\n",
       "        vertical-align: top;\n",
       "    }\n",
       "\n",
       "    .dataframe thead th {\n",
       "        text-align: right;\n",
       "    }\n",
       "</style>\n",
       "<table border=\"1\" class=\"dataframe\">\n",
       "  <thead>\n",
       "    <tr style=\"text-align: right;\">\n",
       "      <th></th>\n",
       "      <th>Ride_Length</th>\n",
       "      <th>Month</th>\n",
       "      <th>Part_of_Week</th>\n",
       "      <th>Hours</th>\n",
       "      <th>Ride_Type</th>\n",
       "      <th>classic_bike</th>\n",
       "      <th>docked_bike</th>\n",
       "      <th>electric_bike</th>\n",
       "      <th>Cold</th>\n",
       "      <th>Warm</th>\n",
       "      <th>Late_Night</th>\n",
       "      <th>Morning</th>\n",
       "      <th>Afternoon</th>\n",
       "      <th>Evening</th>\n",
       "      <th>Night</th>\n",
       "    </tr>\n",
       "  </thead>\n",
       "  <tbody>\n",
       "    <tr>\n",
       "      <th>0</th>\n",
       "      <td>26</td>\n",
       "      <td>4</td>\n",
       "      <td>1</td>\n",
       "      <td>17</td>\n",
       "      <td>1</td>\n",
       "      <td>0</td>\n",
       "      <td>1</td>\n",
       "      <td>0</td>\n",
       "      <td>0</td>\n",
       "      <td>1</td>\n",
       "      <td>0</td>\n",
       "      <td>0</td>\n",
       "      <td>0</td>\n",
       "      <td>1</td>\n",
       "      <td>0</td>\n",
       "    </tr>\n",
       "    <tr>\n",
       "      <th>1</th>\n",
       "      <td>8</td>\n",
       "      <td>4</td>\n",
       "      <td>0</td>\n",
       "      <td>17</td>\n",
       "      <td>1</td>\n",
       "      <td>0</td>\n",
       "      <td>1</td>\n",
       "      <td>0</td>\n",
       "      <td>0</td>\n",
       "      <td>1</td>\n",
       "      <td>0</td>\n",
       "      <td>0</td>\n",
       "      <td>0</td>\n",
       "      <td>1</td>\n",
       "      <td>0</td>\n",
       "    </tr>\n",
       "    <tr>\n",
       "      <th>2</th>\n",
       "      <td>14</td>\n",
       "      <td>4</td>\n",
       "      <td>0</td>\n",
       "      <td>17</td>\n",
       "      <td>1</td>\n",
       "      <td>0</td>\n",
       "      <td>1</td>\n",
       "      <td>0</td>\n",
       "      <td>0</td>\n",
       "      <td>1</td>\n",
       "      <td>0</td>\n",
       "      <td>0</td>\n",
       "      <td>0</td>\n",
       "      <td>1</td>\n",
       "      <td>0</td>\n",
       "    </tr>\n",
       "    <tr>\n",
       "      <th>3</th>\n",
       "      <td>12</td>\n",
       "      <td>4</td>\n",
       "      <td>0</td>\n",
       "      <td>12</td>\n",
       "      <td>1</td>\n",
       "      <td>0</td>\n",
       "      <td>1</td>\n",
       "      <td>0</td>\n",
       "      <td>0</td>\n",
       "      <td>1</td>\n",
       "      <td>0</td>\n",
       "      <td>0</td>\n",
       "      <td>1</td>\n",
       "      <td>0</td>\n",
       "      <td>0</td>\n",
       "    </tr>\n",
       "    <tr>\n",
       "      <th>4</th>\n",
       "      <td>52</td>\n",
       "      <td>4</td>\n",
       "      <td>1</td>\n",
       "      <td>10</td>\n",
       "      <td>0</td>\n",
       "      <td>0</td>\n",
       "      <td>1</td>\n",
       "      <td>0</td>\n",
       "      <td>0</td>\n",
       "      <td>1</td>\n",
       "      <td>0</td>\n",
       "      <td>0</td>\n",
       "      <td>1</td>\n",
       "      <td>0</td>\n",
       "      <td>0</td>\n",
       "    </tr>\n",
       "  </tbody>\n",
       "</table>\n",
       "</div>"
      ],
      "text/plain": [
       "   Ride_Length  Month  Part_of_Week  Hours  Ride_Type  classic_bike  \\\n",
       "0           26      4             1     17          1             0   \n",
       "1            8      4             0     17          1             0   \n",
       "2           14      4             0     17          1             0   \n",
       "3           12      4             0     12          1             0   \n",
       "4           52      4             1     10          0             0   \n",
       "\n",
       "   docked_bike  electric_bike  Cold  Warm  Late_Night  Morning  Afternoon  \\\n",
       "0            1              0     0     1           0        0          0   \n",
       "1            1              0     0     1           0        0          0   \n",
       "2            1              0     0     1           0        0          0   \n",
       "3            1              0     0     1           0        0          1   \n",
       "4            1              0     0     1           0        0          1   \n",
       "\n",
       "   Evening  Night  \n",
       "0        1      0  \n",
       "1        1      0  \n",
       "2        1      0  \n",
       "3        0      0  \n",
       "4        0      0  "
      ]
     },
     "execution_count": 61,
     "metadata": {},
     "output_type": "execute_result"
    }
   ],
   "source": [
    "dfML.head()"
   ]
  },
  {
   "cell_type": "code",
   "execution_count": 62,
   "id": "behind-collector",
   "metadata": {
    "execution": {
     "iopub.execute_input": "2021-06-03T19:23:26.395678Z",
     "iopub.status.busy": "2021-06-03T19:23:26.394084Z",
     "iopub.status.idle": "2021-06-03T19:23:26.491100Z",
     "shell.execute_reply": "2021-06-03T19:23:26.490175Z",
     "shell.execute_reply.started": "2021-05-28T05:20:09.444849Z"
    },
    "papermill": {
     "duration": 0.300212,
     "end_time": "2021-06-03T19:23:26.491313",
     "exception": false,
     "start_time": "2021-06-03T19:23:26.191101",
     "status": "completed"
    },
    "tags": []
   },
   "outputs": [
    {
     "data": {
      "text/plain": [
       "Ride_Length      0\n",
       "Month            0\n",
       "Part_of_Week     0\n",
       "Hours            0\n",
       "Ride_Type        0\n",
       "classic_bike     0\n",
       "docked_bike      0\n",
       "electric_bike    0\n",
       "Cold             0\n",
       "Warm             0\n",
       "Late_Night       0\n",
       "Morning          0\n",
       "Afternoon        0\n",
       "Evening          0\n",
       "Night            0\n",
       "dtype: int64"
      ]
     },
     "execution_count": 62,
     "metadata": {},
     "output_type": "execute_result"
    }
   ],
   "source": [
    "dfML.isna().sum()"
   ]
  },
  {
   "cell_type": "markdown",
   "id": "african-closure",
   "metadata": {
    "papermill": {
     "duration": 0.188195,
     "end_time": "2021-06-03T19:23:26.859855",
     "exception": false,
     "start_time": "2021-06-03T19:23:26.671660",
     "status": "completed"
    },
    "tags": []
   },
   "source": []
  },
  {
   "cell_type": "markdown",
   "id": "closed-trigger",
   "metadata": {
    "papermill": {
     "duration": 0.16894,
     "end_time": "2021-06-03T19:23:27.195478",
     "exception": false,
     "start_time": "2021-06-03T19:23:27.026538",
     "status": "completed"
    },
    "tags": []
   },
   "source": [
    "# Import sklearn and split our data into training and testing data"
   ]
  },
  {
   "cell_type": "code",
   "execution_count": 63,
   "id": "hungarian-potter",
   "metadata": {
    "execution": {
     "iopub.execute_input": "2021-06-03T19:23:27.513753Z",
     "iopub.status.busy": "2021-06-03T19:23:27.512905Z",
     "iopub.status.idle": "2021-06-03T19:23:29.206511Z",
     "shell.execute_reply": "2021-06-03T19:23:29.205793Z",
     "shell.execute_reply.started": "2021-05-28T05:20:09.538141Z"
    },
    "papermill": {
     "duration": 1.844466,
     "end_time": "2021-06-03T19:23:29.206661",
     "exception": false,
     "start_time": "2021-06-03T19:23:27.362195",
     "status": "completed"
    },
    "tags": []
   },
   "outputs": [],
   "source": [
    "from sklearn.model_selection import train_test_split\n",
    "y = dfML['Ride_Type']\n",
    "X = dfML.drop(['Ride_Type'], axis=1)\n",
    "X_train, X_test, y_train, y_test = train_test_split(X,y, test_size=0.3, random_state=30)"
   ]
  },
  {
   "cell_type": "code",
   "execution_count": 64,
   "id": "greater-policy",
   "metadata": {
    "execution": {
     "iopub.execute_input": "2021-06-03T19:23:29.499581Z",
     "iopub.status.busy": "2021-06-03T19:23:29.498814Z",
     "iopub.status.idle": "2021-06-03T19:23:29.524822Z",
     "shell.execute_reply": "2021-06-03T19:23:29.525323Z",
     "shell.execute_reply.started": "2021-05-28T05:20:10.995211Z"
    },
    "papermill": {
     "duration": 0.171963,
     "end_time": "2021-06-03T19:23:29.525490",
     "exception": false,
     "start_time": "2021-06-03T19:23:29.353527",
     "status": "completed"
    },
    "tags": []
   },
   "outputs": [
    {
     "data": {
      "text/plain": [
       "1    1581804\n",
       "0    1097080\n",
       "Name: Ride_Type, dtype: int64"
      ]
     },
     "execution_count": 64,
     "metadata": {},
     "output_type": "execute_result"
    }
   ],
   "source": [
    "#checking training data \n",
    "y_train.value_counts()"
   ]
  },
  {
   "cell_type": "code",
   "execution_count": 65,
   "id": "successful-peoples",
   "metadata": {
    "execution": {
     "iopub.execute_input": "2021-06-03T19:23:29.817549Z",
     "iopub.status.busy": "2021-06-03T19:23:29.816895Z",
     "iopub.status.idle": "2021-06-03T19:23:30.944750Z",
     "shell.execute_reply": "2021-06-03T19:23:30.944222Z",
     "shell.execute_reply.started": "2021-05-28T05:20:11.027684Z"
    },
    "papermill": {
     "duration": 1.277937,
     "end_time": "2021-06-03T19:23:30.944895",
     "exception": false,
     "start_time": "2021-06-03T19:23:29.666958",
     "status": "completed"
    },
    "tags": []
   },
   "outputs": [
    {
     "data": {
      "text/plain": [
       "Ride_Length  Month  Part_of_Week  Hours  classic_bike  docked_bike  electric_bike  Cold  Warm  Late_Night  Morning  Afternoon  Evening  Night\n",
       "9            8      0             17     0             1            0              0     1     0           0        0          1        0        1199\n",
       "8            8      0             17     0             1            0              0     1     0           0        0          1        0        1195\n",
       "7            8      0             17     0             1            0              0     1     0           0        0          1        0        1189\n",
       "6            9      0             17     0             1            0              0     1     0           0        0          1        0        1182\n",
       "10           7      0             17     0             1            0              0     1     0           0        0          1        0        1162\n",
       "                                                                                                                                                 ... \n",
       "96           3      0             18     1             0            0              1     0     0           0        0          1        0           1\n",
       "                    1             1      1             0            0              1     0     1           0        0          0        0           1\n",
       "                                  10     0             1            0              1     0     0           0        1          0        0           1\n",
       "                                  11     0             1            0              1     0     0           0        1          0        0           1\n",
       "58720        4      1             20     0             1            0              0     1     0           0        0          1        0           1\n",
       "Length: 115278, dtype: int64"
      ]
     },
     "execution_count": 65,
     "metadata": {},
     "output_type": "execute_result"
    }
   ],
   "source": [
    "X_train.value_counts()"
   ]
  },
  {
   "cell_type": "code",
   "execution_count": 66,
   "id": "understood-bottle",
   "metadata": {
    "execution": {
     "iopub.execute_input": "2021-06-03T19:23:31.319846Z",
     "iopub.status.busy": "2021-06-03T19:23:31.319220Z",
     "iopub.status.idle": "2021-06-03T19:23:32.107579Z",
     "shell.execute_reply": "2021-06-03T19:23:32.108224Z",
     "shell.execute_reply.started": "2021-05-28T05:20:11.985364Z"
    },
    "papermill": {
     "duration": 0.960194,
     "end_time": "2021-06-03T19:23:32.108402",
     "exception": false,
     "start_time": "2021-06-03T19:23:31.148208",
     "status": "completed"
    },
    "tags": []
   },
   "outputs": [
    {
     "data": {
      "text/plain": [
       "Ride_Length  Month  Part_of_Week  Hours  classic_bike  docked_bike  electric_bike  Cold  Warm  Late_Night  Morning  Afternoon  Evening  Night\n",
       "8            7      0             17     0             1            0              0     1     0           0        0          1        0        536\n",
       "6            8      0             17     0             1            0              0     1     0           0        0          1        0        518\n",
       "10           7      0             17     0             1            0              0     1     0           0        0          1        0        517\n",
       "7            8      0             17     0             1            0              0     1     0           0        0          1        0        510\n",
       "10           8      0             17     0             1            0              0     1     0           0        0          1        0        491\n",
       "                                                                                                                                                ... \n",
       "72           4      0             13     0             1            0              0     1     0           0        1          0        0          1\n",
       "                                  12     0             1            0              0     1     0           0        1          0        0          1\n",
       "                                                       0            1              0     1     0           0        1          0        0          1\n",
       "                                  11     1             0            0              0     1     0           0        1          0        0          1\n",
       "55683        4      0             16     0             1            0              0     1     0           0        1          0        0          1\n",
       "Length: 86928, dtype: int64"
      ]
     },
     "execution_count": 66,
     "metadata": {},
     "output_type": "execute_result"
    }
   ],
   "source": [
    "#checking test data\n",
    "X_test.value_counts()"
   ]
  },
  {
   "cell_type": "code",
   "execution_count": 67,
   "id": "continued-watch",
   "metadata": {
    "execution": {
     "iopub.execute_input": "2021-06-03T19:23:32.529446Z",
     "iopub.status.busy": "2021-06-03T19:23:32.528667Z",
     "iopub.status.idle": "2021-06-03T19:23:32.545395Z",
     "shell.execute_reply": "2021-06-03T19:23:32.545970Z",
     "shell.execute_reply.started": "2021-05-28T05:20:12.398358Z"
    },
    "papermill": {
     "duration": 0.189227,
     "end_time": "2021-06-03T19:23:32.546208",
     "exception": false,
     "start_time": "2021-06-03T19:23:32.356981",
     "status": "completed"
    },
    "tags": []
   },
   "outputs": [
    {
     "data": {
      "text/plain": [
       "1    678197\n",
       "0    469897\n",
       "Name: Ride_Type, dtype: int64"
      ]
     },
     "execution_count": 67,
     "metadata": {},
     "output_type": "execute_result"
    }
   ],
   "source": [
    "y_test.value_counts()"
   ]
  },
  {
   "cell_type": "code",
   "execution_count": 68,
   "id": "advisory-civilization",
   "metadata": {
    "execution": {
     "iopub.execute_input": "2021-06-03T19:23:32.886057Z",
     "iopub.status.busy": "2021-06-03T19:23:32.884973Z",
     "iopub.status.idle": "2021-06-03T19:23:32.918096Z",
     "shell.execute_reply": "2021-06-03T19:23:32.919461Z",
     "shell.execute_reply.started": "2021-05-28T05:20:12.416684Z"
    },
    "papermill": {
     "duration": 0.193589,
     "end_time": "2021-06-03T19:23:32.919814",
     "exception": false,
     "start_time": "2021-06-03T19:23:32.726225",
     "status": "completed"
    },
    "tags": []
   },
   "outputs": [
    {
     "data": {
      "text/plain": [
       "Ride_Length      0\n",
       "Month            0\n",
       "Part_of_Week     0\n",
       "Hours            0\n",
       "classic_bike     0\n",
       "docked_bike      0\n",
       "electric_bike    0\n",
       "Cold             0\n",
       "Warm             0\n",
       "Late_Night       0\n",
       "Morning          0\n",
       "Afternoon        0\n",
       "Evening          0\n",
       "Night            0\n",
       "dtype: int64"
      ]
     },
     "execution_count": 68,
     "metadata": {},
     "output_type": "execute_result"
    }
   ],
   "source": [
    "#Lets double check we have no relevant nulls\n",
    "X_test.isna().sum()"
   ]
  },
  {
   "cell_type": "markdown",
   "id": "breeding-violence",
   "metadata": {
    "papermill": {
     "duration": 0.145988,
     "end_time": "2021-06-03T19:23:33.214076",
     "exception": false,
     "start_time": "2021-06-03T19:23:33.068088",
     "status": "completed"
    },
    "tags": []
   },
   "source": [
    "# Import RandomForestClassifier for our algorithm:"
   ]
  },
  {
   "cell_type": "code",
   "execution_count": 69,
   "id": "durable-davis",
   "metadata": {
    "execution": {
     "iopub.execute_input": "2021-06-03T19:23:33.513052Z",
     "iopub.status.busy": "2021-06-03T19:23:33.512202Z",
     "iopub.status.idle": "2021-06-03T19:23:33.825361Z",
     "shell.execute_reply": "2021-06-03T19:23:33.825960Z",
     "shell.execute_reply.started": "2021-05-28T05:20:12.462148Z"
    },
    "papermill": {
     "duration": 0.466284,
     "end_time": "2021-06-03T19:23:33.826183",
     "exception": false,
     "start_time": "2021-06-03T19:23:33.359899",
     "status": "completed"
    },
    "tags": []
   },
   "outputs": [],
   "source": [
    "from sklearn.ensemble import RandomForestClassifier\n",
    "from sklearn import metrics\n",
    "from sklearn.metrics import accuracy_score, confusion_matrix, classification_report"
   ]
  },
  {
   "cell_type": "markdown",
   "id": "desirable-elevation",
   "metadata": {
    "papermill": {
     "duration": 0.154621,
     "end_time": "2021-06-03T19:23:34.131808",
     "exception": false,
     "start_time": "2021-06-03T19:23:33.977187",
     "status": "completed"
    },
    "tags": []
   },
   "source": [
    "### Train our RFC model"
   ]
  },
  {
   "cell_type": "code",
   "execution_count": 70,
   "id": "cutting-feelings",
   "metadata": {
    "execution": {
     "iopub.execute_input": "2021-06-03T19:23:34.440546Z",
     "iopub.status.busy": "2021-06-03T19:23:34.439811Z",
     "iopub.status.idle": "2021-06-03T19:36:26.904291Z",
     "shell.execute_reply": "2021-06-03T19:36:26.903174Z",
     "shell.execute_reply.started": "2021-05-28T05:20:12.734592Z"
    },
    "papermill": {
     "duration": 772.627769,
     "end_time": "2021-06-03T19:36:26.904680",
     "exception": false,
     "start_time": "2021-06-03T19:23:34.276911",
     "status": "completed"
    },
    "tags": []
   },
   "outputs": [],
   "source": [
    "clf = RandomForestClassifier(n_estimators = 100, random_state = 20)\n",
    "rf_train = clf.fit(X_train,y_train)"
   ]
  },
  {
   "cell_type": "code",
   "execution_count": 71,
   "id": "expensive-guarantee",
   "metadata": {
    "execution": {
     "iopub.execute_input": "2021-06-03T19:36:27.218380Z",
     "iopub.status.busy": "2021-06-03T19:36:27.217529Z",
     "iopub.status.idle": "2021-06-03T19:37:12.364831Z",
     "shell.execute_reply": "2021-06-03T19:37:12.364222Z",
     "shell.execute_reply.started": "2021-05-28T05:25:17.456052Z"
    },
    "papermill": {
     "duration": 45.302397,
     "end_time": "2021-06-03T19:37:12.365026",
     "exception": false,
     "start_time": "2021-06-03T19:36:27.062629",
     "status": "completed"
    },
    "tags": []
   },
   "outputs": [],
   "source": [
    "y_pred = clf.predict(X_test)"
   ]
  },
  {
   "cell_type": "code",
   "execution_count": 72,
   "id": "surgical-invitation",
   "metadata": {
    "execution": {
     "iopub.execute_input": "2021-06-03T19:37:12.661785Z",
     "iopub.status.busy": "2021-06-03T19:37:12.661114Z",
     "iopub.status.idle": "2021-06-03T19:38:50.473620Z",
     "shell.execute_reply": "2021-06-03T19:38:50.474154Z",
     "shell.execute_reply.started": "2021-05-28T05:25:59.725725Z"
    },
    "papermill": {
     "duration": 97.96419,
     "end_time": "2021-06-03T19:38:50.474344",
     "exception": false,
     "start_time": "2021-06-03T19:37:12.510154",
     "status": "completed"
    },
    "tags": []
   },
   "outputs": [
    {
     "data": {
      "text/plain": [
       "array([[0.45709474, 0.54290526],\n",
       "       [0.19788977, 0.80211023],\n",
       "       [0.35506704, 0.64493296],\n",
       "       [0.36947992, 0.63052008],\n",
       "       [1.        , 0.        ]])"
      ]
     },
     "execution_count": 72,
     "metadata": {},
     "output_type": "execute_result"
    }
   ],
   "source": [
    "clf.predict_proba(X)[0:5]"
   ]
  },
  {
   "cell_type": "code",
   "execution_count": 73,
   "id": "confirmed-transcript",
   "metadata": {
    "execution": {
     "iopub.execute_input": "2021-06-03T19:38:50.769183Z",
     "iopub.status.busy": "2021-06-03T19:38:50.768479Z",
     "iopub.status.idle": "2021-06-03T19:38:50.957855Z",
     "shell.execute_reply": "2021-06-03T19:38:50.957245Z",
     "shell.execute_reply.started": "2021-05-28T05:27:34.253082Z"
    },
    "papermill": {
     "duration": 0.338789,
     "end_time": "2021-06-03T19:38:50.958022",
     "exception": false,
     "start_time": "2021-06-03T19:38:50.619233",
     "status": "completed"
    },
    "tags": []
   },
   "outputs": [
    {
     "data": {
      "text/plain": [
       "[('Ride_Length', 0.6733347744944037),\n",
       " ('Month', 0.0654166281142715),\n",
       " ('Part_of_Week', 0.05342894672902805),\n",
       " ('Hours', 0.06801943641071342),\n",
       " ('classic_bike', 0.026492726552043436),\n",
       " ('docked_bike', 0.012112092267005012),\n",
       " ('electric_bike', 0.011659263618594361),\n",
       " ('Cold', 0.014132124832772078),\n",
       " ('Warm', 0.013154817151559589),\n",
       " ('Late_Night', 0.01128665717785748),\n",
       " ('Morning', 0.0365490041672361),\n",
       " ('Afternoon', 0.003334780461241571),\n",
       " ('Evening', 0.0021878261646862073),\n",
       " ('Night', 0.008890921858587563)]"
      ]
     },
     "execution_count": 73,
     "metadata": {},
     "output_type": "execute_result"
    }
   ],
   "source": [
    "importance = list(zip(X, clf.feature_importances_))\n",
    "importance"
   ]
  },
  {
   "cell_type": "code",
   "execution_count": 74,
   "id": "northern-significance",
   "metadata": {
    "execution": {
     "iopub.execute_input": "2021-06-03T19:38:51.255927Z",
     "iopub.status.busy": "2021-06-03T19:38:51.255291Z",
     "iopub.status.idle": "2021-06-03T19:38:53.330803Z",
     "shell.execute_reply": "2021-06-03T19:38:53.331467Z",
     "shell.execute_reply.started": "2021-05-28T05:27:34.457296Z"
    },
    "papermill": {
     "duration": 2.226498,
     "end_time": "2021-06-03T19:38:53.331711",
     "exception": false,
     "start_time": "2021-06-03T19:38:51.105213",
     "status": "completed"
    },
    "tags": []
   },
   "outputs": [
    {
     "name": "stdout",
     "output_type": "stream",
     "text": [
      "              precision    recall  f1-score   support\n",
      "\n",
      "           0       0.68      0.44      0.54    469897\n",
      "           1       0.69      0.86      0.76    678197\n",
      "\n",
      "    accuracy                           0.69   1148094\n",
      "   macro avg       0.68      0.65      0.65   1148094\n",
      "weighted avg       0.69      0.69      0.67   1148094\n",
      "\n"
     ]
    }
   ],
   "source": [
    "print(classification_report(y_test, y_pred))"
   ]
  },
  {
   "cell_type": "code",
   "execution_count": 75,
   "id": "certified-affiliate",
   "metadata": {
    "execution": {
     "iopub.execute_input": "2021-06-03T19:38:53.627498Z",
     "iopub.status.busy": "2021-06-03T19:38:53.626780Z",
     "iopub.status.idle": "2021-06-03T19:38:53.737587Z",
     "shell.execute_reply": "2021-06-03T19:38:53.737042Z",
     "shell.execute_reply.started": "2021-05-28T05:55:19.975875Z"
    },
    "papermill": {
     "duration": 0.260184,
     "end_time": "2021-06-03T19:38:53.737842",
     "exception": false,
     "start_time": "2021-06-03T19:38:53.477658",
     "status": "completed"
    },
    "tags": []
   },
   "outputs": [
    {
     "data": {
      "text/plain": [
       "68.66171236849944"
      ]
     },
     "execution_count": 75,
     "metadata": {},
     "output_type": "execute_result"
    }
   ],
   "source": [
    "accuracy = (metrics.accuracy_score(y_test, y_pred)) * 100\n",
    "accuracy"
   ]
  },
  {
   "cell_type": "markdown",
   "id": "adjacent-bruce",
   "metadata": {
    "papermill": {
     "duration": 0.146356,
     "end_time": "2021-06-03T19:38:54.034900",
     "exception": false,
     "start_time": "2021-06-03T19:38:53.888544",
     "status": "completed"
    },
    "tags": []
   },
   "source": [
    "### Observations:\n",
    "- Not surprised Ride Length is the highest importance since this data showed the greatest deviation, but surprised it seems the only relevant variable.\n",
    "- Expected more signifigance from some of the grouped time and season categories.  The way I have these split may need to be reassesed.\n"
   ]
  },
  {
   "cell_type": "markdown",
   "id": "literary-baseline",
   "metadata": {
    "papermill": {
     "duration": 0.146178,
     "end_time": "2021-06-03T19:38:54.326133",
     "exception": false,
     "start_time": "2021-06-03T19:38:54.179955",
     "status": "completed"
    },
    "tags": []
   },
   "source": [
    "## Let's try with fewer variables\n",
    "- We'll keep Ride Length, but focus on the time variables\n",
    "- The 'Part of Day' variables may need some adjusting or maybe its just adding too many variables."
   ]
  },
  {
   "cell_type": "code",
   "execution_count": 76,
   "id": "nutritional-eleven",
   "metadata": {
    "execution": {
     "iopub.execute_input": "2021-06-03T19:38:54.699626Z",
     "iopub.status.busy": "2021-06-03T19:38:54.698904Z",
     "iopub.status.idle": "2021-06-03T19:38:54.769901Z",
     "shell.execute_reply": "2021-06-03T19:38:54.769289Z",
     "shell.execute_reply.started": "2021-05-28T05:27:36.572647Z"
    },
    "papermill": {
     "duration": 0.297661,
     "end_time": "2021-06-03T19:38:54.770062",
     "exception": false,
     "start_time": "2021-06-03T19:38:54.472401",
     "status": "completed"
    },
    "tags": []
   },
   "outputs": [],
   "source": [
    "dfML_time = dfML[['Ride_Type','Ride_Length', 'Month', 'Hours', 'Part_of_Week']].copy()"
   ]
  },
  {
   "cell_type": "code",
   "execution_count": 77,
   "id": "brazilian-adjustment",
   "metadata": {
    "execution": {
     "iopub.execute_input": "2021-06-03T19:38:55.129157Z",
     "iopub.status.busy": "2021-06-03T19:38:55.128357Z",
     "iopub.status.idle": "2021-06-03T19:38:56.034624Z",
     "shell.execute_reply": "2021-06-03T19:38:56.035107Z",
     "shell.execute_reply.started": "2021-05-28T05:27:36.693669Z"
    },
    "papermill": {
     "duration": 1.118449,
     "end_time": "2021-06-03T19:38:56.035296",
     "exception": false,
     "start_time": "2021-06-03T19:38:54.916847",
     "status": "completed"
    },
    "tags": []
   },
   "outputs": [],
   "source": [
    "yt = dfML_time['Ride_Type']\n",
    "Xt = dfML_time.drop(['Ride_Type'], axis=1)\n",
    "Xt_train, Xt_test, yt_train, yt_test = train_test_split(Xt,yt, test_size=0.3, random_state=30)"
   ]
  },
  {
   "cell_type": "code",
   "execution_count": 78,
   "id": "impressive-printing",
   "metadata": {
    "execution": {
     "iopub.execute_input": "2021-06-03T19:38:56.396034Z",
     "iopub.status.busy": "2021-06-03T19:38:56.395319Z",
     "iopub.status.idle": "2021-06-03T19:53:01.840586Z",
     "shell.execute_reply": "2021-06-03T19:53:01.839493Z",
     "shell.execute_reply.started": "2021-05-28T05:27:37.523038Z"
    },
    "papermill": {
     "duration": 845.598841,
     "end_time": "2021-06-03T19:53:01.840879",
     "exception": false,
     "start_time": "2021-06-03T19:38:56.242038",
     "status": "completed"
    },
    "tags": []
   },
   "outputs": [],
   "source": [
    "clft = RandomForestClassifier(n_estimators = 100, random_state = 20)\n",
    "rft_train = clft.fit(Xt_train,yt_train)"
   ]
  },
  {
   "cell_type": "code",
   "execution_count": 79,
   "id": "completed-involvement",
   "metadata": {
    "execution": {
     "iopub.execute_input": "2021-06-03T19:53:02.165696Z",
     "iopub.status.busy": "2021-06-03T19:53:02.164917Z",
     "iopub.status.idle": "2021-06-03T19:53:43.735132Z",
     "shell.execute_reply": "2021-06-03T19:53:43.734379Z",
     "shell.execute_reply.started": "2021-05-28T05:32:57.085648Z"
    },
    "papermill": {
     "duration": 41.736475,
     "end_time": "2021-06-03T19:53:43.735289",
     "exception": false,
     "start_time": "2021-06-03T19:53:01.998814",
     "status": "completed"
    },
    "tags": []
   },
   "outputs": [],
   "source": [
    "yt_pred = clft.predict(Xt_test)"
   ]
  },
  {
   "cell_type": "code",
   "execution_count": 80,
   "id": "universal-abraham",
   "metadata": {
    "execution": {
     "iopub.execute_input": "2021-06-03T19:53:44.068683Z",
     "iopub.status.busy": "2021-06-03T19:53:44.067973Z",
     "iopub.status.idle": "2021-06-03T19:55:18.284964Z",
     "shell.execute_reply": "2021-06-03T19:55:18.285469Z",
     "shell.execute_reply.started": "2021-05-28T05:33:32.422672Z"
    },
    "papermill": {
     "duration": 94.381059,
     "end_time": "2021-06-03T19:55:18.285646",
     "exception": false,
     "start_time": "2021-06-03T19:53:43.904587",
     "status": "completed"
    },
    "tags": []
   },
   "outputs": [
    {
     "data": {
      "text/plain": [
       "array([[0.48166336, 0.51833664],\n",
       "       [0.28709264, 0.71290736],\n",
       "       [0.36676468, 0.63323532],\n",
       "       [0.33000772, 0.66999228],\n",
       "       [0.9383646 , 0.0616354 ]])"
      ]
     },
     "execution_count": 80,
     "metadata": {},
     "output_type": "execute_result"
    }
   ],
   "source": [
    "clft.predict_proba(Xt)[0:5]"
   ]
  },
  {
   "cell_type": "code",
   "execution_count": 81,
   "id": "rising-marketplace",
   "metadata": {
    "execution": {
     "iopub.execute_input": "2021-06-03T19:55:18.581335Z",
     "iopub.status.busy": "2021-06-03T19:55:18.580348Z",
     "iopub.status.idle": "2021-06-03T19:55:18.723465Z",
     "shell.execute_reply": "2021-06-03T19:55:18.722883Z",
     "shell.execute_reply.started": "2021-05-28T05:35:03.486701Z"
    },
    "papermill": {
     "duration": 0.291983,
     "end_time": "2021-06-03T19:55:18.723634",
     "exception": false,
     "start_time": "2021-06-03T19:55:18.431651",
     "status": "completed"
    },
    "tags": []
   },
   "outputs": [
    {
     "data": {
      "text/plain": [
       "[('Ride_Length', 0.7218291982659595),\n",
       " ('Month', 0.07563257972515527),\n",
       " ('Hours', 0.1391489743159738),\n",
       " ('Part_of_Week', 0.06338924769291152)]"
      ]
     },
     "execution_count": 81,
     "metadata": {},
     "output_type": "execute_result"
    }
   ],
   "source": [
    "impt = list(zip(Xt, clft.feature_importances_))\n",
    "impt"
   ]
  },
  {
   "cell_type": "code",
   "execution_count": 82,
   "id": "duplicate-machinery",
   "metadata": {
    "execution": {
     "iopub.execute_input": "2021-06-03T19:55:19.028480Z",
     "iopub.status.busy": "2021-06-03T19:55:19.027456Z",
     "iopub.status.idle": "2021-06-03T19:55:21.135191Z",
     "shell.execute_reply": "2021-06-03T19:55:21.136084Z",
     "shell.execute_reply.started": "2021-05-28T05:35:03.73028Z"
    },
    "papermill": {
     "duration": 2.26263,
     "end_time": "2021-06-03T19:55:21.136362",
     "exception": false,
     "start_time": "2021-06-03T19:55:18.873732",
     "status": "completed"
    },
    "tags": []
   },
   "outputs": [
    {
     "name": "stdout",
     "output_type": "stream",
     "text": [
      "              precision    recall  f1-score   support\n",
      "\n",
      "           0       0.68      0.43      0.53    469897\n",
      "           1       0.69      0.86      0.76    678197\n",
      "\n",
      "    accuracy                           0.68   1148094\n",
      "   macro avg       0.68      0.65      0.65   1148094\n",
      "weighted avg       0.68      0.68      0.67   1148094\n",
      "\n"
     ]
    }
   ],
   "source": [
    "print(classification_report(yt_test, yt_pred))"
   ]
  },
  {
   "cell_type": "code",
   "execution_count": 83,
   "id": "introductory-agency",
   "metadata": {
    "execution": {
     "iopub.execute_input": "2021-06-03T19:55:21.438010Z",
     "iopub.status.busy": "2021-06-03T19:55:21.437352Z",
     "iopub.status.idle": "2021-06-03T19:55:21.546831Z",
     "shell.execute_reply": "2021-06-03T19:55:21.547350Z",
     "shell.execute_reply.started": "2021-05-28T06:33:55.924875Z"
    },
    "papermill": {
     "duration": 0.26147,
     "end_time": "2021-06-03T19:55:21.547542",
     "exception": false,
     "start_time": "2021-06-03T19:55:21.286072",
     "status": "completed"
    },
    "tags": []
   },
   "outputs": [
    {
     "data": {
      "text/plain": [
       "68.42897881183944"
      ]
     },
     "execution_count": 83,
     "metadata": {},
     "output_type": "execute_result"
    }
   ],
   "source": [
    "acct = (metrics.accuracy_score(yt_test, yt_pred)) * 100\n",
    "acct"
   ]
  },
  {
   "cell_type": "markdown",
   "id": "intense-biography",
   "metadata": {
    "papermill": {
     "duration": 0.147282,
     "end_time": "2021-06-03T19:55:21.848283",
     "exception": false,
     "start_time": "2021-06-03T19:55:21.701001",
     "status": "completed"
    },
    "tags": []
   },
   "source": [
    "#### Observations\n",
    "\n",
    "- Nearly identical accuracy with ride length now nearly 75% of the importance\n",
    "- Hours measuring as high in importance as months and part of week combined."
   ]
  },
  {
   "cell_type": "markdown",
   "id": "sitting-mortgage",
   "metadata": {
    "papermill": {
     "duration": 0.149323,
     "end_time": "2021-06-03T19:55:22.145049",
     "exception": false,
     "start_time": "2021-06-03T19:55:21.995726",
     "status": "completed"
    },
    "tags": []
   },
   "source": [
    "## Just  Ride lenght and cold/warm months"
   ]
  },
  {
   "cell_type": "code",
   "execution_count": 84,
   "id": "separated-agriculture",
   "metadata": {
    "execution": {
     "iopub.execute_input": "2021-06-03T19:55:22.459084Z",
     "iopub.status.busy": "2021-06-03T19:55:22.458372Z",
     "iopub.status.idle": "2021-06-03T19:55:22.496876Z",
     "shell.execute_reply": "2021-06-03T19:55:22.496327Z",
     "shell.execute_reply.started": "2021-05-28T05:35:05.760009Z"
    },
    "papermill": {
     "duration": 0.205942,
     "end_time": "2021-06-03T19:55:22.497104",
     "exception": false,
     "start_time": "2021-06-03T19:55:22.291162",
     "status": "completed"
    },
    "tags": []
   },
   "outputs": [],
   "source": [
    "dfML_temp = dfML[['Ride_Type','Ride_Length', 'Cold', 'Warm']].copy()"
   ]
  },
  {
   "cell_type": "code",
   "execution_count": 85,
   "id": "terminal-fashion",
   "metadata": {
    "execution": {
     "iopub.execute_input": "2021-06-03T19:55:22.806335Z",
     "iopub.status.busy": "2021-06-03T19:55:22.805621Z",
     "iopub.status.idle": "2021-06-03T19:58:28.064819Z",
     "shell.execute_reply": "2021-06-03T19:58:28.064187Z",
     "shell.execute_reply.started": "2021-05-28T05:35:05.813708Z"
    },
    "papermill": {
     "duration": 185.420482,
     "end_time": "2021-06-03T19:58:28.065003",
     "exception": false,
     "start_time": "2021-06-03T19:55:22.644521",
     "status": "completed"
    },
    "tags": []
   },
   "outputs": [],
   "source": [
    "ytp = dfML_temp['Ride_Type']\n",
    "Xtp = dfML_temp.drop(['Ride_Type'], axis=1)\n",
    "Xtp_train, Xtp_test, ytp_train, ytp_test = train_test_split(Xtp,ytp, test_size=0.3, random_state=30)\n",
    "\n",
    "clftp = RandomForestClassifier(n_estimators = 100, random_state = 20)\n",
    "rftp_train = clftp.fit(Xtp_train,ytp_train)\n",
    "\n",
    "ytp_pred = clftp.predict(Xtp_test)"
   ]
  },
  {
   "cell_type": "code",
   "execution_count": 86,
   "id": "lucky-cloud",
   "metadata": {
    "execution": {
     "iopub.execute_input": "2021-06-03T19:58:28.365876Z",
     "iopub.status.busy": "2021-06-03T19:58:28.365247Z",
     "iopub.status.idle": "2021-06-03T19:59:06.683683Z",
     "shell.execute_reply": "2021-06-03T19:59:06.684200Z",
     "shell.execute_reply.started": "2021-05-28T05:37:55.860935Z"
    },
    "papermill": {
     "duration": 38.471837,
     "end_time": "2021-06-03T19:59:06.684386",
     "exception": false,
     "start_time": "2021-06-03T19:58:28.212549",
     "status": "completed"
    },
    "tags": []
   },
   "outputs": [
    {
     "data": {
      "text/plain": [
       "array([[0.50481852, 0.49518148],\n",
       "       [0.31781154, 0.68218846],\n",
       "       [0.41004452, 0.58995548],\n",
       "       [0.386148  , 0.613852  ],\n",
       "       [0.81206786, 0.18793214]])"
      ]
     },
     "execution_count": 86,
     "metadata": {},
     "output_type": "execute_result"
    }
   ],
   "source": [
    "clftp.predict_proba(Xtp)[0:5]"
   ]
  },
  {
   "cell_type": "code",
   "execution_count": 87,
   "id": "inside-reviewer",
   "metadata": {
    "execution": {
     "iopub.execute_input": "2021-06-03T19:59:06.981849Z",
     "iopub.status.busy": "2021-06-03T19:59:06.981207Z",
     "iopub.status.idle": "2021-06-03T19:59:09.041242Z",
     "shell.execute_reply": "2021-06-03T19:59:09.041810Z",
     "shell.execute_reply.started": "2021-05-28T05:38:34.080361Z"
    },
    "papermill": {
     "duration": 2.210313,
     "end_time": "2021-06-03T19:59:09.042031",
     "exception": false,
     "start_time": "2021-06-03T19:59:06.831718",
     "status": "completed"
    },
    "tags": []
   },
   "outputs": [
    {
     "name": "stdout",
     "output_type": "stream",
     "text": [
      "              precision    recall  f1-score   support\n",
      "\n",
      "           0       0.71      0.33      0.45    469897\n",
      "           1       0.66      0.90      0.76    678197\n",
      "\n",
      "    accuracy                           0.67   1148094\n",
      "   macro avg       0.68      0.62      0.61   1148094\n",
      "weighted avg       0.68      0.67      0.64   1148094\n",
      "\n"
     ]
    }
   ],
   "source": [
    "print(classification_report(ytp_test, ytp_pred))"
   ]
  },
  {
   "cell_type": "code",
   "execution_count": 88,
   "id": "enclosed-specification",
   "metadata": {
    "execution": {
     "iopub.execute_input": "2021-06-03T19:59:09.344611Z",
     "iopub.status.busy": "2021-06-03T19:59:09.343893Z",
     "iopub.status.idle": "2021-06-03T19:59:09.365408Z",
     "shell.execute_reply": "2021-06-03T19:59:09.364791Z",
     "shell.execute_reply.started": "2021-05-28T05:38:33.947295Z"
    },
    "papermill": {
     "duration": 0.173457,
     "end_time": "2021-06-03T19:59:09.365552",
     "exception": false,
     "start_time": "2021-06-03T19:59:09.192095",
     "status": "completed"
    },
    "tags": []
   },
   "outputs": [
    {
     "data": {
      "text/plain": [
       "[('Ride_Length', 0.9283397550420682),\n",
       " ('Cold', 0.03840316053387288),\n",
       " ('Warm', 0.033257084424058746)]"
      ]
     },
     "execution_count": 88,
     "metadata": {},
     "output_type": "execute_result"
    }
   ],
   "source": [
    "imptp = list(zip(Xtp, clftp.feature_importances_))\n",
    "imptp"
   ]
  },
  {
   "cell_type": "code",
   "execution_count": 89,
   "id": "mechanical-aspect",
   "metadata": {
    "execution": {
     "iopub.execute_input": "2021-06-03T19:59:09.666398Z",
     "iopub.status.busy": "2021-06-03T19:59:09.665748Z",
     "iopub.status.idle": "2021-06-03T19:59:09.773809Z",
     "shell.execute_reply": "2021-06-03T19:59:09.773301Z",
     "shell.execute_reply.started": "2021-05-28T06:39:11.125505Z"
    },
    "papermill": {
     "duration": 0.260457,
     "end_time": "2021-06-03T19:59:09.773985",
     "exception": false,
     "start_time": "2021-06-03T19:59:09.513528",
     "status": "completed"
    },
    "tags": []
   },
   "outputs": [
    {
     "data": {
      "text/plain": [
       "67.0123700672593"
      ]
     },
     "execution_count": 89,
     "metadata": {},
     "output_type": "execute_result"
    }
   ],
   "source": [
    "acctp = (metrics.accuracy_score(ytp_test, ytp_pred)) * 100\n",
    "acctp"
   ]
  },
  {
   "cell_type": "markdown",
   "id": "wound-means",
   "metadata": {
    "papermill": {
     "duration": 0.149009,
     "end_time": "2021-06-03T19:59:10.071341",
     "exception": false,
     "start_time": "2021-06-03T19:59:09.922332",
     "status": "completed"
    },
    "tags": []
   },
   "source": [
    "#### Observation:\n",
    "- Only slightly lower scores\n",
    "- Ride Length now taking up over 92% of the importance"
   ]
  },
  {
   "cell_type": "markdown",
   "id": "optical-floor",
   "metadata": {
    "papermill": {
     "duration": 0.147807,
     "end_time": "2021-06-03T19:59:10.368087",
     "exception": false,
     "start_time": "2021-06-03T19:59:10.220280",
     "status": "completed"
    },
    "tags": []
   },
   "source": [
    "## Just the times of day by our grouped categories"
   ]
  },
  {
   "cell_type": "code",
   "execution_count": 90,
   "id": "awful-peace",
   "metadata": {
    "execution": {
     "iopub.execute_input": "2021-06-03T19:59:10.680439Z",
     "iopub.status.busy": "2021-06-03T19:59:10.678816Z",
     "iopub.status.idle": "2021-06-03T19:59:10.714152Z",
     "shell.execute_reply": "2021-06-03T19:59:10.713463Z",
     "shell.execute_reply.started": "2021-05-28T05:38:36.088346Z"
    },
    "papermill": {
     "duration": 0.197186,
     "end_time": "2021-06-03T19:59:10.714311",
     "exception": false,
     "start_time": "2021-06-03T19:59:10.517125",
     "status": "completed"
    },
    "tags": []
   },
   "outputs": [],
   "source": [
    "dfML_PoD = dfML[['Ride_Type','Late_Night', 'Morning', 'Afternoon', 'Evening', 'Night']].copy()"
   ]
  },
  {
   "cell_type": "code",
   "execution_count": 91,
   "id": "marine-modern",
   "metadata": {
    "execution": {
     "iopub.execute_input": "2021-06-03T19:59:11.025774Z",
     "iopub.status.busy": "2021-06-03T19:59:11.023548Z",
     "iopub.status.idle": "2021-06-03T20:00:21.784859Z",
     "shell.execute_reply": "2021-06-03T20:00:21.785427Z",
     "shell.execute_reply.started": "2021-05-28T05:38:36.132781Z"
    },
    "papermill": {
     "duration": 70.920084,
     "end_time": "2021-06-03T20:00:21.785610",
     "exception": false,
     "start_time": "2021-06-03T19:59:10.865526",
     "status": "completed"
    },
    "tags": []
   },
   "outputs": [],
   "source": [
    "yp = dfML_PoD['Ride_Type']\n",
    "Xp = dfML_PoD.drop(['Ride_Type'], axis=1)\n",
    "Xp_train, Xp_test, yp_train, yp_test = train_test_split(Xp,yp, test_size=0.3, random_state=30)\n",
    "\n",
    "clfp = RandomForestClassifier(n_estimators = 100, random_state = 20)\n",
    "rfp_train = clfp.fit(Xp_train,yp_train)\n",
    "\n",
    "yp_pred = clfp.predict(Xp_test)"
   ]
  },
  {
   "cell_type": "code",
   "execution_count": 92,
   "id": "innocent-savannah",
   "metadata": {
    "execution": {
     "iopub.execute_input": "2021-06-03T20:00:22.099543Z",
     "iopub.status.busy": "2021-06-03T20:00:22.098821Z",
     "iopub.status.idle": "2021-06-03T20:00:44.791507Z",
     "shell.execute_reply": "2021-06-03T20:00:44.790751Z",
     "shell.execute_reply.started": "2021-05-28T05:39:45.301726Z"
    },
    "papermill": {
     "duration": 22.850789,
     "end_time": "2021-06-03T20:00:44.791687",
     "exception": false,
     "start_time": "2021-06-03T20:00:21.940898",
     "status": "completed"
    },
    "tags": []
   },
   "outputs": [
    {
     "data": {
      "text/plain": [
       "array([[0.41139843, 0.58860157],\n",
       "       [0.41139843, 0.58860157],\n",
       "       [0.41139843, 0.58860157],\n",
       "       [0.41835812, 0.58164188],\n",
       "       [0.41835812, 0.58164188]])"
      ]
     },
     "execution_count": 92,
     "metadata": {},
     "output_type": "execute_result"
    }
   ],
   "source": [
    "clfp.predict_proba(Xp)[0:5]"
   ]
  },
  {
   "cell_type": "code",
   "execution_count": 93,
   "id": "decimal-boating",
   "metadata": {
    "execution": {
     "iopub.execute_input": "2021-06-03T20:00:45.121519Z",
     "iopub.status.busy": "2021-06-03T20:00:45.120317Z",
     "iopub.status.idle": "2021-06-03T20:00:47.267311Z",
     "shell.execute_reply": "2021-06-03T20:00:47.266515Z",
     "shell.execute_reply.started": "2021-05-28T05:40:06.151027Z"
    },
    "papermill": {
     "duration": 2.315717,
     "end_time": "2021-06-03T20:00:47.267632",
     "exception": false,
     "start_time": "2021-06-03T20:00:44.951915",
     "status": "completed"
    },
    "tags": []
   },
   "outputs": [
    {
     "name": "stdout",
     "output_type": "stream",
     "text": [
      "              precision    recall  f1-score   support\n",
      "\n",
      "           0       0.57      0.13      0.21    469897\n",
      "           1       0.61      0.93      0.74    678197\n",
      "\n",
      "    accuracy                           0.60   1148094\n",
      "   macro avg       0.59      0.53      0.47   1148094\n",
      "weighted avg       0.59      0.60      0.52   1148094\n",
      "\n"
     ]
    }
   ],
   "source": [
    "print(classification_report(yp_test, yp_pred))"
   ]
  },
  {
   "cell_type": "code",
   "execution_count": 94,
   "id": "similar-communist",
   "metadata": {
    "execution": {
     "iopub.execute_input": "2021-06-03T20:00:47.616628Z",
     "iopub.status.busy": "2021-06-03T20:00:47.614204Z",
     "iopub.status.idle": "2021-06-03T20:00:47.622481Z",
     "shell.execute_reply": "2021-06-03T20:00:47.623113Z",
     "shell.execute_reply.started": "2021-05-28T05:40:06.029744Z"
    },
    "papermill": {
     "duration": 0.19626,
     "end_time": "2021-06-03T20:00:47.623346",
     "exception": false,
     "start_time": "2021-06-03T20:00:47.427086",
     "status": "completed"
    },
    "tags": []
   },
   "outputs": [
    {
     "data": {
      "text/plain": [
       "[('Late_Night', 0.15738931964263508),\n",
       " ('Morning', 0.529727781560397),\n",
       " ('Afternoon', 0.07381159030429209),\n",
       " ('Evening', 0.07737579254046621),\n",
       " ('Night', 0.16169551595220968)]"
      ]
     },
     "execution_count": 94,
     "metadata": {},
     "output_type": "execute_result"
    }
   ],
   "source": [
    "imp = list(zip(Xp, clfp.feature_importances_))\n",
    "imp"
   ]
  },
  {
   "cell_type": "code",
   "execution_count": 95,
   "id": "alternate-latino",
   "metadata": {
    "execution": {
     "iopub.execute_input": "2021-06-03T20:00:48.025154Z",
     "iopub.status.busy": "2021-06-03T20:00:48.024309Z",
     "iopub.status.idle": "2021-06-03T20:00:48.142627Z",
     "shell.execute_reply": "2021-06-03T20:00:48.142069Z",
     "shell.execute_reply.started": "2021-05-28T06:41:38.372673Z"
    },
    "papermill": {
     "duration": 0.295718,
     "end_time": "2021-06-03T20:00:48.142797",
     "exception": false,
     "start_time": "2021-06-03T20:00:47.847079",
     "status": "completed"
    },
    "tags": []
   },
   "outputs": [
    {
     "data": {
      "text/plain": [
       "60.3247643485638"
      ]
     },
     "execution_count": 95,
     "metadata": {},
     "output_type": "execute_result"
    }
   ],
   "source": [
    "accp = (metrics.accuracy_score(yp_test, yp_pred))* 100\n",
    "accp"
   ]
  },
  {
   "cell_type": "markdown",
   "id": "former-indication",
   "metadata": {
    "papermill": {
     "duration": 0.176214,
     "end_time": "2021-06-03T20:00:48.518080",
     "exception": false,
     "start_time": "2021-06-03T20:00:48.341866",
     "status": "completed"
    },
    "tags": []
   },
   "source": [
    "#### Observation\n",
    "- Much lower accuracy ~8% and poor F1 score without Ride Length included\n",
    "- Importance score for morning now reflective of the difference we saw in our analysis"
   ]
  },
  {
   "cell_type": "markdown",
   "id": "passing-metallic",
   "metadata": {
    "papermill": {
     "duration": 0.174429,
     "end_time": "2021-06-03T20:00:48.868287",
     "exception": false,
     "start_time": "2021-06-03T20:00:48.693858",
     "status": "completed"
    },
    "tags": []
   },
   "source": [
    "## Just the best performers:"
   ]
  },
  {
   "cell_type": "code",
   "execution_count": 96,
   "id": "foster-snake",
   "metadata": {
    "execution": {
     "iopub.execute_input": "2021-06-03T20:00:49.263226Z",
     "iopub.status.busy": "2021-06-03T20:00:49.262180Z",
     "iopub.status.idle": "2021-06-03T20:00:49.317903Z",
     "shell.execute_reply": "2021-06-03T20:00:49.317303Z",
     "shell.execute_reply.started": "2021-05-28T05:40:07.991873Z"
    },
    "papermill": {
     "duration": 0.27364,
     "end_time": "2021-06-03T20:00:49.318097",
     "exception": false,
     "start_time": "2021-06-03T20:00:49.044457",
     "status": "completed"
    },
    "tags": []
   },
   "outputs": [],
   "source": [
    "dfML_Best = dfML[['Ride_Type','Ride_Length', 'Morning', 'Hours', 'docked_bike']].copy()"
   ]
  },
  {
   "cell_type": "code",
   "execution_count": 97,
   "id": "meaning-participant",
   "metadata": {
    "execution": {
     "iopub.execute_input": "2021-06-03T20:00:49.714575Z",
     "iopub.status.busy": "2021-06-03T20:00:49.713740Z",
     "iopub.status.idle": "2021-06-03T20:06:25.553360Z",
     "shell.execute_reply": "2021-06-03T20:06:25.552059Z",
     "shell.execute_reply.started": "2021-05-28T05:40:08.071797Z"
    },
    "papermill": {
     "duration": 336.075104,
     "end_time": "2021-06-03T20:06:25.553585",
     "exception": false,
     "start_time": "2021-06-03T20:00:49.478481",
     "status": "completed"
    },
    "tags": []
   },
   "outputs": [],
   "source": [
    "yb = dfML_Best['Ride_Type']\n",
    "Xb = dfML_Best.drop(['Ride_Type'], axis=1)\n",
    "Xb_train, Xb_test, yb_train, yb_test = train_test_split(Xb,yb, test_size=0.3, random_state=30)\n",
    "\n",
    "clfb = RandomForestClassifier(n_estimators = 100, random_state = 20)\n",
    "rfb_train = clfb.fit(Xb_train,yb_train)\n",
    "\n",
    "yb_pred = clfb.predict(Xb_test)"
   ]
  },
  {
   "cell_type": "code",
   "execution_count": 98,
   "id": "printable-number",
   "metadata": {
    "execution": {
     "iopub.execute_input": "2021-06-03T20:06:25.957118Z",
     "iopub.status.busy": "2021-06-03T20:06:25.956265Z",
     "iopub.status.idle": "2021-06-03T20:07:36.949370Z",
     "shell.execute_reply": "2021-06-03T20:07:36.949867Z",
     "shell.execute_reply.started": "2021-05-28T05:44:43.524787Z"
    },
    "papermill": {
     "duration": 71.202328,
     "end_time": "2021-06-03T20:07:36.950083",
     "exception": false,
     "start_time": "2021-06-03T20:06:25.747755",
     "status": "completed"
    },
    "tags": []
   },
   "outputs": [
    {
     "data": {
      "text/plain": [
       "array([[0.4839786 , 0.5160214 ],\n",
       "       [0.28049451, 0.71950549],\n",
       "       [0.39331349, 0.60668651],\n",
       "       [0.38165781, 0.61834219],\n",
       "       [0.76750227, 0.23249773]])"
      ]
     },
     "execution_count": 98,
     "metadata": {},
     "output_type": "execute_result"
    }
   ],
   "source": [
    "clfb.predict_proba(Xb)[0:5]"
   ]
  },
  {
   "cell_type": "code",
   "execution_count": 99,
   "id": "bound-detection",
   "metadata": {
    "execution": {
     "iopub.execute_input": "2021-06-03T20:07:37.260349Z",
     "iopub.status.busy": "2021-06-03T20:07:37.259631Z",
     "iopub.status.idle": "2021-06-03T20:07:39.292207Z",
     "shell.execute_reply": "2021-06-03T20:07:39.291611Z",
     "shell.execute_reply.started": "2021-05-28T05:45:50.898685Z"
    },
    "papermill": {
     "duration": 2.189236,
     "end_time": "2021-06-03T20:07:39.292358",
     "exception": false,
     "start_time": "2021-06-03T20:07:37.103122",
     "status": "completed"
    },
    "tags": []
   },
   "outputs": [
    {
     "name": "stdout",
     "output_type": "stream",
     "text": [
      "              precision    recall  f1-score   support\n",
      "\n",
      "           0       0.70      0.39      0.50    469897\n",
      "           1       0.68      0.88      0.77    678197\n",
      "\n",
      "    accuracy                           0.68   1148094\n",
      "   macro avg       0.69      0.64      0.63   1148094\n",
      "weighted avg       0.68      0.68      0.66   1148094\n",
      "\n"
     ]
    }
   ],
   "source": [
    "print(classification_report(yb_test, yb_pred))"
   ]
  },
  {
   "cell_type": "code",
   "execution_count": 100,
   "id": "combined-harris",
   "metadata": {
    "execution": {
     "iopub.execute_input": "2021-06-03T20:07:39.603010Z",
     "iopub.status.busy": "2021-06-03T20:07:39.602010Z",
     "iopub.status.idle": "2021-06-03T20:07:39.644057Z",
     "shell.execute_reply": "2021-06-03T20:07:39.644510Z",
     "shell.execute_reply.started": "2021-05-28T05:45:50.748852Z"
    },
    "papermill": {
     "duration": 0.20007,
     "end_time": "2021-06-03T20:07:39.644699",
     "exception": false,
     "start_time": "2021-06-03T20:07:39.444629",
     "status": "completed"
    },
    "tags": []
   },
   "outputs": [
    {
     "data": {
      "text/plain": [
       "[('Ride_Length', 0.8243837434194785),\n",
       " ('Morning', 0.06240566371097246),\n",
       " ('Hours', 0.0885023400386055),\n",
       " ('docked_bike', 0.02470825283094355)]"
      ]
     },
     "execution_count": 100,
     "metadata": {},
     "output_type": "execute_result"
    }
   ],
   "source": [
    "impb = list(zip(Xb, clfb.feature_importances_))\n",
    "impb"
   ]
  },
  {
   "cell_type": "code",
   "execution_count": 101,
   "id": "surprising-dimension",
   "metadata": {
    "execution": {
     "iopub.execute_input": "2021-06-03T20:07:39.955500Z",
     "iopub.status.busy": "2021-06-03T20:07:39.954768Z",
     "iopub.status.idle": "2021-06-03T20:07:40.062851Z",
     "shell.execute_reply": "2021-06-03T20:07:40.062319Z",
     "shell.execute_reply.started": "2021-05-28T06:44:43.597903Z"
    },
    "papermill": {
     "duration": 0.266356,
     "end_time": "2021-06-03T20:07:40.063014",
     "exception": false,
     "start_time": "2021-06-03T20:07:39.796658",
     "status": "completed"
    },
    "tags": []
   },
   "outputs": [
    {
     "data": {
      "text/plain": [
       "68.03920236496315"
      ]
     },
     "execution_count": 101,
     "metadata": {},
     "output_type": "execute_result"
    }
   ],
   "source": [
    "accb= (metrics.accuracy_score(yb_test, yb_pred)) * 100\n",
    "accb"
   ]
  },
  {
   "cell_type": "markdown",
   "id": "metropolitan-picking",
   "metadata": {
    "papermill": {
     "duration": 0.151592,
     "end_time": "2021-06-03T20:07:40.365450",
     "exception": false,
     "start_time": "2021-06-03T20:07:40.213858",
     "status": "completed"
    },
    "tags": []
   },
   "source": [
    "#### Observation\n",
    "- Only slightly worse performance then with all our variables, 0.8% accuracy\n",
    "- Once again, heavily weighted on Ride Length"
   ]
  },
  {
   "cell_type": "markdown",
   "id": "powerful-ontario",
   "metadata": {
    "papermill": {
     "duration": 0.151335,
     "end_time": "2021-06-03T20:07:40.667957",
     "exception": false,
     "start_time": "2021-06-03T20:07:40.516622",
     "status": "completed"
    },
    "tags": []
   },
   "source": [
    "# Final thoughts\n",
    "\n",
    "- Ride Length comes out the heavy winner in most important variable when trying to determine if a ride was casual or a member \n",
    "- Business accumen on this industry and the city of Chicago, along with further user data could help with our assessment\n",
    "- Much more time could be spent trying different algorithms, adjusting our variables and hypertuneing"
   ]
  },
  {
   "cell_type": "markdown",
   "id": "backed-trance",
   "metadata": {
    "papermill": {
     "duration": 0.15477,
     "end_time": "2021-06-03T20:07:40.975420",
     "exception": false,
     "start_time": "2021-06-03T20:07:40.820650",
     "status": "completed"
    },
    "tags": []
   },
   "source": [
    "# Final Note:\n",
    "\n",
    "To anyone tha makes it this far, thanks for reading.  I'd appreciate any feedback.  Many of these steps could have been simplified, but I've enjoyed experimenting in different areas.\n",
    "\n",
    "### To do:\n",
    "- Code and Text clean up\n",
    "- Consistent formatting\n",
    "- Create a data cleaning summary\n"
   ]
  }
 ],
 "metadata": {
  "kernelspec": {
   "display_name": "Python 3",
   "language": "python",
   "name": "python3"
  },
  "language_info": {
   "codemirror_mode": {
    "name": "ipython",
    "version": 3
   },
   "file_extension": ".py",
   "mimetype": "text/x-python",
   "name": "python",
   "nbconvert_exporter": "python",
   "pygments_lexer": "ipython3",
   "version": "3.7.10"
  },
  "papermill": {
   "default_parameters": {},
   "duration": 2778.208101,
   "end_time": "2021-06-03T20:07:43.635699",
   "environment_variables": {},
   "exception": null,
   "input_path": "__notebook__.ipynb",
   "output_path": "__notebook__.ipynb",
   "parameters": {},
   "start_time": "2021-06-03T19:21:25.427598",
   "version": "2.3.3"
  }
 },
 "nbformat": 4,
 "nbformat_minor": 5
}
